{
 "cells": [
  {
   "cell_type": "code",
   "execution_count": 1,
   "metadata": {},
   "outputs": [],
   "source": [
    "import sqlite3\n",
    "import pandas as pd\n"
   ]
  },
  {
   "cell_type": "code",
   "execution_count": 2,
   "metadata": {},
   "outputs": [
    {
     "data": {
      "text/html": [
       "<div>\n",
       "<style scoped>\n",
       "    .dataframe tbody tr th:only-of-type {\n",
       "        vertical-align: middle;\n",
       "    }\n",
       "\n",
       "    .dataframe tbody tr th {\n",
       "        vertical-align: top;\n",
       "    }\n",
       "\n",
       "    .dataframe thead th {\n",
       "        text-align: right;\n",
       "    }\n",
       "</style>\n",
       "<table border=\"1\" class=\"dataframe\">\n",
       "  <thead>\n",
       "    <tr style=\"text-align: right;\">\n",
       "      <th></th>\n",
       "      <th>Report Time</th>\n",
       "      <th>Product Name</th>\n",
       "      <th>Sub Product</th>\n",
       "      <th>RegionName</th>\n",
       "      <th>MarketName</th>\n",
       "      <th>TermName</th>\n",
       "      <th>Value</th>\n",
       "      <th>Unit</th>\n",
       "    </tr>\n",
       "  </thead>\n",
       "  <tbody>\n",
       "    <tr>\n",
       "      <th>0</th>\n",
       "      <td>2023-04-28</td>\n",
       "      <td>Woven Yarn</td>\n",
       "      <td>10/1 Carded</td>\n",
       "      <td>Asia</td>\n",
       "      <td>Pakistan</td>\n",
       "      <td>CNF</td>\n",
       "      <td>2.70</td>\n",
       "      <td>USD/Kg</td>\n",
       "    </tr>\n",
       "    <tr>\n",
       "      <th>1</th>\n",
       "      <td>2023-04-27</td>\n",
       "      <td>Woven Yarn</td>\n",
       "      <td>10/1 Carded</td>\n",
       "      <td>Asia</td>\n",
       "      <td>Pakistan</td>\n",
       "      <td>CNF</td>\n",
       "      <td>2.70</td>\n",
       "      <td>USD/Kg</td>\n",
       "    </tr>\n",
       "    <tr>\n",
       "      <th>2</th>\n",
       "      <td>2023-04-26</td>\n",
       "      <td>Woven Yarn</td>\n",
       "      <td>10/1 Carded</td>\n",
       "      <td>Asia</td>\n",
       "      <td>Pakistan</td>\n",
       "      <td>CNF</td>\n",
       "      <td>2.71</td>\n",
       "      <td>USD/Kg</td>\n",
       "    </tr>\n",
       "    <tr>\n",
       "      <th>3</th>\n",
       "      <td>2023-04-25</td>\n",
       "      <td>Woven Yarn</td>\n",
       "      <td>10/1 Carded</td>\n",
       "      <td>Asia</td>\n",
       "      <td>Pakistan</td>\n",
       "      <td>CNF</td>\n",
       "      <td>2.73</td>\n",
       "      <td>USD/Kg</td>\n",
       "    </tr>\n",
       "    <tr>\n",
       "      <th>4</th>\n",
       "      <td>2023-04-24</td>\n",
       "      <td>Woven Yarn</td>\n",
       "      <td>10/1 Carded</td>\n",
       "      <td>Asia</td>\n",
       "      <td>Pakistan</td>\n",
       "      <td>CNF</td>\n",
       "      <td>2.72</td>\n",
       "      <td>USD/Kg</td>\n",
       "    </tr>\n",
       "  </tbody>\n",
       "</table>\n",
       "</div>"
      ],
      "text/plain": [
       "  Report Time Product Name  Sub Product RegionName MarketName TermName  Value  \\\n",
       "0  2023-04-28   Woven Yarn  10/1 Carded       Asia   Pakistan      CNF   2.70   \n",
       "1  2023-04-27   Woven Yarn  10/1 Carded       Asia   Pakistan      CNF   2.70   \n",
       "2  2023-04-26   Woven Yarn  10/1 Carded       Asia   Pakistan      CNF   2.71   \n",
       "3  2023-04-25   Woven Yarn  10/1 Carded       Asia   Pakistan      CNF   2.73   \n",
       "4  2023-04-24   Woven Yarn  10/1 Carded       Asia   Pakistan      CNF   2.72   \n",
       "\n",
       "     Unit  \n",
       "0  USD/Kg  \n",
       "1  USD/Kg  \n",
       "2  USD/Kg  \n",
       "3  USD/Kg  \n",
       "4  USD/Kg  "
      ]
     },
     "execution_count": 2,
     "metadata": {},
     "output_type": "execute_result"
    }
   ],
   "source": [
    "df = pd.read_excel('./data/Row Material Sample Data.xlsx')\n",
    "df.head()"
   ]
  },
  {
   "cell_type": "code",
   "execution_count": 5,
   "metadata": {},
   "outputs": [
    {
     "data": {
      "text/plain": [
       "Report Time     datetime64[ns]\n",
       "Product Name            object\n",
       "Sub Product             object\n",
       "RegionName              object\n",
       "MarketName              object\n",
       "TermName                object\n",
       "Value                  float64\n",
       "Unit                    object\n",
       "dtype: object"
      ]
     },
     "execution_count": 5,
     "metadata": {},
     "output_type": "execute_result"
    }
   ],
   "source": [
    "df.dtypes"
   ]
  },
  {
   "cell_type": "code",
   "execution_count": 6,
   "metadata": {},
   "outputs": [],
   "source": [
    "# Connect to or create the database\n",
    "conn = sqlite3.connect('./data/tab_db.db')\n",
    "\n",
    "# Create a cursor object to execute SQL queries\n",
    "cursor = conn.cursor()"
   ]
  },
  {
   "cell_type": "code",
   "execution_count": 7,
   "metadata": {},
   "outputs": [],
   "source": [
    "table_name = 'tabular_data'\n",
    "\n",
    "# Load data from DataFrame to SQLite table\n",
    "df.to_sql(table_name, conn, if_exists='append', index=False)\n",
    "\n",
    "# Commit the changes to the database\n",
    "conn.commit()\n",
    "\n"
   ]
  }
 ],
 "metadata": {
  "kernelspec": {
   "display_name": "deeplakelangchain",
   "language": "python",
   "name": "python3"
  },
  "language_info": {
   "codemirror_mode": {
    "name": "ipython",
    "version": 3
   },
   "file_extension": ".py",
   "mimetype": "text/x-python",
   "name": "python",
   "nbconvert_exporter": "python",
   "pygments_lexer": "ipython3",
   "version": "3.10.11"
  },
  "orig_nbformat": 4
 },
 "nbformat": 4,
 "nbformat_minor": 2
}
