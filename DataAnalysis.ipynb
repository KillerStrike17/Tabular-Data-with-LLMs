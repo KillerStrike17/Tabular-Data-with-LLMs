{
 "cells": [
  {
   "cell_type": "code",
   "execution_count": 17,
   "metadata": {},
   "outputs": [],
   "source": [
    "\n",
    "from langchain.agents import create_sql_agent\n",
    "from langchain.agents.agent_toolkits import SQLDatabaseToolkit\n",
    "from langchain.sql_database import SQLDatabase\n",
    "from langchain.llms.openai import OpenAI\n",
    "from langchain.agents import AgentExecutor\n",
    "from langchain.agents.agent_types import AgentType\n",
    "from langchain.chat_models import ChatOpenAI\n",
    "from langchain import SQLDatabaseChain"
   ]
  },
  {
   "cell_type": "code",
   "execution_count": 2,
   "metadata": {},
   "outputs": [],
   "source": [
    "# dir(SQLDatabase)\n",
    "import os, sys\n",
    "sys.path.insert(1,'D:\\Github\\Tabular-Data-with-LLMs' )\n",
    "import credentials\n",
    "os.environ[\"OPENAI_API_KEY\"] = credentials.openai"
   ]
  },
  {
   "cell_type": "code",
   "execution_count": 15,
   "metadata": {},
   "outputs": [],
   "source": [
    "db = SQLDatabase.from_uri(\"sqlite:///data/tab_db.db\")\n",
    "llm=OpenAI(temperature=0, verbose=True)\n",
    "toolkit = SQLDatabaseToolkit(db=db,llm = llm )"
   ]
  },
  {
   "cell_type": "code",
   "execution_count": 18,
   "metadata": {},
   "outputs": [],
   "source": [
    "# dir(db)\n",
    "db_chain = SQLDatabaseChain.from_llm(llm, db, verbose=True,use_query_checker=True)"
   ]
  },
  {
   "cell_type": "code",
   "execution_count": 5,
   "metadata": {},
   "outputs": [
    {
     "data": {
      "text/plain": [
       "'\\nCREATE TABLE tabular_data (\\n\\t\"Report Time\" TEXT, \\n\\t\"Product Name\" TEXT, \\n\\t\"Sub Product\" TEXT, \\n\\t\"RegionName\" TEXT, \\n\\t\"MarketName\" TEXT, \\n\\t\"TermName\" TEXT, \\n\\t\"Value\" REAL, \\n\\t\"Unit\" TEXT, \\n\\t\"Index\" INTEGER, \\n\\tPRIMARY KEY (\"Index\")\\n)\\n\\n/*\\n3 rows from tabular_data table:\\nReport Time\\tProduct Name\\tSub Product\\tRegionName\\tMarketName\\tTermName\\tValue\\tUnit\\tIndex\\n2023-04-28 00:00:00\\tWoven Yarn\\t10/1 Carded\\tAsia\\tPakistan\\tCNF\\t2.7\\tUSD/Kg\\t1\\n2023-04-27 00:00:00\\tWoven Yarn\\t10/1 Carded\\tAsia\\tPakistan\\tCNF\\t2.7\\tUSD/Kg\\t2\\n2023-04-26 00:00:00\\tWoven Yarn\\t10/1 Carded\\tAsia\\tPakistan\\tCNF\\t2.71\\tUSD/Kg\\t3\\n*/'"
      ]
     },
     "execution_count": 5,
     "metadata": {},
     "output_type": "execute_result"
    }
   ],
   "source": [
    "db.table_info"
   ]
  },
  {
   "cell_type": "code",
   "execution_count": 6,
   "metadata": {},
   "outputs": [],
   "source": [
    "agent_executor = create_sql_agent(\n",
    "    llm=OpenAI(temperature=0),\n",
    "    toolkit=toolkit,\n",
    "    verbose=True,\n",
    "    agent_type=AgentType.ZERO_SHOT_REACT_DESCRIPTION,\n",
    ")"
   ]
  },
  {
   "attachments": {},
   "cell_type": "markdown",
   "metadata": {},
   "source": [
    "### Query 1"
   ]
  },
  {
   "cell_type": "code",
   "execution_count": 31,
   "metadata": {},
   "outputs": [
    {
     "name": "stdout",
     "output_type": "stream",
     "text": [
      "\n",
      "\n",
      "\u001b[1m> Entering new  chain...\u001b[0m\n",
      "\u001b[32;1m\u001b[1;3mAction: sql_db_list_tables\n",
      "Action Input: \"\"\u001b[0m\n",
      "Observation: \u001b[38;5;200m\u001b[1;3mtabular_data\u001b[0m\n",
      "Thought:"
     ]
    },
    {
     "name": "stderr",
     "output_type": "stream",
     "text": [
      "Retrying langchain.chat_models.openai.ChatOpenAI.completion_with_retry.<locals>._completion_with_retry in 1.0 seconds as it raised RateLimitError: Rate limit reached for default-gpt-3.5-turbo in organization org-7HlIzTE4t8bX3AQSA54PpMCH on requests per min. Limit: 3 / min. Please try again in 20s. Contact us through our help center at help.openai.com if you continue to have issues. Please add a payment method to your account to increase your rate limit. Visit https://platform.openai.com/account/billing to add a payment method..\n",
      "Retrying langchain.chat_models.openai.ChatOpenAI.completion_with_retry.<locals>._completion_with_retry in 2.0 seconds as it raised RateLimitError: Rate limit reached for default-gpt-3.5-turbo in organization org-7HlIzTE4t8bX3AQSA54PpMCH on requests per min. Limit: 3 / min. Please try again in 20s. Contact us through our help center at help.openai.com if you continue to have issues. Please add a payment method to your account to increase your rate limit. Visit https://platform.openai.com/account/billing to add a payment method..\n",
      "Retrying langchain.chat_models.openai.ChatOpenAI.completion_with_retry.<locals>._completion_with_retry in 4.0 seconds as it raised RateLimitError: Rate limit reached for default-gpt-3.5-turbo in organization org-7HlIzTE4t8bX3AQSA54PpMCH on requests per min. Limit: 3 / min. Please try again in 20s. Contact us through our help center at help.openai.com if you continue to have issues. Please add a payment method to your account to increase your rate limit. Visit https://platform.openai.com/account/billing to add a payment method..\n",
      "Retrying langchain.chat_models.openai.ChatOpenAI.completion_with_retry.<locals>._completion_with_retry in 8.0 seconds as it raised RateLimitError: Rate limit reached for default-gpt-3.5-turbo in organization org-7HlIzTE4t8bX3AQSA54PpMCH on requests per min. Limit: 3 / min. Please try again in 20s. Contact us through our help center at help.openai.com if you continue to have issues. Please add a payment method to your account to increase your rate limit. Visit https://platform.openai.com/account/billing to add a payment method..\n"
     ]
    },
    {
     "name": "stdout",
     "output_type": "stream",
     "text": [
      "\u001b[32;1m\u001b[1;3mI see that there is a table called \"tabular_data\" in the database. Now I can query the schema of this table.\n",
      "Action: sql_db_schema\n",
      "Action Input: \"tabular_data\"\u001b[0m\n",
      "Observation: \u001b[33;1m\u001b[1;3m\n",
      "CREATE TABLE tabular_data (\n",
      "\t\"Report Time\" TEXT, \n",
      "\t\"Product Name\" TEXT, \n",
      "\t\"Sub Product\" TEXT, \n",
      "\t\"RegionName\" TEXT, \n",
      "\t\"MarketName\" TEXT, \n",
      "\t\"TermName\" TEXT, \n",
      "\t\"Value\" REAL, \n",
      "\t\"Unit\" TEXT, \n",
      "\t\"Index\" INTEGER, \n",
      "\tPRIMARY KEY (\"Index\")\n",
      ")\n",
      "\n",
      "/*\n",
      "3 rows from tabular_data table:\n",
      "Report Time\tProduct Name\tSub Product\tRegionName\tMarketName\tTermName\tValue\tUnit\tIndex\n",
      "2023-04-28 00:00:00\tWoven Yarn\t10/1 Carded\tAsia\tPakistan\tCNF\t2.7\tUSD/Kg\t1\n",
      "2023-04-27 00:00:00\tWoven Yarn\t10/1 Carded\tAsia\tPakistan\tCNF\t2.7\tUSD/Kg\t2\n",
      "2023-04-26 00:00:00\tWoven Yarn\t10/1 Carded\tAsia\tPakistan\tCNF\t2.71\tUSD/Kg\t3\n",
      "*/\u001b[0m\n",
      "Thought:"
     ]
    },
    {
     "name": "stderr",
     "output_type": "stream",
     "text": [
      "Retrying langchain.chat_models.openai.ChatOpenAI.completion_with_retry.<locals>._completion_with_retry in 1.0 seconds as it raised RateLimitError: Rate limit reached for default-gpt-3.5-turbo in organization org-7HlIzTE4t8bX3AQSA54PpMCH on requests per min. Limit: 3 / min. Please try again in 20s. Contact us through our help center at help.openai.com if you continue to have issues. Please add a payment method to your account to increase your rate limit. Visit https://platform.openai.com/account/billing to add a payment method..\n",
      "Retrying langchain.chat_models.openai.ChatOpenAI.completion_with_retry.<locals>._completion_with_retry in 2.0 seconds as it raised RateLimitError: Rate limit reached for default-gpt-3.5-turbo in organization org-7HlIzTE4t8bX3AQSA54PpMCH on requests per min. Limit: 3 / min. Please try again in 20s. Contact us through our help center at help.openai.com if you continue to have issues. Please add a payment method to your account to increase your rate limit. Visit https://platform.openai.com/account/billing to add a payment method..\n",
      "Retrying langchain.chat_models.openai.ChatOpenAI.completion_with_retry.<locals>._completion_with_retry in 4.0 seconds as it raised RateLimitError: Rate limit reached for default-gpt-3.5-turbo in organization org-7HlIzTE4t8bX3AQSA54PpMCH on requests per min. Limit: 3 / min. Please try again in 20s. Contact us through our help center at help.openai.com if you continue to have issues. Please add a payment method to your account to increase your rate limit. Visit https://platform.openai.com/account/billing to add a payment method..\n",
      "Retrying langchain.chat_models.openai.ChatOpenAI.completion_with_retry.<locals>._completion_with_retry in 8.0 seconds as it raised RateLimitError: Rate limit reached for default-gpt-3.5-turbo in organization org-7HlIzTE4t8bX3AQSA54PpMCH on requests per min. Limit: 3 / min. Please try again in 20s. Contact us through our help center at help.openai.com if you continue to have issues. Please add a payment method to your account to increase your rate limit. Visit https://platform.openai.com/account/billing to add a payment method..\n"
     ]
    },
    {
     "name": "stdout",
     "output_type": "stream",
     "text": [
      "\u001b[32;1m\u001b[1;3mThe \"tabular_data\" table has the following columns:\n",
      "- Report Time\n",
      "- Product Name\n",
      "- Sub Product\n",
      "- RegionName\n",
      "- MarketName\n",
      "- TermName\n",
      "- Value\n",
      "- Unit\n",
      "- Index\n",
      "\n",
      "The primary key of this table is the \"Index\" column.\n",
      "\n",
      "The table contains 3 rows of data.\n",
      "\n",
      "Final Answer: The \"tabular_data\" table has 9 columns and 3 rows of data.\u001b[0m\n",
      "\n",
      "\u001b[1m> Finished chain.\u001b[0m\n"
     ]
    },
    {
     "data": {
      "text/plain": [
       "'The \"tabular_data\" table has 9 columns and 3 rows of data.'"
      ]
     },
     "execution_count": 31,
     "metadata": {},
     "output_type": "execute_result"
    }
   ],
   "source": [
    "# Describe your query here\n",
    "query = \"\"\"\\\n",
    "Describe the tabular_data table\n",
    "\"\"\"\n",
    "\n",
    "agent_executor.run(query)"
   ]
  },
  {
   "attachments": {},
   "cell_type": "markdown",
   "metadata": {},
   "source": [
    "### Query 2"
   ]
  },
  {
   "cell_type": "code",
   "execution_count": 10,
   "metadata": {},
   "outputs": [
    {
     "name": "stdout",
     "output_type": "stream",
     "text": [
      "\n",
      "\n",
      "\u001b[1m> Entering new  chain...\u001b[0m\n",
      "\u001b[32;1m\u001b[1;3mAction: sql_db_list_tables\n",
      "Action Input: \"\"\u001b[0m\n",
      "Observation: \u001b[38;5;200m\u001b[1;3mtabular_data\u001b[0m\n",
      "Thought:\u001b[32;1m\u001b[1;3m I should query the schema of the tabular_data table to see what columns I can use.\n",
      "Action: sql_db_schema\n",
      "Action Input: tabular_data\u001b[0m\n",
      "Observation: \u001b[33;1m\u001b[1;3m\n",
      "CREATE TABLE tabular_data (\n",
      "\t\"Report Time\" TEXT, \n",
      "\t\"Product Name\" TEXT, \n",
      "\t\"Sub Product\" TEXT, \n",
      "\t\"RegionName\" TEXT, \n",
      "\t\"MarketName\" TEXT, \n",
      "\t\"TermName\" TEXT, \n",
      "\t\"Value\" REAL, \n",
      "\t\"Unit\" TEXT, \n",
      "\t\"Index\" INTEGER, \n",
      "\tPRIMARY KEY (\"Index\")\n",
      ")\n",
      "\n",
      "/*\n",
      "3 rows from tabular_data table:\n",
      "Report Time\tProduct Name\tSub Product\tRegionName\tMarketName\tTermName\tValue\tUnit\tIndex\n",
      "2023-04-28 00:00:00\tWoven Yarn\t10/1 Carded\tAsia\tPakistan\tCNF\t2.7\tUSD/Kg\t1\n",
      "2023-04-27 00:00:00\tWoven Yarn\t10/1 Carded\tAsia\tPakistan\tCNF\t2.7\tUSD/Kg\t2\n",
      "2023-04-26 00:00:00\tWoven Yarn\t10/1 Carded\tAsia\tPakistan\tCNF\t2.71\tUSD/Kg\t3\n",
      "*/\u001b[0m\n",
      "Thought:\u001b[32;1m\u001b[1;3m I should query the tabular_data table for the average price of the last 2 years of Product Knitting yarn with sub product 40/1 carded.\n",
      "Action: sql_db_query\n",
      "Action Input: SELECT AVG(Value) FROM tabular_data WHERE \"Product Name\" = 'Knitting Yarn' AND \"Sub Product\" = '40/1 Carded' AND \"Report Time\" > DATE('now', '-2 years');\u001b[0m\n",
      "Observation: \u001b[36;1m\u001b[1;3m[(9252.599747722485,)]\u001b[0m\n",
      "Thought:\u001b[32;1m\u001b[1;3m I now know the final answer.\n",
      "Final Answer: The average price of the last 2 years of Product Knitting yarn with sub product 40/1 carded is 9252.599747722485.\u001b[0m\n",
      "\n",
      "\u001b[1m> Finished chain.\u001b[0m\n"
     ]
    },
    {
     "data": {
      "text/plain": [
       "'The average price of the last 2 years of Product Knitting yarn with sub product 40/1 carded is 9252.599747722485.'"
      ]
     },
     "execution_count": 10,
     "metadata": {},
     "output_type": "execute_result"
    }
   ],
   "source": [
    "# Describe your query here\n",
    "query = \"\"\"\\\n",
    "What is the average price of the last 2 years of Product Knitting yarn with sub product 40/1 carded?\n",
    "\"\"\"\n",
    "\n",
    "agent_executor.run(query)"
   ]
  },
  {
   "attachments": {},
   "cell_type": "markdown",
   "metadata": {},
   "source": [
    "### Query 3"
   ]
  },
  {
   "cell_type": "code",
   "execution_count": 11,
   "metadata": {},
   "outputs": [
    {
     "name": "stdout",
     "output_type": "stream",
     "text": [
      "\n",
      "\n",
      "\u001b[1m> Entering new  chain...\u001b[0m\n",
      "\u001b[32;1m\u001b[1;3mAction: sql_db_list_tables\n",
      "Action Input: \"\"\u001b[0m\n",
      "Observation: \u001b[38;5;200m\u001b[1;3mtabular_data\u001b[0m\n",
      "Thought:\u001b[32;1m\u001b[1;3m I should query the schema of the tabular_data table to see what columns I can use.\n",
      "Action: sql_db_schema\n",
      "Action Input: tabular_data\u001b[0m\n",
      "Observation: \u001b[33;1m\u001b[1;3m\n",
      "CREATE TABLE tabular_data (\n",
      "\t\"Report Time\" TEXT, \n",
      "\t\"Product Name\" TEXT, \n",
      "\t\"Sub Product\" TEXT, \n",
      "\t\"RegionName\" TEXT, \n",
      "\t\"MarketName\" TEXT, \n",
      "\t\"TermName\" TEXT, \n",
      "\t\"Value\" REAL, \n",
      "\t\"Unit\" TEXT, \n",
      "\t\"Index\" INTEGER, \n",
      "\tPRIMARY KEY (\"Index\")\n",
      ")\n",
      "\n",
      "/*\n",
      "3 rows from tabular_data table:\n",
      "Report Time\tProduct Name\tSub Product\tRegionName\tMarketName\tTermName\tValue\tUnit\tIndex\n",
      "2023-04-28 00:00:00\tWoven Yarn\t10/1 Carded\tAsia\tPakistan\tCNF\t2.7\tUSD/Kg\t1\n",
      "2023-04-27 00:00:00\tWoven Yarn\t10/1 Carded\tAsia\tPakistan\tCNF\t2.7\tUSD/Kg\t2\n",
      "2023-04-26 00:00:00\tWoven Yarn\t10/1 Carded\tAsia\tPakistan\tCNF\t2.71\tUSD/Kg\t3\n",
      "*/\u001b[0m\n",
      "Thought:\u001b[32;1m\u001b[1;3m I should query the tabular_data table for the average price of Product Knitting yarn with sub product 40/1 carded in the year 2023.\n",
      "Action: sql_db_query\n",
      "Action Input: SELECT AVG(Value) FROM tabular_data WHERE \"Product Name\" = 'Knitting Yarn' AND \"Sub Product\" = '40/1 Carded' AND \"Report Time\" LIKE '2023%'\u001b[0m\n",
      "Observation: \u001b[36;1m\u001b[1;3m[(8126.5807058823375,)]\u001b[0m\n",
      "Thought:\u001b[32;1m\u001b[1;3m I now know the final answer.\n",
      "Final Answer: The average price of Product Knitting yarn with sub product 40/1 carded in the year 2023 is 8126.5807058823375 USD/Kg.\u001b[0m\n",
      "\n",
      "\u001b[1m> Finished chain.\u001b[0m\n"
     ]
    },
    {
     "data": {
      "text/plain": [
       "'The average price of Product Knitting yarn with sub product 40/1 carded in the year 2023 is 8126.5807058823375 USD/Kg.'"
      ]
     },
     "execution_count": 11,
     "metadata": {},
     "output_type": "execute_result"
    }
   ],
   "source": [
    "# Describe your query here\n",
    "query = \"\"\"\\\n",
    "What is the average price of the year 2023 of Product Knitting yarn with sub product 40/1 carded for each Unit type?\n",
    "\"\"\"\n",
    "\n",
    "agent_executor.run(query)"
   ]
  },
  {
   "attachments": {},
   "cell_type": "markdown",
   "metadata": {},
   "source": [
    "### Query 4"
   ]
  },
  {
   "cell_type": "code",
   "execution_count": 12,
   "metadata": {},
   "outputs": [
    {
     "name": "stdout",
     "output_type": "stream",
     "text": [
      "\n",
      "\n",
      "\u001b[1m> Entering new  chain...\u001b[0m\n",
      "\u001b[32;1m\u001b[1;3mAction: sql_db_list_tables\n",
      "Action Input: \"\"\u001b[0m\n",
      "Observation: \u001b[38;5;200m\u001b[1;3mtabular_data\u001b[0m\n",
      "Thought:\u001b[32;1m\u001b[1;3m I should query the schema of the tabular_data table to see what columns I can use.\n",
      "Action: sql_db_schema\n",
      "Action Input: tabular_data\u001b[0m\n",
      "Observation: \u001b[33;1m\u001b[1;3m\n",
      "CREATE TABLE tabular_data (\n",
      "\t\"Report Time\" TEXT, \n",
      "\t\"Product Name\" TEXT, \n",
      "\t\"Sub Product\" TEXT, \n",
      "\t\"RegionName\" TEXT, \n",
      "\t\"MarketName\" TEXT, \n",
      "\t\"TermName\" TEXT, \n",
      "\t\"Value\" REAL, \n",
      "\t\"Unit\" TEXT, \n",
      "\t\"Index\" INTEGER, \n",
      "\tPRIMARY KEY (\"Index\")\n",
      ")\n",
      "\n",
      "/*\n",
      "3 rows from tabular_data table:\n",
      "Report Time\tProduct Name\tSub Product\tRegionName\tMarketName\tTermName\tValue\tUnit\tIndex\n",
      "2023-04-28 00:00:00\tWoven Yarn\t10/1 Carded\tAsia\tPakistan\tCNF\t2.7\tUSD/Kg\t1\n",
      "2023-04-27 00:00:00\tWoven Yarn\t10/1 Carded\tAsia\tPakistan\tCNF\t2.7\tUSD/Kg\t2\n",
      "2023-04-26 00:00:00\tWoven Yarn\t10/1 Carded\tAsia\tPakistan\tCNF\t2.71\tUSD/Kg\t3\n",
      "*/\u001b[0m\n",
      "Thought:\u001b[32;1m\u001b[1;3m I should query the tabular_data table for the average price of Product Knitting yarn with sub product 40/1 carded for each Unit type in the year 2023.\n",
      "Action: sql_db_query\n",
      "Action Input: SELECT AVG(Value), Unit FROM tabular_data WHERE \"Product Name\" = 'Knitting Yarn' AND \"Sub Product\" = '40/1 Carded' AND \"Report Time\" LIKE '2023%' GROUP BY Unit\u001b[0m\n",
      "Observation: \u001b[36;1m\u001b[1;3m[(24110.491176470587, 'CNY/mt'), (265.5882352941176, 'INR/Kg'), (3.662705882352941, 'USD/Kg')]\u001b[0m\n",
      "Thought:\u001b[32;1m\u001b[1;3m I now know the final answer.\n",
      "Final Answer: The average price of Product Knitting yarn with sub product 40/1 carded for each Unit type in the year 2023 is 24110.49 CNY/mt, 265.59 INR/Kg, and 3.66 USD/Kg.\u001b[0m\n",
      "\n",
      "\u001b[1m> Finished chain.\u001b[0m\n"
     ]
    },
    {
     "data": {
      "text/plain": [
       "'The average price of Product Knitting yarn with sub product 40/1 carded for each Unit type in the year 2023 is 24110.49 CNY/mt, 265.59 INR/Kg, and 3.66 USD/Kg.'"
      ]
     },
     "execution_count": 12,
     "metadata": {},
     "output_type": "execute_result"
    }
   ],
   "source": [
    "# Describe your query here\n",
    "query = \"\"\"\\\n",
    "What is the average price of the year 2023 of Product Knitting yarn with sub product 40/1 carded for each Unit type?\n",
    "\"\"\"\n",
    "\n",
    "agent_executor.run(query)"
   ]
  },
  {
   "attachments": {},
   "cell_type": "markdown",
   "metadata": {},
   "source": [
    "### Query 5"
   ]
  },
  {
   "cell_type": "code",
   "execution_count": 19,
   "metadata": {},
   "outputs": [
    {
     "name": "stdout",
     "output_type": "stream",
     "text": [
      "\n",
      "\n",
      "\u001b[1m> Entering new  chain...\u001b[0m\n",
      "\u001b[32;1m\u001b[1;3mAction: sql_db_list_tables\n",
      "Action Input: \"\"\u001b[0m\n",
      "Observation: \u001b[38;5;200m\u001b[1;3mtabular_data\u001b[0m\n",
      "Thought:\u001b[32;1m\u001b[1;3m I should query the schema of the tabular_data table to see what columns I can use.\n",
      "Action: sql_db_schema\n",
      "Action Input: \"tabular_data\"\u001b[0m\n",
      "Observation: \u001b[33;1m\u001b[1;3m\n",
      "CREATE TABLE tabular_data (\n",
      "\t\"Report Time\" TEXT, \n",
      "\t\"Product Name\" TEXT, \n",
      "\t\"Sub Product\" TEXT, \n",
      "\t\"RegionName\" TEXT, \n",
      "\t\"MarketName\" TEXT, \n",
      "\t\"TermName\" TEXT, \n",
      "\t\"Value\" REAL, \n",
      "\t\"Unit\" TEXT, \n",
      "\t\"Index\" INTEGER, \n",
      "\tPRIMARY KEY (\"Index\")\n",
      ")\n",
      "\n",
      "/*\n",
      "3 rows from tabular_data table:\n",
      "Report Time\tProduct Name\tSub Product\tRegionName\tMarketName\tTermName\tValue\tUnit\tIndex\n",
      "2023-04-28 00:00:00\tWoven Yarn\t10/1 Carded\tAsia\tPakistan\tCNF\t2.7\tUSD/Kg\t1\n",
      "2023-04-27 00:00:00\tWoven Yarn\t10/1 Carded\tAsia\tPakistan\tCNF\t2.7\tUSD/Kg\t2\n",
      "2023-04-26 00:00:00\tWoven Yarn\t10/1 Carded\tAsia\tPakistan\tCNF\t2.71\tUSD/Kg\t3\n",
      "*/\u001b[0m\n",
      "Thought:\u001b[32;1m\u001b[1;3m I should query the tabular_data table for the average price of sub product 40/1 carded between 1st jan 2020 and 30th june 2020.\n",
      "Action: sql_db_query\n",
      "Action Input: SELECT AVG(Value) FROM tabular_data WHERE \"Sub Product\" = '40/1 Carded' AND \"Report Time\" BETWEEN '2020-01-01' AND '2020-06-30';\u001b[0m\n",
      "Observation: \u001b[36;1m\u001b[1;3m[(140.57953125000006,)]\u001b[0m\n",
      "Thought:\u001b[32;1m\u001b[1;3m I now know the final answer.\n",
      "Final Answer: The average price of sub product 40/1 carded between 1st jan 2020 and 30th june 2020 is 140.57953125000006.\u001b[0m\n",
      "\n",
      "\u001b[1m> Finished chain.\u001b[0m\n"
     ]
    },
    {
     "data": {
      "text/plain": [
       "'The average price of sub product 40/1 carded between 1st jan 2020 and 30th june 2020 is 140.57953125000006.'"
      ]
     },
     "execution_count": 19,
     "metadata": {},
     "output_type": "execute_result"
    }
   ],
   "source": [
    "# Describe your query here\n",
    "query = \"\"\"\\\n",
    "What is the average price from 1st jan 2020 to 1st july 2020 of sub product 40/1 carded?\n",
    "\"\"\"\n",
    "\n",
    "agent_executor.run(query)"
   ]
  },
  {
   "attachments": {},
   "cell_type": "markdown",
   "metadata": {},
   "source": [
    "### Query 6\n",
    "\n",
    "Not working"
   ]
  },
  {
   "cell_type": "code",
   "execution_count": 22,
   "metadata": {},
   "outputs": [
    {
     "name": "stdout",
     "output_type": "stream",
     "text": [
      "\n",
      "\n",
      "\u001b[1m> Entering new  chain...\u001b[0m\n",
      "\u001b[32;1m\u001b[1;3mAction: sql_db_list_tables\n",
      "Action Input: \u001b[0m\n",
      "Observation: \u001b[38;5;200m\u001b[1;3mtabular_data\u001b[0m\n",
      "Thought:\u001b[32;1m\u001b[1;3m I should query the schema of the tabular_data table to see what columns I can use.\n",
      "Action: sql_db_schema\n",
      "Action Input: tabular_data\u001b[0m\n",
      "Observation: \u001b[33;1m\u001b[1;3m\n",
      "CREATE TABLE tabular_data (\n",
      "\t\"Report Time\" TEXT, \n",
      "\t\"Product Name\" TEXT, \n",
      "\t\"Sub Product\" TEXT, \n",
      "\t\"RegionName\" TEXT, \n",
      "\t\"MarketName\" TEXT, \n",
      "\t\"TermName\" TEXT, \n",
      "\t\"Value\" REAL, \n",
      "\t\"Unit\" TEXT, \n",
      "\t\"Index\" INTEGER, \n",
      "\tPRIMARY KEY (\"Index\")\n",
      ")\n",
      "\n",
      "/*\n",
      "3 rows from tabular_data table:\n",
      "Report Time\tProduct Name\tSub Product\tRegionName\tMarketName\tTermName\tValue\tUnit\tIndex\n",
      "2023-04-28 00:00:00\tWoven Yarn\t10/1 Carded\tAsia\tPakistan\tCNF\t2.7\tUSD/Kg\t1\n",
      "2023-04-27 00:00:00\tWoven Yarn\t10/1 Carded\tAsia\tPakistan\tCNF\t2.7\tUSD/Kg\t2\n",
      "2023-04-26 00:00:00\tWoven Yarn\t10/1 Carded\tAsia\tPakistan\tCNF\t2.71\tUSD/Kg\t3\n",
      "*/\u001b[0m\n",
      "Thought:\u001b[32;1m\u001b[1;3m I should query the tabular_data table for the highest, lowest and average price of product Woven yarn for all subproducts of last 4 quarters of the Indian market.\n",
      "Action: sql_db_query\n",
      "Action Input: SELECT MAX(Value), MIN(Value), AVG(Value) FROM tabular_data WHERE ProductName = 'Woven Yarn' AND RegionName = 'India' AND ReportTime > DATE('now', '-4 quarter')\u001b[0m\n",
      "Observation: \u001b[36;1m\u001b[1;3mError: (sqlite3.OperationalError) no such column: ProductName\n",
      "[SQL: SELECT MAX(Value), MIN(Value), AVG(Value) FROM tabular_data WHERE ProductName = 'Woven Yarn' AND RegionName = 'India' AND ReportTime > DATE('now', '-4 quarter')]\n",
      "(Background on this error at: https://sqlalche.me/e/20/e3q8)\u001b[0m\n",
      "Thought:\u001b[32;1m\u001b[1;3m I should double check my query before executing it.\n",
      "Action: sql_db_query_checker\n",
      "Action Input: SELECT MAX(Value), MIN(Value), AVG(Value) FROM tabular_data WHERE ProductName = 'Woven Yarn' AND RegionName = 'India' AND ReportTime > DATE('now', '-4 quarter')\u001b[0m\n",
      "Observation: \u001b[36;1m\u001b[1;3m\n",
      "\n",
      "SELECT MAX(Value), MIN(Value), AVG(Value) \n",
      "FROM tabular_data \n",
      "WHERE ProductName = 'Woven Yarn' \n",
      "AND RegionName = 'India' \n",
      "AND ReportTime > DATE('now', '-4 quarter')\u001b[0m\n",
      "Thought:\u001b[32;1m\u001b[1;3m I should query the correct table fields.\n",
      "Action: schema_sql_db\n",
      "Action Input: tabular_data\u001b[0m\n",
      "Observation: schema_sql_db is not a valid tool, try another one.\n",
      "Thought:\u001b[32;1m\u001b[1;3m I should query the schema of the tabular_data table to see what columns I can use.\n",
      "Action: sql_db_schema\n",
      "Action Input: tabular_data\u001b[0m\n",
      "Observation: \u001b[33;1m\u001b[1;3m\n",
      "CREATE TABLE tabular_data (\n",
      "\t\"Report Time\" TEXT, \n",
      "\t\"Product Name\" TEXT, \n",
      "\t\"Sub Product\" TEXT, \n",
      "\t\"RegionName\" TEXT, \n",
      "\t\"MarketName\" TEXT, \n",
      "\t\"TermName\" TEXT, \n",
      "\t\"Value\" REAL, \n",
      "\t\"Unit\" TEXT, \n",
      "\t\"Index\" INTEGER, \n",
      "\tPRIMARY KEY (\"Index\")\n",
      ")\n",
      "\n",
      "/*\n",
      "3 rows from tabular_data table:\n",
      "Report Time\tProduct Name\tSub Product\tRegionName\tMarketName\tTermName\tValue\tUnit\tIndex\n",
      "2023-04-28 00:00:00\tWoven Yarn\t10/1 Carded\tAsia\tPakistan\tCNF\t2.7\tUSD/Kg\t1\n",
      "2023-04-27 00:00:00\tWoven Yarn\t10/1 Carded\tAsia\tPakistan\tCNF\t2.7\tUSD/Kg\t2\n",
      "2023-04-26 00:00:00\tWoven Yarn\t10/1 Carded\tAsia\tPakistan\tCNF\t2.71\tUSD/Kg\t3\n",
      "*/\u001b[0m\n",
      "Thought:\u001b[32;1m\u001b[1;3m I should query the tabular_data table for the highest, lowest and average price of product Woven yarn for all subproducts of last 4 quarters of the Indian market.\n",
      "Action: sql_db_query\n",
      "Action Input: SELECT MAX(\"Value\"), MIN(\"Value\"), AVG(\"Value\") FROM tabular_data WHERE \"Product Name\" = 'Woven Yarn' AND \"RegionName\" = 'India' AND \"Report Time\" > DATE('now', '-4 quarter')\u001b[0m\n",
      "Observation: \u001b[36;1m\u001b[1;3m[(None, None, None)]\u001b[0m\n",
      "Thought:\u001b[32;1m\u001b[1;3m I now know the final answer\n",
      "Final Answer: The Highest, Lowest and Average price of product Woven yarn for all subproducts of last 4 quarters of the Indian market is None, None and None respectively.\u001b[0m\n",
      "\n",
      "\u001b[1m> Finished chain.\u001b[0m\n"
     ]
    },
    {
     "data": {
      "text/plain": [
       "'The Highest, Lowest and Average price of product Woven yarn for all subproducts of last 4 quarters of the Indian market is None, None and None respectively.'"
      ]
     },
     "execution_count": 22,
     "metadata": {},
     "output_type": "execute_result"
    }
   ],
   "source": [
    "# Describe your query here\n",
    "query = \"\"\"\\\n",
    "What is a Highest, Lowest and Average price of product Woven yarn for all subproducts of last 4 quarters of the Indian market?\n",
    "\"\"\"\n",
    "\n",
    "agent_executor.run(query)"
   ]
  },
  {
   "attachments": {},
   "cell_type": "markdown",
   "metadata": {},
   "source": [
    "### Query 7"
   ]
  },
  {
   "cell_type": "code",
   "execution_count": 25,
   "metadata": {},
   "outputs": [
    {
     "name": "stdout",
     "output_type": "stream",
     "text": [
      "\n",
      "\n",
      "\u001b[1m> Entering new  chain...\u001b[0m\n",
      "\u001b[32;1m\u001b[1;3mAction: sql_db_list_tables\n",
      "Action Input: \"\"\u001b[0m\n",
      "Observation: \u001b[38;5;200m\u001b[1;3mtabular_data\u001b[0m\n",
      "Thought:\u001b[32;1m\u001b[1;3m I should query the schema of the tabular_data table to see what columns I can use.\n",
      "Action: sql_db_schema\n",
      "Action Input: tabular_data\u001b[0m\n",
      "Observation: \u001b[33;1m\u001b[1;3m\n",
      "CREATE TABLE tabular_data (\n",
      "\t\"Report Time\" TEXT, \n",
      "\t\"Product Name\" TEXT, \n",
      "\t\"Sub Product\" TEXT, \n",
      "\t\"RegionName\" TEXT, \n",
      "\t\"MarketName\" TEXT, \n",
      "\t\"TermName\" TEXT, \n",
      "\t\"Value\" REAL, \n",
      "\t\"Unit\" TEXT, \n",
      "\t\"Index\" INTEGER, \n",
      "\tPRIMARY KEY (\"Index\")\n",
      ")\n",
      "\n",
      "/*\n",
      "3 rows from tabular_data table:\n",
      "Report Time\tProduct Name\tSub Product\tRegionName\tMarketName\tTermName\tValue\tUnit\tIndex\n",
      "2023-04-28 00:00:00\tWoven Yarn\t10/1 Carded\tAsia\tPakistan\tCNF\t2.7\tUSD/Kg\t1\n",
      "2023-04-27 00:00:00\tWoven Yarn\t10/1 Carded\tAsia\tPakistan\tCNF\t2.7\tUSD/Kg\t2\n",
      "2023-04-26 00:00:00\tWoven Yarn\t10/1 Carded\tAsia\tPakistan\tCNF\t2.71\tUSD/Kg\t3\n",
      "*/\u001b[0m\n",
      "Thought:\u001b[32;1m\u001b[1;3m I should query the tabular_data table for the monthly price trend for the product Woven yarn for the calender year 2021.\n",
      "Action: sql_db_query\n",
      "Action Input: SELECT strftime('%m', \"Report Time\") as Month, AVG(\"Value\") as Average_Price FROM tabular_data WHERE \"Product Name\" = 'Woven Yarn' AND strftime('%Y', \"Report Time\") = '2021' GROUP BY Month ORDER BY Month\u001b[0m\n",
      "Observation: \u001b[36;1m\u001b[1;3m[('01', 510.68114787306024), ('02', 527.3576983002831), ('03', 550.9950030731412), ('04', 540.2895806451602), ('05', 542.1267159167211), ('06', 550.9260580645156), ('07', 560.4138967741934), ('08', 561.8453207547175), ('09', 526.2629102715451), ('10', 544.8590785405078), ('11', 565.610974025975), ('12', 561.0646301524563)]\u001b[0m\n",
      "Thought:\u001b[32;1m\u001b[1;3m I now know the final answer\n",
      "Final Answer: The average monthly price for Woven Yarn in 2021 is 510.68 USD/Kg in January, 527.36 USD/Kg in February, 550.99 USD/Kg in March, 540.29 USD/Kg in April, 542.13 USD/Kg in May, 550.93 USD/Kg in June, 560.41 USD/Kg in July, 561.85 USD/Kg in August, 526.26 USD/Kg in September, 544.86 USD/Kg in October, 565.61 USD/Kg in November, and 561.06 USD/Kg in December.\u001b[0m\n",
      "\n",
      "\u001b[1m> Finished chain.\u001b[0m\n"
     ]
    },
    {
     "data": {
      "text/plain": [
       "'The average monthly price for Woven Yarn in 2021 is 510.68 USD/Kg in January, 527.36 USD/Kg in February, 550.99 USD/Kg in March, 540.29 USD/Kg in April, 542.13 USD/Kg in May, 550.93 USD/Kg in June, 560.41 USD/Kg in July, 561.85 USD/Kg in August, 526.26 USD/Kg in September, 544.86 USD/Kg in October, 565.61 USD/Kg in November, and 561.06 USD/Kg in December.'"
      ]
     },
     "execution_count": 25,
     "metadata": {},
     "output_type": "execute_result"
    }
   ],
   "source": [
    "# Describe your query here\n",
    "query = \"\"\"\\\n",
    "What is the monthly price trend for the product Woven yarn for the calender year 2021?(No limits)\n",
    "\"\"\"\n",
    "\n",
    "agent_executor.run(query)"
   ]
  },
  {
   "cell_type": "code",
   "execution_count": 19,
   "metadata": {},
   "outputs": [
    {
     "name": "stdout",
     "output_type": "stream",
     "text": [
      "\n",
      "\n",
      "\u001b[1m> Entering new  chain...\u001b[0m\n",
      "What is the monthly price trend for the product Woven yarn for the calender year 2021?(No limits)\n",
      "\n",
      "SQLQuery:\u001b[32;1m\u001b[1;3mSELECT strftime('%m', \"Report Time\") AS Month, AVG(\"Value\") AS AveragePrice\n",
      "FROM tabular_data\n",
      "WHERE \"Product Name\" = 'Woven Yarn'\n",
      "AND strftime('%Y', \"Report Time\") = '2021'\n",
      "GROUP BY Month\n",
      "ORDER BY Month ASC;\u001b[0m\n",
      "SQLResult: \u001b[33;1m\u001b[1;3m[('01', 510.68114787306024), ('02', 527.3576983002831), ('03', 550.9950030731412), ('04', 540.2895806451602), ('05', 542.1267159167211), ('06', 550.9260580645156), ('07', 560.4138967741934), ('08', 561.8453207547175), ('09', 526.2629102715451), ('10', 544.8590785405078), ('11', 565.610974025975), ('12', 561.0646301524563)]\u001b[0m\n",
      "Answer:\u001b[32;1m\u001b[1;3mThe monthly price trend for the product Woven yarn for the calender year 2021 is an average price of 510.68 USD/Kg in January, 527.36 USD/Kg in February, 550.99 USD/Kg in March, 540.29 USD/Kg in April, 542.13 USD/Kg in May, 550.93 USD/Kg in June, 560.41 USD/Kg in July, 561.85 USD/Kg in August, 526.26 USD/Kg in September, 544.86 USD/Kg in October, 565.61 USD/Kg in November, and 561.06 USD/Kg in December.\u001b[0m\n",
      "\u001b[1m> Finished chain.\u001b[0m\n"
     ]
    },
    {
     "data": {
      "text/plain": [
       "'The monthly price trend for the product Woven yarn for the calender year 2021 is an average price of 510.68 USD/Kg in January, 527.36 USD/Kg in February, 550.99 USD/Kg in March, 540.29 USD/Kg in April, 542.13 USD/Kg in May, 550.93 USD/Kg in June, 560.41 USD/Kg in July, 561.85 USD/Kg in August, 526.26 USD/Kg in September, 544.86 USD/Kg in October, 565.61 USD/Kg in November, and 561.06 USD/Kg in December.'"
      ]
     },
     "execution_count": 19,
     "metadata": {},
     "output_type": "execute_result"
    }
   ],
   "source": [
    "query = \"\"\"\\\n",
    "What is the monthly price trend for the product Woven yarn for the calender year 2021?(No limits)\n",
    "\"\"\"\n",
    "db_chain.run(query)"
   ]
  },
  {
   "attachments": {},
   "cell_type": "markdown",
   "metadata": {},
   "source": [
    "### Query 8"
   ]
  },
  {
   "cell_type": "code",
   "execution_count": 7,
   "metadata": {},
   "outputs": [
    {
     "name": "stdout",
     "output_type": "stream",
     "text": [
      "\n",
      "\n",
      "\u001b[1m> Entering new  chain...\u001b[0m\n",
      "\u001b[32;1m\u001b[1;3mAction: sql_db_list_tables\n",
      "Action Input: \"\"\u001b[0m\n",
      "Observation: \u001b[38;5;200m\u001b[1;3mtabular_data\u001b[0m\n",
      "Thought:\u001b[32;1m\u001b[1;3m I should query the schema of the tabular_data table to see what columns I can use.\n",
      "Action: sql_db_schema\n",
      "Action Input: tabular_data\u001b[0m\n",
      "Observation: \u001b[33;1m\u001b[1;3m\n",
      "CREATE TABLE tabular_data (\n",
      "\t\"Report Time\" TEXT, \n",
      "\t\"Product Name\" TEXT, \n",
      "\t\"Sub Product\" TEXT, \n",
      "\t\"RegionName\" TEXT, \n",
      "\t\"MarketName\" TEXT, \n",
      "\t\"TermName\" TEXT, \n",
      "\t\"Value\" REAL, \n",
      "\t\"Unit\" TEXT, \n",
      "\t\"Index\" INTEGER, \n",
      "\tPRIMARY KEY (\"Index\")\n",
      ")\n",
      "\n",
      "/*\n",
      "3 rows from tabular_data table:\n",
      "Report Time\tProduct Name\tSub Product\tRegionName\tMarketName\tTermName\tValue\tUnit\tIndex\n",
      "2023-04-28 00:00:00\tWoven Yarn\t10/1 Carded\tAsia\tPakistan\tCNF\t2.7\tUSD/Kg\t1\n",
      "2023-04-27 00:00:00\tWoven Yarn\t10/1 Carded\tAsia\tPakistan\tCNF\t2.7\tUSD/Kg\t2\n",
      "2023-04-26 00:00:00\tWoven Yarn\t10/1 Carded\tAsia\tPakistan\tCNF\t2.71\tUSD/Kg\t3\n",
      "*/\u001b[0m\n",
      "Thought:\u001b[32;1m\u001b[1;3m I should query the tabular_data table for the monthly price trend for the product Woven yarn and Knitting Yarn for the year 2021 respectively.\n",
      "Action: sql_db_query\n",
      "Action Input: SELECT strftime('%m', \"Report Time\") as Month, \"Product Name\", AVG(\"Value\") as Average_Price FROM tabular_data WHERE strftime('%Y', \"Report Time\") = '2021' AND (\"Product Name\" = 'Woven Yarn' OR \"Product Name\" = 'Knitting Yarn') GROUP BY Month, \"Product Name\"\u001b[0m\n",
      "Observation: \u001b[36;1m\u001b[1;3m[('01', 'Knitting Yarn', 2648.8659798994963), ('01', 'Woven Yarn', 510.68114787306024), ('02', 'Knitting Yarn', 1685.3662841530065), ('02', 'Woven Yarn', 527.3576983002831), ('03', 'Knitting Yarn', 7148.727861445783), ('03', 'Woven Yarn', 550.9950030731412), ('04', 'Knitting Yarn', 9965.618683651799), ('04', 'Woven Yarn', 540.2895806451602), ('05', 'Knitting Yarn', 10065.582391304342), ('05', 'Woven Yarn', 542.1267159167211), ('06', 'Knitting Yarn', 10347.368686440674), ('06', 'Woven Yarn', 550.9260580645156), ('07', 'Knitting Yarn', 10793.138961038961), ('07', 'Woven Yarn', 560.4138967741934), ('08', 'Knitting Yarn', 9342.916690647486), ('08', 'Woven Yarn', 561.8453207547175), ('09', 'Knitting Yarn', 7812.1709090909035), ('09', 'Woven Yarn', 526.2629102715451), ('10', 'Knitting Yarn', 8424.638365079374), ('10', 'Woven Yarn', 544.8590785405078), ('11', 'Knitting Yarn', 8576.928030303034), ('11', 'Woven Yarn', 565.610974025975), ('12', 'Knitting Yarn', 8350.32346376812), ('12', 'Woven Yarn', 561.0646301524563)]\u001b[0m\n",
      "Thought:\u001b[32;1m\u001b[1;3m I now know the final answer\n",
      "Final Answer: The monthly price trend for the product Woven yarn and Knitting Yarn for the year 2021 respectively is: \n",
      "January: Woven Yarn - 510.68 USD/Kg, Knitting Yarn - 2648.86 USD/Kg\n",
      "February: Woven Yarn - 527.36 USD/Kg, Knitting Yarn - 1685.37 USD/Kg\n",
      "March: Woven Yarn - 550.99 USD/Kg, Knitting Yarn - 7148.73 USD/Kg\n",
      "April: Woven Yarn - 540.29 USD/Kg, Knitting Yarn - 9965.62 USD/Kg\n",
      "May: Woven Yarn - 542.13 USD/Kg, Knitting Yarn - 10065.58 USD/Kg\n",
      "June: Woven Yarn - 550.93 USD/Kg, Knitting Yarn - 10347.37 USD/Kg\n",
      "July: Woven Yarn - 560.41 USD/Kg, Knitting Yarn - 10793.14 USD/Kg\n",
      "August: Woven Yarn - 561.85 USD/Kg, Kn\u001b[0m\n",
      "\n",
      "\u001b[1m> Finished chain.\u001b[0m\n"
     ]
    },
    {
     "data": {
      "text/plain": [
       "'The monthly price trend for the product Woven yarn and Knitting Yarn for the year 2021 respectively is: \\nJanuary: Woven Yarn - 510.68 USD/Kg, Knitting Yarn - 2648.86 USD/Kg\\nFebruary: Woven Yarn - 527.36 USD/Kg, Knitting Yarn - 1685.37 USD/Kg\\nMarch: Woven Yarn - 550.99 USD/Kg, Knitting Yarn - 7148.73 USD/Kg\\nApril: Woven Yarn - 540.29 USD/Kg, Knitting Yarn - 9965.62 USD/Kg\\nMay: Woven Yarn - 542.13 USD/Kg, Knitting Yarn - 10065.58 USD/Kg\\nJune: Woven Yarn - 550.93 USD/Kg, Knitting Yarn - 10347.37 USD/Kg\\nJuly: Woven Yarn - 560.41 USD/Kg, Knitting Yarn - 10793.14 USD/Kg\\nAugust: Woven Yarn - 561.85 USD/Kg, Kn'"
      ]
     },
     "execution_count": 7,
     "metadata": {},
     "output_type": "execute_result"
    }
   ],
   "source": [
    "# Describe your query here\n",
    "query = \"\"\"\\\n",
    "What is the monthly price trend for the product Woven yarn and Knitting Yarn for the year 2021 respectively?(No Limit)\n",
    "\"\"\"\n",
    "\n",
    "agent_executor.run(query)"
   ]
  },
  {
   "attachments": {},
   "cell_type": "markdown",
   "metadata": {},
   "source": [
    "Hitting token limit, therefore it is advisabel to go product wise"
   ]
  },
  {
   "cell_type": "code",
   "execution_count": 8,
   "metadata": {},
   "outputs": [
    {
     "name": "stdout",
     "output_type": "stream",
     "text": [
      "\n",
      "\n",
      "\u001b[1m> Entering new  chain...\u001b[0m\n",
      "\u001b[32;1m\u001b[1;3mAction: sql_db_list_tables\n",
      "Action Input: \"\"\u001b[0m\n",
      "Observation: \u001b[38;5;200m\u001b[1;3mtabular_data\u001b[0m\n",
      "Thought:\u001b[32;1m\u001b[1;3m I should query the schema of the tabular_data table to see what columns I can use.\n",
      "Action: sql_db_schema\n",
      "Action Input: tabular_data\u001b[0m\n",
      "Observation: \u001b[33;1m\u001b[1;3m\n",
      "CREATE TABLE tabular_data (\n",
      "\t\"Report Time\" TEXT, \n",
      "\t\"Product Name\" TEXT, \n",
      "\t\"Sub Product\" TEXT, \n",
      "\t\"RegionName\" TEXT, \n",
      "\t\"MarketName\" TEXT, \n",
      "\t\"TermName\" TEXT, \n",
      "\t\"Value\" REAL, \n",
      "\t\"Unit\" TEXT, \n",
      "\t\"Index\" INTEGER, \n",
      "\tPRIMARY KEY (\"Index\")\n",
      ")\n",
      "\n",
      "/*\n",
      "3 rows from tabular_data table:\n",
      "Report Time\tProduct Name\tSub Product\tRegionName\tMarketName\tTermName\tValue\tUnit\tIndex\n",
      "2023-04-28 00:00:00\tWoven Yarn\t10/1 Carded\tAsia\tPakistan\tCNF\t2.7\tUSD/Kg\t1\n",
      "2023-04-27 00:00:00\tWoven Yarn\t10/1 Carded\tAsia\tPakistan\tCNF\t2.7\tUSD/Kg\t2\n",
      "2023-04-26 00:00:00\tWoven Yarn\t10/1 Carded\tAsia\tPakistan\tCNF\t2.71\tUSD/Kg\t3\n",
      "*/\u001b[0m\n",
      "Thought:\u001b[32;1m\u001b[1;3m I should query the tabular_data table for the monthly price trend for the product Woven yarn and Knitting Yarn for the complete year of 2021.\n",
      "Action: sql_db_query\n",
      "Action Input: SELECT strftime('%m', \"Report Time\") as Month, \"Product Name\", AVG(\"Value\") as Average_Price FROM tabular_data WHERE strftime('%Y', \"Report Time\") = '2021' AND (\"Product Name\" = 'Woven Yarn' OR \"Product Name\" = 'Knitting Yarn') GROUP BY Month, \"Product Name\" ORDER BY Month ASC LIMIT 10\u001b[0m\n",
      "Observation: \u001b[36;1m\u001b[1;3m[('01', 'Knitting Yarn', 2648.8659798994963), ('01', 'Woven Yarn', 510.68114787306024), ('02', 'Knitting Yarn', 1685.3662841530065), ('02', 'Woven Yarn', 527.3576983002831), ('03', 'Knitting Yarn', 7148.727861445783), ('03', 'Woven Yarn', 550.9950030731412), ('04', 'Knitting Yarn', 9965.618683651799), ('04', 'Woven Yarn', 540.2895806451602), ('05', 'Knitting Yarn', 10065.582391304342), ('05', 'Woven Yarn', 542.1267159167211)]\u001b[0m\n",
      "Thought:\u001b[32;1m\u001b[1;3m I now know the final answer\n",
      "Final Answer: The monthly price trend for the product Woven yarn and Knitting Yarn for the complete year of 2021 is: \n",
      "January: Woven Yarn - 510.68 USD/Kg, Knitting Yarn - 2648.86 USD/Kg\n",
      "February: Woven Yarn - 527.36 USD/Kg, Knitting Yarn - 1685.37 USD/Kg\n",
      "March: Woven Yarn - 550.99 USD/Kg, Knitting Yarn - 7148.73 USD/Kg\n",
      "April: Woven Yarn - 540.29 USD/Kg, Knitting Yarn - 9965.62 USD/Kg\n",
      "May: Woven Yarn - 542.13 USD/Kg, Knitting Yarn - 10065.58 USD/Kg\u001b[0m\n",
      "\n",
      "\u001b[1m> Finished chain.\u001b[0m\n"
     ]
    },
    {
     "data": {
      "text/plain": [
       "'The monthly price trend for the product Woven yarn and Knitting Yarn for the complete year of 2021 is: \\nJanuary: Woven Yarn - 510.68 USD/Kg, Knitting Yarn - 2648.86 USD/Kg\\nFebruary: Woven Yarn - 527.36 USD/Kg, Knitting Yarn - 1685.37 USD/Kg\\nMarch: Woven Yarn - 550.99 USD/Kg, Knitting Yarn - 7148.73 USD/Kg\\nApril: Woven Yarn - 540.29 USD/Kg, Knitting Yarn - 9965.62 USD/Kg\\nMay: Woven Yarn - 542.13 USD/Kg, Knitting Yarn - 10065.58 USD/Kg'"
      ]
     },
     "execution_count": 8,
     "metadata": {},
     "output_type": "execute_result"
    }
   ],
   "source": [
    "# Describe your query here\n",
    "query = \"\"\"\\\n",
    "What is the monthly price trend for the product Woven yarn and Knitting Yarn for the complete year of 2021 respectively?\n",
    "\"\"\"\n",
    "\n",
    "agent_executor.run(query)"
   ]
  },
  {
   "cell_type": "code",
   "execution_count": 14,
   "metadata": {},
   "outputs": [
    {
     "name": "stdout",
     "output_type": "stream",
     "text": [
      "\n",
      "\n",
      "\u001b[1m> Entering new  chain...\u001b[0m\n",
      "\u001b[32;1m\u001b[1;3mAction: sql_db_list_tables\n",
      "Action Input: \"\"\u001b[0m\n",
      "Observation: \u001b[38;5;200m\u001b[1;3mtabular_data\u001b[0m\n",
      "Thought:\u001b[32;1m\u001b[1;3m I should query the schema of the tabular_data table to see what columns I can use.\n",
      "Action: sql_db_schema\n",
      "Action Input: tabular_data\u001b[0m\n",
      "Observation: \u001b[33;1m\u001b[1;3m\n",
      "CREATE TABLE tabular_data (\n",
      "\t\"Report Time\" TEXT, \n",
      "\t\"Product Name\" TEXT, \n",
      "\t\"Sub Product\" TEXT, \n",
      "\t\"RegionName\" TEXT, \n",
      "\t\"MarketName\" TEXT, \n",
      "\t\"TermName\" TEXT, \n",
      "\t\"Value\" REAL, \n",
      "\t\"Unit\" TEXT, \n",
      "\t\"Index\" INTEGER, \n",
      "\tPRIMARY KEY (\"Index\")\n",
      ")\n",
      "\n",
      "/*\n",
      "3 rows from tabular_data table:\n",
      "Report Time\tProduct Name\tSub Product\tRegionName\tMarketName\tTermName\tValue\tUnit\tIndex\n",
      "2023-04-28 00:00:00\tWoven Yarn\t10/1 Carded\tAsia\tPakistan\tCNF\t2.7\tUSD/Kg\t1\n",
      "2023-04-27 00:00:00\tWoven Yarn\t10/1 Carded\tAsia\tPakistan\tCNF\t2.7\tUSD/Kg\t2\n",
      "2023-04-26 00:00:00\tWoven Yarn\t10/1 Carded\tAsia\tPakistan\tCNF\t2.71\tUSD/Kg\t3\n",
      "*/\u001b[0m\n",
      "Thought:\u001b[32;1m\u001b[1;3m I should query the tabular_data table for the monthly price trend for the product Naphtha for the entire calender year of 2020.\n",
      "Action: sql_db_query\n",
      "Action Input: SELECT strftime('%m', \"Report Time\") as Month, AVG(\"Value\") as Average_Price FROM tabular_data WHERE \"Product Name\" = 'Naphtha' AND strftime('%Y', \"Report Time\") = '2020' GROUP BY Month ORDER BY Month\u001b[0m\n",
      "Observation: \u001b[36;1m\u001b[1;3m[('01', 560.1862318840581), ('02', 485.59366666666665), ('03', 299.66818181818195), ('04', 178.8122727272727), ('05', 251.40666666666667), ('06', 357.46272727272725), ('07', 398.1879710144928), ('08', 394.1596825396826), ('09', 392.09363636363645), ('10', 390.29484848484844), ('11', 377.11539682539683), ('12', 440.69115942028986)]\u001b[0m\n",
      "Thought:\u001b[32;1m\u001b[1;3m I now know the final answer\n",
      "Final Answer: The average monthly price trend for the product Naphtha for the entire calender year of 2020 is as follows: January: 560.19, February: 485.59, March: 299.67, April: 178.81, May: 251.41, June: 357.46, July: 398.19, August: 394.16, September: 392.09, October: 390.29, November: 377.12, December: 440.69.\u001b[0m\n",
      "\n",
      "\u001b[1m> Finished chain.\u001b[0m\n"
     ]
    },
    {
     "data": {
      "text/plain": [
       "'The average monthly price trend for the product Naphtha for the entire calender year of 2020 is as follows: January: 560.19, February: 485.59, March: 299.67, April: 178.81, May: 251.41, June: 357.46, July: 398.19, August: 394.16, September: 392.09, October: 390.29, November: 377.12, December: 440.69.'"
      ]
     },
     "execution_count": 14,
     "metadata": {},
     "output_type": "execute_result"
    }
   ],
   "source": [
    "# Describe your query here\n",
    "query = \"\"\"\\\n",
    "What is the monthly price trend for the product Naphtha for the entire calender year of 2020?(No Limits)\n",
    "\"\"\"\n",
    "\n",
    "agent_executor.run(query)"
   ]
  },
  {
   "cell_type": "code",
   "execution_count": 12,
   "metadata": {},
   "outputs": [
    {
     "name": "stdout",
     "output_type": "stream",
     "text": [
      "\n",
      "\n",
      "\u001b[1m> Entering new  chain...\u001b[0m\n",
      "\u001b[32;1m\u001b[1;3mAction: sql_db_list_tables\n",
      "Action Input: \"\"\u001b[0m\n",
      "Observation: \u001b[38;5;200m\u001b[1;3mtabular_data\u001b[0m\n",
      "Thought:\u001b[32;1m\u001b[1;3m I should query the schema of the tabular_data table to see what columns I can use.\n",
      "Action: sql_db_schema\n",
      "Action Input: tabular_data\u001b[0m\n",
      "Observation: \u001b[33;1m\u001b[1;3m\n",
      "CREATE TABLE tabular_data (\n",
      "\t\"Report Time\" TEXT, \n",
      "\t\"Product Name\" TEXT, \n",
      "\t\"Sub Product\" TEXT, \n",
      "\t\"RegionName\" TEXT, \n",
      "\t\"MarketName\" TEXT, \n",
      "\t\"TermName\" TEXT, \n",
      "\t\"Value\" REAL, \n",
      "\t\"Unit\" TEXT, \n",
      "\t\"Index\" INTEGER, \n",
      "\tPRIMARY KEY (\"Index\")\n",
      ")\n",
      "\n",
      "/*\n",
      "3 rows from tabular_data table:\n",
      "Report Time\tProduct Name\tSub Product\tRegionName\tMarketName\tTermName\tValue\tUnit\tIndex\n",
      "2023-04-28 00:00:00\tWoven Yarn\t10/1 Carded\tAsia\tPakistan\tCNF\t2.7\tUSD/Kg\t1\n",
      "2023-04-27 00:00:00\tWoven Yarn\t10/1 Carded\tAsia\tPakistan\tCNF\t2.7\tUSD/Kg\t2\n",
      "2023-04-26 00:00:00\tWoven Yarn\t10/1 Carded\tAsia\tPakistan\tCNF\t2.71\tUSD/Kg\t3\n",
      "*/\u001b[0m\n",
      "Thought:\u001b[32;1m\u001b[1;3m I should query the tabular_data table for the yearly price trend for the product Naphtha for the year 2019.\n",
      "Action: sql_db_query\n",
      "Action Input: SELECT \"Report Time\", \"Value\" FROM tabular_data WHERE \"Product Name\" = 'Naphtha' AND \"Report Time\" LIKE '2019%' ORDER BY \"Value\" ASC LIMIT 10\u001b[0m\n",
      "Observation: \u001b[36;1m\u001b[1;3m[('2019-08-07 00:00:00', 431.24), ('2019-09-03 00:00:00', 434.68), ('2019-08-08 00:00:00', 436.16), ('2019-01-02 00:00:00', 438.84), ('2019-08-15 00:00:00', 442.69), ('2019-08-09 00:00:00', 442.79), ('2019-08-12 00:00:00', 442.82), ('2019-09-02 00:00:00', 443.33), ('2019-06-12 00:00:00', 443.89), ('2019-08-16 00:00:00', 444.01)]\u001b[0m\n",
      "Thought:\u001b[32;1m\u001b[1;3m I now know the final answer\n",
      "Final Answer: The yearly price trend for the product Naphtha for the year 2019 is 431.24 USD/Kg on 2019-08-07, 434.68 USD/Kg on 2019-09-03, 436.16 USD/Kg on 2019-08-08, 438.84 USD/Kg on 2019-01-02, 442.69 USD/Kg on 2019-08-15, 442.79 USD/Kg on 2019-08-09, 442.82 USD/Kg on 2019-08-12, 443.33 USD/Kg on 2019-09-02, 443.89 USD/Kg on 2019-06-12, and 444.01 USD/Kg on 2019-08-16.\u001b[0m\n",
      "\n",
      "\u001b[1m> Finished chain.\u001b[0m\n"
     ]
    },
    {
     "data": {
      "text/plain": [
       "'The yearly price trend for the product Naphtha for the year 2019 is 431.24 USD/Kg on 2019-08-07, 434.68 USD/Kg on 2019-09-03, 436.16 USD/Kg on 2019-08-08, 438.84 USD/Kg on 2019-01-02, 442.69 USD/Kg on 2019-08-15, 442.79 USD/Kg on 2019-08-09, 442.82 USD/Kg on 2019-08-12, 443.33 USD/Kg on 2019-09-02, 443.89 USD/Kg on 2019-06-12, and 444.01 USD/Kg on 2019-08-16.'"
      ]
     },
     "execution_count": 12,
     "metadata": {},
     "output_type": "execute_result"
    }
   ],
   "source": [
    "# Describe your query here\n",
    "query = \"\"\"\\\n",
    "What is the yearly price trend for the product Naphtha for the year 2019?(No Limits)\n",
    "\"\"\"\n",
    "\n",
    "agent_executor.run(query)"
   ]
  },
  {
   "attachments": {},
   "cell_type": "markdown",
   "metadata": {},
   "source": [
    "## Query 9"
   ]
  },
  {
   "cell_type": "code",
   "execution_count": 21,
   "metadata": {},
   "outputs": [
    {
     "name": "stdout",
     "output_type": "stream",
     "text": [
      "\n",
      "\n",
      "\u001b[1m> Entering new  chain...\u001b[0m\n",
      "\u001b[32;1m\u001b[1;3mAction: sql_db_list_tables\n",
      "Action Input: \"\"\u001b[0m\n",
      "Observation: \u001b[38;5;200m\u001b[1;3mtabular_data\u001b[0m\n",
      "Thought:\u001b[32;1m\u001b[1;3m I should query the schema of the tabular_data table to see what columns I can use.\n",
      "Action: sql_db_schema\n",
      "Action Input: tabular_data\u001b[0m\n",
      "Observation: \u001b[33;1m\u001b[1;3m\n",
      "CREATE TABLE tabular_data (\n",
      "\t\"Report Time\" TEXT, \n",
      "\t\"Product Name\" TEXT, \n",
      "\t\"Sub Product\" TEXT, \n",
      "\t\"RegionName\" TEXT, \n",
      "\t\"MarketName\" TEXT, \n",
      "\t\"TermName\" TEXT, \n",
      "\t\"Value\" REAL, \n",
      "\t\"Unit\" TEXT, \n",
      "\t\"Index\" INTEGER, \n",
      "\tPRIMARY KEY (\"Index\")\n",
      ")\n",
      "\n",
      "/*\n",
      "3 rows from tabular_data table:\n",
      "Report Time\tProduct Name\tSub Product\tRegionName\tMarketName\tTermName\tValue\tUnit\tIndex\n",
      "2023-04-28 00:00:00\tWoven Yarn\t10/1 Carded\tAsia\tPakistan\tCNF\t2.7\tUSD/Kg\t1\n",
      "2023-04-27 00:00:00\tWoven Yarn\t10/1 Carded\tAsia\tPakistan\tCNF\t2.7\tUSD/Kg\t2\n",
      "2023-04-26 00:00:00\tWoven Yarn\t10/1 Carded\tAsia\tPakistan\tCNF\t2.71\tUSD/Kg\t3\n",
      "*/\u001b[0m\n",
      "Thought:\u001b[32;1m\u001b[1;3m I should query the tabular_data table for the regions where Naphtha is present.\n",
      "Action: sql_db_query\n",
      "Action Input: SELECT RegionName FROM tabular_data WHERE ProductName = 'Naphtha'\u001b[0m\n",
      "Observation: \u001b[36;1m\u001b[1;3mError: (sqlite3.OperationalError) no such column: ProductName\n",
      "[SQL: SELECT RegionName FROM tabular_data WHERE ProductName = 'Naphtha']\n",
      "(Background on this error at: https://sqlalche.me/e/20/e3q8)\u001b[0m\n",
      "Thought:\u001b[32;1m\u001b[1;3m I should query the schema of the tabular_data table again to make sure I'm using the correct column name.\n",
      "Action: sql_db_schema\n",
      "Action Input: tabular_data\u001b[0m\n",
      "Observation: \u001b[33;1m\u001b[1;3m\n",
      "CREATE TABLE tabular_data (\n",
      "\t\"Report Time\" TEXT, \n",
      "\t\"Product Name\" TEXT, \n",
      "\t\"Sub Product\" TEXT, \n",
      "\t\"RegionName\" TEXT, \n",
      "\t\"MarketName\" TEXT, \n",
      "\t\"TermName\" TEXT, \n",
      "\t\"Value\" REAL, \n",
      "\t\"Unit\" TEXT, \n",
      "\t\"Index\" INTEGER, \n",
      "\tPRIMARY KEY (\"Index\")\n",
      ")\n",
      "\n",
      "/*\n",
      "3 rows from tabular_data table:\n",
      "Report Time\tProduct Name\tSub Product\tRegionName\tMarketName\tTermName\tValue\tUnit\tIndex\n",
      "2023-04-28 00:00:00\tWoven Yarn\t10/1 Carded\tAsia\tPakistan\tCNF\t2.7\tUSD/Kg\t1\n",
      "2023-04-27 00:00:00\tWoven Yarn\t10/1 Carded\tAsia\tPakistan\tCNF\t2.7\tUSD/Kg\t2\n",
      "2023-04-26 00:00:00\tWoven Yarn\t10/1 Carded\tAsia\tPakistan\tCNF\t2.71\tUSD/Kg\t3\n",
      "*/\u001b[0m\n",
      "Thought:\u001b[32;1m\u001b[1;3m I should query the tabular_data table for the regions where Naphtha is present.\n",
      "Action: sql_db_query\n",
      "Action Input: SELECT RegionName FROM tabular_data WHERE \"Product Name\" = 'Naphtha'\u001b[0m\n",
      "Observation: \u001b[36;1m\u001b[1;3m[('Asia',), ('Asia',), ('Asia',), ('Asia',), ('Asia',), ('Asia',), ('Asia',), ('Asia',), ('Asia',), ('Asia',), ('Asia',), ('Asia',), ('Asia',), ('Asia',), ('Asia',), ('Asia',), ('Asia',), ('Asia',), ('Asia',), ('Asia',), ('Asia',), ('Asia',), ('Asia',), ('Asia',), ('Asia',), ('Asia',), ('Asia',), ('Asia',), ('Asia',), ('Asia',), ('Asia',), ('Asia',), ('Asia',), ('Asia',), ('Asia',), ('Asia',), ('Asia',), ('Asia',), ('Asia',), ('Asia',), ('Asia',), ('Asia',), ('Asia',), ('Asia',), ('Asia',), ('Asia',), ('Asia',), ('Asia',), ('Asia',), ('Asia',), ('Asia',), ('Asia',), ('Asia',), ('Asia',), ('Asia',), ('Asia',), ('Asia',), ('Asia',), ('Asia',), ('Asia',), ('Asia',), ('Asia',), ('Asia',), ('Asia',), ('Asia',), ('Asia',), ('Asia',), ('Asia',), ('Asia',), ('Asia',), ('Asia',), ('Asia',), ('Asia',), ('Asia',), ('Asia',), ('Asia',), ('Asia',), ('Asia',), ('Asia',), ('Asia',), ('Asia',), ('Asia',), ('Asia',), ('Asia',), ('Asia',), ('Asia',), ('Asia',), ('Asia',), ('Asia',), ('Asia',), ('Asia',), ('Asia',), ('Asia',), ('Asia',), ('Asia',), ('Asia',), ('Asia',), ('Asia',), ('Asia',), ('Asia',), ('Asia',), ('Asia',), ('Asia',), ('Asia',), ('Asia',), ('Asia',), ('Asia',), ('Asia',), ('Asia',), ('Asia',), ('Asia',), ('Asia',), ('Asia',), ('Asia',), ('Asia',), ('Asia',), ('Asia',), ('Asia',), ('Asia',), ('Asia',), ('Asia',), ('Asia',), ('Asia',), ('Asia',), ('Asia',), ('Asia',), ('Asia',), ('Asia',), ('Asia',), ('Asia',), ('Asia',), ('Asia',), ('Asia',), ('Asia',), ('Asia',), ('Asia',), ('Asia',), ('Asia',), ('Asia',), ('Asia',), ('Asia',), ('Asia',), ('Asia',), ('Asia',), ('Asia',), ('Asia',), ('Asia',), ('Asia',), ('Asia',), ('Asia',), ('Asia',), ('Asia',), ('Asia',), ('Asia',), ('Asia',), ('Asia',), ('Asia',), ('Asia',), ('Asia',), ('Asia',), ('Asia',), ('Asia',), ('Asia',), ('Asia',), ('Asia',), ('Asia',), ('Asia',), ('Asia',), ('Asia',), ('Asia',), ('Asia',), ('Asia',), ('Asia',), ('Asia',), ('Asia',), ('Asia',), ('Asia',), ('Asia',), ('Asia',), ('Asia',), ('Asia',), ('Asia',), ('Asia',), ('Asia',), ('Asia',), ('Asia',), ('Asia',), ('Asia',), ('Asia',), ('Asia',), ('Asia',), ('Asia',), ('Asia',), ('Asia',), ('Asia',), ('Asia',), ('Asia',), ('Asia',), ('Asia',), ('Asia',), ('Asia',), ('Asia',), ('Asia',), ('Asia',), ('Asia',), ('Asia',), ('Asia',), ('Asia',), ('Asia',), ('Asia',), ('Asia',), ('Asia',), ('Asia',), ('Asia',), ('Asia',), ('Asia',), ('Asia',), ('Asia',), ('Asia',), ('Asia',), ('Asia',), ('Asia',), ('Asia',), ('Asia',), ('Asia',), ('Asia',), ('Asia',), ('Asia',), ('Asia',), ('Asia',), ('Asia',), ('Asia',), ('Asia',), ('Asia',), ('Asia',), ('Asia',), ('Asia',), ('Asia',), ('Asia',), ('Asia',), ('Asia',), ('Asia',), ('Asia',), ('Asia',), ('Asia',), ('Asia',), ('Asia',), ('Asia',), ('Asia',), ('Asia',), ('Asia',), ('Asia',), ('Asia',), ('Asia',), ('Asia',), ('Asia',), ('Asia',), ('Asia',), ('Asia',), ('Asia',), ('Asia',), ('Asia',), ('Asia',), ('Asia',), ('Asia',), ('Asia',), ('Asia',), ('Asia',), ('Asia',), ('Asia',), ('Asia',), ('Asia',), ('Asia',), ('Asia',), ('Asia',), ('Asia',), ('Asia',), ('Asia',), ('Asia',), ('Asia',), ('Asia',), ('Asia',), ('Asia',), ('Asia',), ('Asia',), ('Asia',), ('Asia',), ('Asia',), ('Asia',), ('Asia',), ('Asia',), ('Asia',), ('Asia',), ('Asia',), ('Asia',), ('Asia',), ('Asia',), ('Asia',), ('Asia',), ('Asia',), ('Asia',), ('Asia',), ('Asia',), ('Asia',), ('Asia',), ('Asia',), ('Asia',), ('Asia',), ('Asia',), ('Asia',), ('Asia',), ('Asia',), ('Asia',), ('Asia',), ('Asia',), ('Asia',), ('Asia',), ('Asia',), ('Asia',), ('Asia',), ('Asia',), ('Asia',), ('Asia',), ('Asia',), ('Asia',), ('Asia',), ('Asia',), ('Asia',), ('Asia',), ('Asia',), ('Asia',), ('Asia',), ('Asia',), ('Asia',), ('Asia',), ('Asia',), ('Asia',), ('Asia',), ('Asia',), ('Asia',), ('Asia',), ('Asia',), ('Asia',), ('Asia',), ('Asia',), ('Asia',), ('Asia',), ('Asia',), ('Asia',), ('Asia',), ('Asia',), ('Asia',), ('Asia',), ('Asia',), ('Asia',), ('Asia',), ('Asia',), ('Asia',), ('Asia',), ('Asia',), ('Asia',), ('Asia',), ('Asia',), ('Asia',), ('Asia',), ('Asia',), ('Asia',), ('Asia',), ('Asia',), ('Asia',), ('Asia',), ('Asia',), ('Asia',), ('Asia',), ('Asia',), ('Asia',), ('Asia',), ('Asia',), ('Asia',), ('Asia',), ('Asia',), ('Asia',), ('Asia',), ('Asia',), ('Asia',), ('Asia',), ('Asia',), ('Asia',), ('Asia',), ('Asia',), ('Asia',), ('Asia',), ('Asia',), ('Asia',), ('Asia',), ('Asia',), ('Asia',), ('Asia',), ('Asia',), ('Asia',), ('Asia',), ('Asia',), ('Asia',), ('Asia',), ('Asia',), ('Asia',), ('Asia',), ('Asia',), ('Asia',), ('Asia',), ('Asia',), ('Asia',), ('Asia',), ('Asia',), ('Asia',), ('Asia',), ('Asia',), ('Asia',), ('Asia',), ('Asia',), ('Asia',), ('Asia',), ('Asia',), ('Asia',), ('Asia',), ('Asia',), ('Asia',), ('Asia',), ('Asia',), ('Asia',), ('Asia',), ('Asia',), ('Asia',), ('Asia',), ('Asia',), ('Asia',), ('Asia',), ('Asia',), ('Asia',), ('Asia',), ('Asia',), ('Asia',), ('Asia',), ('Asia',), ('Asia',), ('Asia',), ('Asia',), ('Asia',), ('Asia',), ('Asia',), ('Asia',), ('Asia',), ('Asia',), ('Asia',), ('Asia',), ('Asia',), ('Asia',), ('Asia',), ('Asia',), ('Asia',), ('Asia',), ('Asia',), ('Asia',), ('Asia',), ('Asia',), ('Asia',), ('Asia',), ('Asia',), ('Asia',), ('Asia',), ('Asia',), ('Asia',), ('Asia',), ('Asia',), ('Asia',), ('Asia',), ('Asia',), ('Asia',), ('Asia',), ('Asia',), ('Asia',), ('Asia',), ('Asia',), ('Asia',), ('Asia',), ('Asia',), ('Asia',), ('Asia',), ('Asia',), ('Asia',), ('Asia',), ('Asia',), ('Asia',), ('Asia',), ('Asia',), ('Asia',), ('Asia',), ('Asia',), ('Asia',), ('Asia',), ('Asia',), ('Asia',), ('Asia',), ('Asia',), ('Asia',), ('Asia',), ('Asia',), ('Asia',), ('Asia',), ('Asia',), ('Asia',), ('Asia',), ('Asia',), ('Asia',), ('Asia',), ('Asia',), ('Asia',), ('Asia',), ('Asia',), ('Asia',), ('Asia',), ('Asia',), ('Asia',), ('Asia',), ('Asia',), ('Asia',), ('Asia',), ('Asia',), ('Asia',), ('Asia',), ('Asia',), ('Asia',), ('Asia',), ('Asia',), ('Asia',), ('Asia',), ('Asia',), ('Asia',), ('Asia',), ('Asia',), ('Asia',), ('Asia',), ('Asia',), ('Asia',), ('Asia',), ('Asia',), ('Asia',), ('Asia',), ('Asia',), ('Asia',), ('Asia',), ('Asia',), ('Asia',), ('Asia',), ('Asia',), ('Asia',), ('Asia',), ('Asia',), ('Asia',), ('Asia',), ('Asia',), ('Asia',), ('Asia',), ('Asia',), ('Asia',), ('Asia',), ('Asia',), ('Asia',), ('Asia',), ('Asia',), ('Asia',), ('Asia',), ('Asia',), ('Asia',), ('Asia',), ('Asia',), ('Asia',), ('Asia',), ('Asia',), ('Asia',), ('Asia',), ('Asia',), ('Asia',), ('Asia',), ('Asia',), ('Asia',), ('Asia',), ('Asia',), ('Asia',), ('Asia',), ('Asia',), ('Asia',), ('Asia',), ('Asia',), ('Asia',), ('Asia',), ('Asia',), ('Asia',), ('Asia',), ('Asia',), ('Asia',), ('Asia',), ('Asia',), ('Asia',), ('Asia',), ('Asia',), ('Asia',), ('Asia',), ('Asia',), ('Asia',), ('Asia',), ('Asia',), ('Asia',), ('Asia',), ('Asia',), ('Asia',), ('Asia',), ('Asia',), ('Asia',), ('Asia',), ('Asia',), ('Asia',), ('Asia',), ('Asia',), ('Asia',), ('Asia',), ('Asia',), ('Asia',), ('Asia',), ('Asia',), ('Asia',), ('Asia',), ('Asia',), ('Asia',), ('Asia',), ('Asia',), ('Asia',), ('Asia',), ('Asia',), ('Asia',), ('Asia',), ('Asia',), ('Asia',), ('Asia',), ('Asia',), ('Asia',), ('Asia',), ('Asia',), ('Asia',), ('Asia',), ('Asia',), ('Asia',), ('Asia',), ('Asia',), ('Asia',), ('Asia',), ('Asia',), ('Asia',), ('Asia',), ('Asia',), ('Asia',), ('Asia',), ('Asia',), ('Asia',), ('Asia',), ('Asia',), ('Asia',), ('Asia',), ('Asia',), ('Asia',), ('Asia',), ('Asia',), ('Asia',), ('Asia',), ('Asia',), ('Asia',), ('Asia',), ('Asia',), ('Asia',), ('Asia',), ('Asia',), ('Asia',), ('Asia',), ('Asia',), ('Asia',), ('Asia',), ('Asia',), ('Asia',), ('Asia',), ('Asia',), ('Asia',), ('Asia',), ('Asia',), ('Asia',), ('Asia',), ('Asia',), ('Asia',), ('Asia',), ('Asia',), ('Asia',), ('Asia',), ('Asia',), ('Asia',), ('Asia',), ('Asia',), ('Asia',), ('Asia',), ('Asia',), ('Asia',), ('Asia',), ('Asia',), ('Asia',), ('Asia',), ('Asia',), ('Asia',), ('Asia',), ('Asia',), ('Asia',), ('Asia',), ('Asia',), ('Asia',), ('Asia',), ('Asia',), ('Asia',), ('Asia',), ('Asia',), ('Asia',), ('Asia',), ('Asia',), ('Asia',), ('Asia',), ('Asia',), ('Asia',), ('Asia',), ('Asia',), ('Asia',), ('Asia',), ('Asia',), ('Asia',), ('Asia',), ('Asia',), ('Asia',), ('Asia',), ('Asia',), ('Asia',), ('Asia',), ('Asia',), ('Asia',), ('Asia',), ('Asia',), ('Asia',), ('Asia',), ('Asia',), ('Asia',), ('Asia',), ('Asia',), ('Asia',), ('Asia',), ('Asia',), ('Asia',), ('Asia',), ('Asia',), ('Asia',), ('Asia',), ('Asia',), ('Asia',), ('Asia',), ('Asia',), ('Asia',), ('Asia',), ('Asia',), ('Asia',), ('Asia',), ('Asia',), ('Asia',), ('Asia',), ('Asia',), ('Asia',), ('Asia',), ('Asia',), ('Asia',), ('Asia',), ('Asia',), ('Asia',), ('Asia',), ('Asia',), ('Asia',), ('Asia',), ('Asia',), ('Asia',), ('Asia',), ('Asia',), ('Asia',), ('Asia',), ('Asia',), ('Asia',), ('Asia',), ('Asia',), ('Asia',), ('Asia',), ('Asia',), ('Asia',), ('Asia',), ('Asia',), ('Asia',), ('Asia',), ('Asia',), ('Asia',), ('Asia',), ('Asia',), ('Asia',), ('Asia',), ('Asia',), ('Asia',), ('Asia',), ('Asia',), ('Asia',), ('Asia',), ('Asia',), ('Asia',), ('Asia',), ('Asia',), ('Asia',), ('Asia',), ('Asia',), ('Asia',), ('Asia',), ('Asia',), ('Asia',), ('Asia',), ('Asia',), ('Asia',), ('Asia',), ('Asia',), ('Asia',), ('Asia',), ('Asia',), ('Asia',), ('Asia',), ('Asia',), ('Asia',), ('Asia',), ('Asia',), ('Asia',), ('Asia',), ('Asia',), ('Asia',), ('Asia',), ('Asia',), ('Asia',), ('Asia',), ('Asia',), ('Asia',), ('Asia',), ('Asia',), ('Asia',), ('Asia',), ('Asia',), ('Asia',), ('Asia',), ('Asia',), ('Asia',), ('Asia',), ('Asia',), ('Asia',), ('Asia',), ('Asia',), ('Asia',), ('Asia',), ('Asia',), ('Asia',), ('Asia',), ('Asia',), ('Asia',), ('Asia',), ('Asia',), ('Asia',), ('Asia',), ('Asia',), ('Asia',), ('Asia',), ('Asia',), ('Asia',), ('Asia',), ('Asia',), ('Asia',), ('Asia',), ('Asia',), ('Asia',), ('Asia',), ('Asia',), ('Asia',), ('Asia',), ('Asia',), ('Asia',), ('Asia',), ('Asia',), ('Asia',), ('Asia',), ('Asia',), ('Asia',), ('Asia',), ('Asia',), ('Asia',), ('Asia',), ('Asia',), ('Asia',), ('Asia',), ('Asia',), ('Asia',), ('Asia',), ('Asia',), ('Asia',), ('Asia',), ('Asia',), ('Asia',), ('Asia',), ('Asia',), ('Asia',), ('Asia',), ('Asia',), ('Asia',), ('Asia',), ('Asia',), ('Asia',), ('Asia',), ('Asia',), ('Asia',), ('Asia',), ('Asia',), ('Asia',), ('Asia',), ('Asia',), ('Asia',), ('Asia',), ('Asia',), ('Asia',), ('Asia',), ('Asia',), ('Asia',), ('Asia',), ('Asia',), ('Asia',), ('Asia',), ('Asia',), ('Asia',), ('Asia',), ('Asia',), ('Asia',), ('Asia',), ('Asia',), ('Asia',), ('Asia',), ('Asia',), ('Asia',), ('Asia',), ('Asia',), ('Asia',), ('Asia',), ('Asia',), ('Asia',), ('Asia',), ('Asia',), ('Asia',), ('Asia',), ('Asia',), ('Asia',), ('Asia',), ('Asia',), ('Asia',), ('Asia',), ('Asia',), ('Asia',), ('Asia',), ('Asia',), ('Asia',), ('Asia',), ('Asia',), ('Asia',), ('Asia',), ('Asia',), ('Asia',), ('Asia',), ('Asia',), ('Asia',), ('Asia',), ('Asia',), ('Asia',), ('Asia',), ('Asia',), ('Asia',), ('Asia',), ('Asia',), ('Asia',), ('Asia',), ('Asia',), ('Asia',), ('Asia',), ('Asia',), ('Asia',), ('Asia',), ('Asia',), ('Asia',), ('Asia',), ('Asia',), ('Asia',), ('Asia',), ('Asia',), ('Asia',), ('Asia',), ('Asia',), ('Asia',), ('Asia',), ('Asia',), ('Asia',), ('Asia',), ('Asia',), ('Asia',), ('Asia',), ('Asia',), ('Asia',), ('Asia',), ('Asia',), ('Asia',), ('Asia',), ('Asia',), ('Asia',), ('Asia',), ('Asia',), ('Asia',), ('Asia',), ('Asia',), ('Asia',), ('Asia',), ('Asia',), ('Asia',), ('Asia',), ('Asia',), ('Asia',), ('Asia',), ('Asia',), ('Asia',), ('Asia',), ('Asia',), ('Asia',), ('Asia',), ('Asia',), ('Asia',), ('Asia',), ('Asia',), ('Asia',), ('Asia',), ('Asia',), ('Asia',), ('Asia',), ('Asia',), ('Asia',), ('Asia',), ('Asia',), ('Asia',), ('Asia',), ('Asia',), ('Asia',), ('Asia',), ('Asia',), ('Asia',), ('Asia',), ('Asia',), ('Asia',), ('Asia',), ('Asia',), ('Asia',), ('Asia',), ('Asia',), ('Asia',), ('Asia',), ('Asia',), ('Asia',), ('Asia',), ('Asia',), ('Asia',), ('Asia',), ('Asia',), ('Asia',), ('Asia',), ('Asia',), ('Asia',), ('Asia',), ('Asia',), ('Asia',), ('Asia',), ('Asia',), ('Asia',), ('Asia',), ('Asia',), ('Asia',), ('Asia',), ('Asia',), ('Asia',), ('Asia',), ('Asia',), ('Asia',), ('Asia',), ('Asia',), ('Asia',), ('Asia',), ('Asia',), ('Asia',), ('Asia',), ('Asia',), ('Asia',), ('Asia',), ('Asia',), ('Asia',), ('Asia',), ('Asia',), ('Asia',), ('Asia',), ('Asia',), ('Asia',), ('Asia',), ('Asia',), ('Asia',), ('Asia',), ('Asia',), ('Asia',), ('Asia',), ('Asia',), ('Asia',), ('Asia',), ('Asia',), ('Asia',), ('Asia',), ('Asia',), ('Asia',), ('Asia',), ('Asia',), ('Asia',), ('Asia',), ('Asia',), ('Asia',), ('Asia',), ('Asia',), ('Asia',), ('Asia',), ('Asia',), ('Asia',), ('Asia',), ('Asia',), ('Asia',), ('Asia',), ('Asia',), ('Asia',), ('Asia',), ('Asia',), ('Asia',), ('Asia',), ('Asia',), ('Asia',), ('Asia',), ('Asia',), ('Asia',), ('Asia',), ('Asia',), ('Asia',), ('Asia',), ('Asia',), ('Asia',), ('Asia',), ('Asia',), ('Asia',), ('Asia',), ('Asia',), ('Asia',), ('Asia',), ('Asia',), ('Asia',), ('Asia',), ('Asia',), ('Asia',), ('Asia',), ('Asia',), ('Asia',), ('Asia',), ('Asia',), ('Asia',), ('Asia',), ('Asia',), ('Asia',), ('Asia',), ('Asia',), ('Asia',), ('Asia',), ('Asia',), ('Asia',), ('Asia',), ('Asia',), ('Asia',), ('Asia',), ('Asia',), ('Asia',), ('Asia',), ('Asia',), ('Asia',), ('Asia',), ('Asia',), ('Asia',), ('Asia',), ('Asia',), ('Asia',), ('Asia',), ('Asia',), ('Asia',), ('Asia',), ('Asia',), ('Asia',), ('Asia',), ('Asia',), ('Asia',), ('Asia',), ('Asia',), ('Asia',), ('Asia',), ('Asia',), ('Asia',), ('Asia',), ('Asia',), ('Asia',), ('Asia',), ('Asia',), ('Asia',), ('Asia',), ('Asia',), ('Asia',), ('Asia',), ('Asia',), ('Asia',), ('Asia',), ('Asia',), ('Asia',), ('Asia',), ('Asia',), ('Asia',), ('Asia',), ('Asia',), ('Asia',), ('Asia',), ('Asia',), ('Asia',), ('Asia',), ('Asia',), ('Asia',), ('Asia',), ('Asia',), ('Asia',), ('Asia',), ('Asia',), ('Asia',), ('Asia',), ('Asia',), ('Asia',), ('Asia',), ('Asia',), ('Asia',), ('Asia',), ('Asia',), ('Asia',), ('Asia',), ('Asia',), ('Asia',), ('Asia',), ('Asia',), ('Asia',), ('Asia',), ('Asia',), ('Asia',), ('Asia',), ('Asia',), ('Asia',), ('Asia',), ('Asia',), ('Asia',), ('Asia',), ('Asia',), ('Asia',), ('Asia',), ('Asia',), ('Asia',), ('Asia',), ('Asia',), ('Asia',), ('Asia',), ('Asia',), ('Asia',), ('Asia',), ('Asia',), ('Asia',), ('Asia',), ('Asia',), ('Asia',), ('Asia',), ('Asia',), ('Asia',), ('Asia',), ('Asia',), ('Asia',), ('Asia',), ('Asia',), ('Asia',), ('Asia',), ('Asia',), ('Asia',), ('Asia',), ('Asia',), ('Asia',), ('Asia',), ('Asia',), ('Asia',), ('Asia',), ('Asia',), ('Asia',), ('Asia',), ('Asia',), ('Asia',), ('Asia',), ('Asia',), ('Asia',), ('Asia',), ('Asia',), ('Asia',), ('Asia',), ('Asia',), ('Asia',), ('Asia',), ('Asia',), ('Asia',), ('Asia',), ('Asia',), ('Asia',), ('Asia',), ('Asia',), ('Asia',), ('Asia',), ('Asia',), ('Asia',), ('Asia',), ('Asia',), ('Asia',), ('Asia',), ('Asia',), ('Asia',), ('Asia',), ('Asia',), ('Asia',), ('Asia',), ('Asia',), ('Asia',), ('Asia',), ('Asia',), ('Asia',), ('Asia',), ('Asia',), ('Asia',), ('Asia',), ('Asia',), ('Asia',), ('Asia',), ('Asia',), ('Asia',), ('Asia',), ('Asia',), ('Asia',), ('Asia',), ('Asia',), ('Asia',), ('Asia',), ('Asia',), ('Asia',), ('Asia',), ('Asia',), ('Asia',), ('Asia',), ('Asia',), ('Asia',), ('Asia',), ('Asia',), ('Asia',), ('Asia',), ('Asia',), ('Asia',), ('Asia',), ('Asia',), ('Asia',), ('Asia',), ('Asia',), ('Asia',), ('Asia',), ('Asia',), ('Asia',), ('Asia',), ('Asia',), ('Asia',), ('Asia',), ('Asia',), ('Asia',), ('Asia',), ('Asia',), ('Asia',), ('Asia',), ('Asia',), ('Asia',), ('Asia',), ('Asia',), ('Asia',), ('Asia',), ('Asia',), ('Asia',), ('Asia',), ('Asia',), ('Asia',), ('Asia',), ('Asia',), ('Asia',), ('Asia',), ('Asia',), ('Asia',), ('Asia',), ('Asia',), ('Asia',), ('Asia',), ('Asia',), ('Asia',), ('Asia',), ('Asia',), ('Asia',), ('Asia',), ('Asia',), ('Asia',), ('Asia',), ('Asia',), ('Asia',), ('Asia',), ('Asia',), ('Asia',), ('Asia',), ('Asia',), ('Asia',), ('Asia',), ('Asia',), ('Asia',), ('Asia',), ('Asia',), ('Asia',), ('Asia',), ('Asia',), ('Asia',), ('Asia',), ('Asia',), ('Asia',), ('Asia',), ('Asia',), ('Asia',), ('Asia',), ('Asia',), ('Asia',), ('Asia',), ('Asia',), ('Asia',), ('Asia',), ('Asia',), ('Asia',), ('Asia',), ('Asia',), ('Asia',), ('Asia',), ('Asia',), ('Asia',), ('Asia',), ('Asia',), ('Asia',), ('Asia',), ('Asia',), ('Asia',), ('Asia',), ('Asia',), ('Asia',), ('Asia',), ('Asia',), ('Asia',), ('Asia',), ('Asia',), ('Asia',), ('Asia',), ('Asia',), ('Asia',), ('Asia',), ('Asia',), ('Asia',), ('Asia',), ('Asia',), ('Asia',), ('Asia',), ('Asia',), ('Asia',), ('Asia',), ('Asia',), ('Asia',), ('Asia',), ('Asia',), ('Asia',), ('Asia',), ('Asia',), ('Asia',), ('Asia',), ('Asia',), ('Asia',), ('Asia',), ('Asia',), ('Asia',), ('Asia',), ('Asia',), ('Asia',), ('Asia',), ('Asia',), ('Asia',), ('Asia',), ('Asia',), ('Asia',), ('Asia',), ('Asia',), ('Asia',), ('Asia',), ('Asia',), ('Asia',), ('Asia',), ('Asia',), ('Asia',), ('Asia',), ('Asia',), ('Asia',), ('Asia',), ('Asia',), ('Asia',), ('Asia',), ('Asia',), ('Asia',), ('Asia',), ('Asia',), ('Asia',), ('Asia',), ('Asia',), ('Asia',), ('Asia',), ('Asia',), ('Asia',), ('Asia',), ('Asia',), ('Asia',), ('Asia',), ('Asia',), ('Asia',), ('Asia',), ('Asia',), ('Asia',), ('Asia',), ('Asia',), ('Asia',), ('Asia',), ('Asia',), ('Asia',), ('Asia',), ('Asia',), ('Asia',), ('Asia',), ('Asia',), ('Asia',), ('Asia',), ('Asia',), ('Asia',), ('Asia',), ('Asia',), ('Asia',), ('Asia',), ('Asia',), ('Asia',), ('Asia',), ('Asia',), ('Asia',), ('Asia',), ('Asia',), ('Asia',), ('Asia',), ('Asia',), ('Asia',), ('Asia',), ('Asia',), ('Asia',), ('Asia',), ('Asia',), ('Asia',), ('Asia',), ('Asia',), ('Asia',), ('Asia',), ('Asia',), ('Asia',), ('Asia',), ('Asia',), ('Asia',), ('Asia',), ('Asia',), ('Asia',), ('Asia',), ('Asia',), ('Asia',), ('Asia',), ('Asia',), ('Asia',), ('Asia',), ('Asia',), ('Asia',), ('Asia',), ('Asia',), ('Asia',), ('Asia',), ('Asia',), ('Asia',), ('Asia',), ('Asia',), ('Asia',), ('Asia',), ('Asia',), ('Asia',), ('Asia',), ('Asia',), ('Asia',), ('Asia',), ('Asia',), ('Asia',), ('Asia',), ('Asia',), ('Asia',), ('Asia',), ('Asia',), ('Asia',), ('Asia',), ('Asia',), ('Asia',), ('Asia',), ('Asia',), ('Asia',), ('Asia',), ('Asia',), ('Asia',), ('Asia',), ('Asia',), ('Asia',), ('Asia',), ('Asia',), ('Asia',), ('Asia',), ('Asia',), ('Asia',), ('Asia',), ('Asia',), ('Asia',), ('Asia',), ('Asia',), ('Asia',), ('Asia',), ('Asia',), ('Asia',), ('Asia',), ('Asia',), ('Asia',), ('Asia',), ('Asia',), ('Asia',), ('Asia',), ('Asia',), ('Asia',), ('Asia',), ('Asia',), ('Asia',), ('Asia',), ('Asia',), ('Asia',), ('Asia',), ('Asia',), ('Asia',), ('Asia',), ('Asia',), ('Asia',), ('Asia',), ('Asia',), ('Asia',), ('Asia',), ('Asia',), ('Asia',), ('Asia',), ('Asia',), ('Asia',), ('Asia',), ('Asia',), ('Asia',), ('Asia',), ('Asia',), ('Asia',), ('Asia',), ('Asia',), ('Asia',), ('Asia',), ('Asia',), ('Asia',), ('Asia',), ('Asia',), ('Asia',), ('Asia',), ('Asia',), ('Asia',), ('Asia',), ('Asia',), ('Asia',), ('Asia',), ('Asia',), ('Asia',), ('Asia',), ('Asia',), ('Asia',), ('Asia',), ('Asia',), ('Asia',), ('Asia',), ('Asia',), ('Asia',), ('Asia',), ('Asia',), ('Asia',), ('Asia',), ('Asia',), ('Asia',), ('Asia',), ('Asia',), ('Asia',), ('Asia',), ('Asia',), ('Asia',), ('Asia',), ('Asia',), ('Asia',), ('Asia',), ('Asia',), ('Asia',), ('Asia',), ('Asia',), ('Asia',), ('Asia',), ('Asia',), ('Asia',), ('Asia',), ('Asia',), ('Asia',), ('Asia',), ('Asia',), ('Asia',), ('Asia',), ('Asia',), ('Asia',), ('Asia',), ('Asia',), ('Asia',), ('Asia',), ('Asia',), ('Asia',), ('Asia',), ('Asia',), ('Asia',), ('Asia',), ('Asia',), ('Asia',), ('Asia',), ('Asia',), ('Asia',), ('Asia',), ('Asia',), ('Asia',), ('Asia',), ('Asia',), ('Asia',), ('Asia',), ('Asia',), ('Asia',), ('Asia',), ('Asia',), ('Asia',), ('Asia',), ('Asia',), ('Asia',), ('Asia',), ('Asia',), ('Asia',), ('Asia',), ('Asia',), ('Asia',), ('Asia',), ('Asia',), ('Asia',), ('Asia',), ('Asia',), ('Asia',), ('Asia',), ('Asia',), ('Asia',), ('Asia',), ('Asia',), ('Asia',), ('Asia',), ('Asia',), ('Asia',), ('Asia',), ('Asia',), ('Asia',), ('Asia',), ('Asia',), ('Asia',), ('Asia',), ('Asia',), ('Asia',), ('Asia',), ('Asia',), ('Asia',), ('Asia',), ('Asia',), ('Asia',), ('Asia',), ('Asia',), ('Asia',), ('Asia',), ('Asia',), ('Asia',), ('Asia',), ('Asia',), ('Asia',), ('Asia',), ('Asia',), ('Asia',), ('Asia',), ('Asia',), ('Asia',), ('Asia',), ('Asia',), ('Asia',), ('Asia',), ('Asia',), ('Asia',), ('Asia',), ('Asia',), ('Asia',), ('Asia',), ('Asia',), ('Asia',), ('Asia',), ('Asia',), ('Asia',), ('Asia',), ('Asia',), ('Asia',), ('Asia',), ('Asia',), ('Asia',), ('Asia',), ('Asia',), ('Asia',), ('Asia',), ('Asia',), ('Asia',), ('Asia',), ('Asia',), ('Asia',), ('Asia',), ('Asia',), ('Asia',), ('Asia',), ('Asia',), ('Asia',), ('Asia',), ('Asia',), ('Asia',), ('Asia',), ('Asia',), ('Asia',), ('Asia',), ('Asia',), ('Asia',), ('Asia',), ('Asia',), ('Asia',), ('Asia',), ('Asia',), ('Asia',), ('Asia',), ('Asia',), ('Asia',), ('Asia',), ('Asia',), ('Asia',), ('Asia',), ('Asia',), ('Asia',), ('Asia',), ('Asia',), ('Asia',), ('Asia',), ('Asia',), ('Asia',), ('Asia',), ('Asia',), ('Asia',), ('Asia',), ('Asia',), ('Asia',), ('Asia',), ('Asia',), ('Asia',), ('Asia',), ('Asia',), ('Asia',), ('Asia',), ('Asia',), ('Asia',), ('Asia',), ('Asia',), ('Asia',), ('Asia',), ('Asia',), ('Asia',), ('Asia',), ('Asia',), ('Asia',), ('Asia',), ('Asia',), ('Asia',), ('Asia',), ('Asia',), ('Asia',), ('Asia',), ('Asia',), ('Asia',), ('Asia',), ('Asia',), ('Asia',), ('Asia',), ('Asia',), ('Asia',), ('Asia',), ('Asia',), ('Asia',), ('Asia',), ('Asia',), ('Asia',), ('Asia',), ('Asia',), ('Asia',), ('Asia',), ('Asia',), ('Asia',), ('Asia',), ('Asia',), ('Asia',), ('Asia',), ('Asia',), ('Asia',), ('Asia',), ('Asia',), ('Asia',), ('Asia',), ('Asia',), ('Asia',), ('Asia',), ('Asia',), ('Asia',), ('Asia',), ('Asia',), ('Asia',), ('Asia',), ('Asia',), ('Asia',), ('Asia',), ('Asia',), ('Asia',), ('Asia',), ('Asia',), ('Asia',), ('Asia',), ('Asia',), ('Asia',), ('Asia',), ('Asia',), ('Asia',), ('Asia',), ('Asia',), ('Asia',), ('Asia',), ('Asia',), ('Asia',), ('Asia',), ('Asia',), ('Asia',), ('Asia',), ('Asia',), ('Asia',), ('Asia',), ('Asia',), ('Asia',), ('Asia',), ('Asia',), ('Asia',), ('Asia',), ('Asia',), ('Asia',), ('Asia',), ('Asia',), ('Asia',), ('Asia',), ('Asia',), ('Asia',), ('Asia',), ('Asia',), ('Asia',), ('Asia',), ('Asia',), ('Asia',), ('Asia',), ('Asia',), ('Asia',), ('Asia',), ('Asia',), ('Asia',), ('Asia',), ('Asia',), ('Asia',), ('Asia',), ('Asia',), ('Asia',), ('Asia',), ('Asia',), ('Asia',), ('Asia',), ('Asia',), ('Asia',), ('Asia',), ('Asia',), ('Asia',), ('Asia',), ('Asia',), ('Asia',), ('Asia',), ('Asia',), ('Asia',), ('Asia',), ('Asia',), ('Asia',), ('Asia',), ('Asia',), ('Asia',), ('Asia',), ('Asia',), ('Asia',), ('Asia',), ('Asia',), ('Asia',), ('Asia',), ('Asia',), ('Asia',), ('Asia',), ('Asia',), ('Asia',), ('Asia',), ('Asia',), ('Asia',), ('Asia',), ('Asia',), ('Asia',), ('Asia',), ('Asia',), ('Asia',), ('Asia',), ('Asia',), ('Asia',), ('Asia',), ('Asia',), ('Asia',), ('Asia',), ('Asia',), ('Asia',), ('Asia',), ('Asia',), ('Asia',), ('Asia',), ('Asia',), ('Asia',), ('Asia',), ('Asia',), ('Asia',), ('Asia',), ('Asia',), ('Asia',), ('Asia',), ('Asia',), ('Asia',), ('Asia',), ('Asia',), ('Asia',), ('Asia',), ('Asia',), ('Asia',), ('Asia',), ('Asia',), ('Asia',), ('Asia',), ('Asia',), ('Asia',), ('Asia',), ('Asia',), ('Asia',), ('Asia',), ('Asia',), ('Asia',), ('Asia',), ('Asia',), ('Asia',), ('Asia',), ('Asia',), ('Asia',), ('Asia',), ('Asia',), ('Asia',), ('Asia',), ('Asia',), ('Asia',), ('Asia',), ('Asia',), ('Asia',), ('Asia',), ('Asia',), ('Asia',), ('Asia',), ('Asia',), ('Asia',), ('Asia',), ('Asia',), ('Asia',), ('Asia',), ('Asia',), ('Asia',), ('Asia',), ('Asia',), ('Asia',), ('Asia',), ('Asia',), ('Asia',), ('Asia',), ('Asia',), ('Asia',), ('Asia',), ('Asia',), ('Asia',), ('Asia',), ('Asia',), ('Asia',), ('Asia',), ('Asia',), ('Asia',), ('Asia',), ('Asia',), ('Asia',), ('Asia',), ('Asia',), ('Asia',), ('Asia',), ('Asia',), ('Asia',), ('Asia',), ('Asia',), ('Asia',), ('Asia',), ('Asia',), ('Asia',), ('Asia',), ('Asia',), ('Asia',), ('Asia',), ('Asia',), ('Asia',), ('Asia',), ('Asia',), ('Asia',), ('Asia',), ('Asia',), ('Asia',), ('Asia',), ('Asia',), ('Asia',), ('Asia',), ('Asia',), ('Asia',), ('Asia',), ('Asia',), ('Asia',), ('Asia',), ('Asia',), ('Asia',), ('Asia',), ('Asia',), ('Asia',), ('Asia',), ('Asia',), ('Asia',), ('Asia',), ('Asia',), ('Asia',), ('Asia',), ('Asia',), ('Asia',), ('Asia',), ('Asia',), ('Asia',), ('Asia',), ('Asia',), ('Asia',), ('Asia',), ('Asia',), ('Asia',), ('Asia',), ('Asia',), ('Asia',), ('Asia',), ('Asia',), ('Asia',), ('Asia',), ('Asia',), ('Asia',), ('Asia',), ('Asia',), ('Asia',), ('Asia',), ('Asia',), ('Asia',), ('Asia',), ('Asia',), ('Asia',), ('Asia',), ('Asia',), ('Asia',), ('Asia',), ('Asia',), ('Asia',), ('Asia',), ('Asia',), ('Asia',), ('Asia',), ('Asia',), ('Asia',), ('Asia',), ('Asia',), ('Asia',), ('Asia',), ('Asia',), ('Asia',), ('Asia',), ('Asia',), ('Asia',), ('Asia',), ('Asia',), ('Asia',), ('Asia',), ('Asia',), ('Asia',), ('Asia',), ('Asia',), ('Asia',), ('Asia',), ('Asia',), ('Asia',), ('Asia',), ('Asia',), ('Asia',), ('Asia',), ('Asia',), ('Asia',), ('Asia',), ('Asia',), ('Asia',), ('Asia',), ('Asia',), ('Asia',), ('Asia',), ('Asia',), ('Asia',), ('Asia',), ('Asia',), ('Asia',), ('Asia',), ('Asia',), ('Asia',), ('Asia',), ('Asia',), ('Asia',), ('Asia',), ('Asia',), ('Asia',), ('Asia',), ('Asia',), ('Asia',), ('Asia',), ('Asia',), ('Asia',), ('Asia',), ('Asia',), ('Asia',), ('Asia',), ('Asia',), ('Asia',), ('Asia',), ('Asia',), ('Asia',), ('Asia',), ('Asia',), ('Asia',), ('Asia',), ('Asia',), ('Asia',), ('Asia',), ('Asia',), ('Asia',), ('Asia',), ('Asia',), ('Asia',), ('Asia',), ('Asia',), ('Asia',), ('Asia',), ('Asia',), ('Asia',), ('Asia',), ('Asia',), ('Asia',), ('Asia',), ('Asia',), ('Asia',), ('Asia',), ('Asia',), ('Asia',), ('Asia',), ('Asia',), ('Asia',), ('Asia',), ('Asia',), ('Asia',), ('Asia',), ('Asia',), ('Asia',), ('Asia',), ('Asia',), ('Asia',), ('Asia',), ('Asia',), ('Asia',), ('Asia',), ('Asia',), ('Asia',), ('Asia',), ('Asia',), ('Asia',), ('Asia',), ('Asia',), ('Asia',), ('Asia',), ('Asia',), ('Asia',), ('Asia',), ('Asia',), ('Asia',), ('Asia',), ('Asia',), ('Asia',), ('Asia',), ('Asia',), ('Asia',), ('Asia',), ('Asia',), ('Asia',), ('Asia',), ('Asia',), ('Asia',), ('Asia',), ('Asia',), ('Asia',), ('Asia',), ('Asia',), ('Asia',), ('Asia',), ('Asia',), ('Asia',), ('Asia',), ('Asia',), ('Asia',), ('Asia',), ('Asia',), ('Asia',), ('Asia',), ('Asia',), ('Asia',), ('Asia',), ('Asia',), ('Asia',), ('Asia',), ('Asia',), ('Asia',), ('Asia',), ('Asia',), ('Asia',), ('Asia',), ('Asia',), ('Asia',), ('Asia',), ('Asia',), ('Asia',), ('Asia',), ('Asia',), ('Asia',), ('Asia',), ('Asia',), ('Asia',), ('Asia',), ('Asia',), ('Asia',), ('Asia',), ('Asia',), ('Asia',), ('Asia',), ('Asia',), ('Asia',), ('Asia',), ('Asia',), ('Asia',), ('Asia',), ('Asia',), ('Asia',), ('Asia',), ('Asia',), ('Asia',), ('Asia',), ('Asia',), ('Asia',), ('Asia',), ('Asia',), ('Asia',), ('Asia',), ('Asia',), ('Asia',), ('Asia',), ('Asia',), ('Asia',), ('Asia',), ('Asia',), ('Asia',), ('Asia',), ('Asia',), ('Asia',), ('Asia',), ('Asia',), ('Asia',), ('Asia',), ('Asia',), ('Asia',), ('Asia',), ('Asia',), ('Asia',), ('Asia',), ('Asia',), ('Asia',), ('Asia',), ('Asia',), ('Asia',), ('Asia',), ('Asia',), ('Asia',), ('Asia',), ('Asia',), ('Asia',), ('Asia',), ('Asia',), ('Asia',), ('Asia',), ('Asia',), ('Asia',), ('Asia',), ('Asia',), ('Asia',), ('Asia',), ('Asia',), ('Asia',), ('Asia',), ('Asia',), ('Asia',), ('Asia',), ('Asia',), ('Asia',), ('Asia',), ('Asia',), ('Asia',), ('Asia',), ('Asia',), ('Asia',), ('Asia',), ('Asia',), ('Asia',), ('Asia',), ('Asia',), ('Asia',), ('Asia',), ('Asia',), ('Asia',), ('Asia',), ('Asia',), ('Asia',), ('Asia',), ('Asia',), ('Asia',), ('Asia',), ('Asia',), ('Asia',), ('Asia',), ('Asia',), ('Asia',), ('Asia',), ('Asia',), ('Asia',), ('Asia',), ('Asia',), ('Asia',), ('Asia',), ('Asia',), ('Asia',), ('Asia',), ('Asia',), ('Asia',), ('Asia',), ('Asia',), ('Asia',), ('Asia',), ('Asia',), ('Asia',), ('Asia',), ('Asia',), ('Asia',), ('Asia',), ('Asia',), ('Asia',), ('Asia',), ('Asia',), ('Asia',), ('Asia',), ('Asia',), ('Asia',), ('Asia',), ('Asia',), ('Asia',), ('Asia',), ('Asia',), ('Asia',), ('Asia',), ('Asia',), ('Asia',), ('Asia',), ('Asia',), ('Asia',), ('Asia',), ('Asia',), ('Asia',), ('Asia',), ('Asia',), ('Asia',), ('Asia',), ('Asia',), ('Asia',), ('Asia',), ('Asia',), ('Asia',), ('Asia',), ('Asia',), ('Asia',), ('Asia',), ('Asia',), ('Asia',), ('Asia',), ('Asia',), ('Asia',), ('Asia',), ('Asia',), ('Asia',), ('Asia',), ('Asia',), ('Asia',), ('Asia',), ('Asia',), ('Asia',), ('Asia',), ('Asia',), ('Asia',), ('Asia',), ('Asia',), ('Asia',), ('Asia',), ('Asia',), ('Asia',), ('Asia',), ('Asia',), ('Asia',), ('Asia',), ('Asia',), ('Asia',), ('Asia',), ('Asia',), ('Asia',), ('Asia',), ('Asia',), ('Asia',), ('Asia',), ('Asia',), ('Asia',), ('Asia',), ('Asia',), ('Asia',), ('Asia',), ('Asia',), ('Asia',), ('Asia',), ('Asia',), ('Asia',), ('Asia',), ('Asia',), ('Asia',), ('Asia',), ('Asia',), ('Asia',), ('Asia',), ('Asia',), ('Asia',), ('Asia',), ('Asia',), ('Asia',), ('Asia',), ('Asia',), ('Asia',), ('Asia',), ('Asia',), ('Asia',), ('Asia',), ('Asia',), ('Asia',), ('Asia',), ('Asia',), ('Asia',), ('Asia',), ('Asia',), ('Asia',), ('Asia',), ('Asia',), ('Asia',), ('Asia',), ('Asia',), ('Asia',), ('Asia',), ('Asia',), ('Asia',), ('Asia',), ('Asia',), ('Asia',), ('Asia',), ('Asia',), ('Asia',), ('Asia',), ('Asia',), ('Asia',), ('Asia',), ('Asia',), ('Asia',), ('Asia',), ('Asia',), ('Asia',), ('Asia',), ('Asia',), ('Asia',), ('Asia',), ('Asia',), ('Asia',), ('Asia',), ('Asia',), ('Asia',), ('Asia',), ('Asia',), ('Asia',), ('Asia',), ('Asia',), ('Asia',), ('Asia',), ('Asia',), ('Asia',), ('Asia',), ('Asia',), ('Asia',), ('Asia',), ('Asia',), ('Asia',), ('Asia',), ('Asia',), ('Asia',), ('Asia',), ('Asia',), ('Asia',), ('Asia',), ('Asia',), ('Asia',), ('Asia',), ('Asia',), ('Asia',), ('Asia',), ('Asia',), ('Asia',), ('Asia',), ('Asia',), ('Asia',), ('Asia',), ('Asia',), ('Asia',), ('Asia',), ('Asia',), ('Asia',), ('Asia',), ('Asia',), ('Asia',), ('Asia',), ('Asia',), ('Asia',), ('Asia',), ('Asia',), ('Asia',), ('Asia',), ('Asia',), ('Asia',), ('Asia',), ('Asia',), ('Asia',), ('Asia',), ('Asia',), ('Asia',), ('Asia',), ('Asia',), ('Asia',), ('Asia',), ('Asia',), ('Asia',), ('Asia',), ('Asia',), ('Asia',), ('Asia',), ('Asia',), ('Asia',), ('Asia',), ('Asia',), ('Asia',), ('Asia',), ('Asia',), ('Asia',), ('Asia',), ('Asia',), ('Asia',), ('Asia',), ('Asia',), ('Asia',), ('Asia',), ('Asia',), ('Asia',), ('Asia',), ('Asia',), ('Asia',), ('Asia',), ('Asia',), ('Asia',), ('Asia',), ('Asia',), ('Asia',), ('Asia',), ('Asia',), ('Asia',), ('Asia',), ('Asia',), ('Asia',), ('Asia',), ('Asia',), ('Asia',), ('Asia',), ('Asia',), ('Asia',), ('Asia',), ('Asia',), ('Asia',), ('Asia',), ('Asia',), ('Asia',), ('Asia',), ('Asia',), ('Asia',), ('Asia',), ('Asia',), ('Asia',), ('Asia',), ('Asia',), ('Asia',), ('Asia',), ('Asia',), ('Asia',), ('Asia',), ('Asia',), ('Asia',), ('Asia',), ('Asia',), ('Asia',), ('Asia',), ('Asia',), ('Asia',), ('Asia',), ('Asia',), ('Asia',), ('Asia',), ('Asia',), ('Asia',), ('Asia',), ('Asia',), ('Asia',), ('Asia',), ('Asia',), ('Asia',), ('Asia',), ('Asia',), ('Asia',), ('Asia',), ('Asia',), ('Asia',), ('Asia',), ('Asia',), ('Asia',), ('Asia',), ('Asia',), ('Asia',), ('Asia',), ('Asia',), ('Asia',), ('Asia',), ('Asia',), ('Asia',), ('Asia',), ('Asia',), ('Asia',), ('Asia',), ('Asia',), ('Asia',), ('Asia',), ('Asia',), ('Asia',), ('Asia',), ('Asia',), ('Asia',), ('Asia',), ('Asia',), ('Asia',), ('Asia',), ('Asia',), ('Asia',), ('Asia',), ('Asia',), ('Asia',), ('Asia',), ('Asia',), ('Asia',), ('Asia',), ('Asia',), ('Asia',), ('Asia',), ('Asia',), ('Asia',), ('Asia',), ('Asia',), ('Asia',), ('Asia',), ('Asia',), ('Asia',), ('Asia',), ('Asia',), ('Asia',), ('Asia',), ('Asia',), ('Asia',), ('Asia',), ('Asia',), ('Asia',), ('Asia',), ('Asia',), ('Asia',), ('Asia',), ('Asia',), ('Asia',), ('Asia',), ('Asia',), ('Asia',), ('Asia',), ('Asia',), ('Asia',), ('Asia',), ('Asia',), ('Asia',), ('Asia',), ('Asia',), ('Asia',), ('Asia',), ('Asia',), ('Asia',), ('Asia',), ('Asia',), ('Asia',), ('Asia',), ('Asia',), ('Asia',), ('Asia',), ('Asia',), ('Asia',), ('Asia',), ('Asia',), ('Asia',), ('Asia',), ('Asia',), ('Asia',), ('Asia',), ('Asia',), ('Asia',), ('Asia',), ('Asia',), ('Asia',), ('Asia',), ('Asia',), ('Asia',), ('Asia',), ('Asia',), ('Asia',), ('Asia',), ('Asia',), ('Asia',), ('Asia',), ('Asia',), ('Asia',), ('Asia',), ('Asia',), ('Asia',), ('Asia',), ('Asia',), ('Asia',), ('Asia',), ('Asia',), ('Asia',), ('Asia',), ('Asia',), ('Asia',), ('Asia',), ('Asia',), ('Asia',), ('Asia',), ('Asia',), ('Asia',), ('Asia',), ('Asia',), ('Asia',), ('Asia',), ('Asia',), ('Asia',), ('Asia',), ('Asia',), ('Asia',), ('Asia',), ('Asia',), ('Asia',), ('Asia',), ('Asia',), ('Asia',), ('Asia',), ('Asia',), ('Asia',), ('Asia',), ('Asia',), ('Asia',), ('Asia',), ('Asia',), ('Asia',), ('Asia',), ('Asia',), ('Asia',), ('Asia',), ('Asia',), ('Asia',), ('Asia',), ('Asia',), ('Asia',), ('Asia',), ('Asia',), ('Asia',), ('Asia',), ('Asia',), ('Asia',), ('Asia',), ('Asia',), ('Asia',), ('Asia',), ('Asia',), ('Asia',), ('Asia',), ('Asia',), ('Asia',), ('Asia',), ('Asia',), ('Asia',), ('Asia',), ('Asia',), ('Asia',), ('Asia',), ('Asia',), ('Asia',), ('Asia',), ('Asia',), ('Asia',), ('Asia',), ('Asia',), ('Asia',), ('Asia',), ('Asia',), ('Asia',), ('Asia',), ('Asia',), ('Asia',), ('Asia',), ('Asia',), ('Asia',), ('Asia',), ('Asia',), ('Asia',), ('Asia',), ('Asia',), ('Asia',), ('Asia',), ('Asia',), ('Asia',), ('Asia',), ('Asia',), ('Asia',), ('Asia',), ('Asia',), ('Asia',), ('Asia',), ('Asia',), ('Asia',), ('Asia',), ('Asia',), ('Asia',), ('Asia',), ('Asia',), ('Asia',), ('Asia',), ('Asia',), ('Asia',), ('Asia',), ('Asia',), ('Asia',), ('Asia',), ('Asia',), ('Asia',), ('Asia',), ('Asia',), ('Asia',), ('Asia',), ('Asia',), ('Asia',), ('Asia',), ('Asia',), ('Asia',), ('Asia',), ('Asia',), ('Asia',), ('Asia',), ('Asia',), ('Asia',), ('Asia',), ('Asia',), ('Asia',), ('Asia',), ('Asia',), ('Asia',), ('Asia',), ('Asia',), ('Asia',), ('Asia',), ('Asia',), ('Asia',), ('Asia',), ('Asia',), ('Asia',), ('Asia',), ('Asia',), ('Asia',), ('Asia',), ('Asia',), ('Asia',), ('Asia',), ('Asia',), ('Asia',), ('Asia',), ('Asia',), ('Asia',), ('Asia',), ('Asia',), ('Asia',), ('Asia',), ('Asia',), ('Asia',), ('Asia',), ('Asia',), ('Asia',), ('Asia',), ('Asia',), ('Asia',), ('Asia',), ('Asia',), ('Asia',), ('Asia',), ('Asia',), ('Asia',), ('Asia',), ('Asia',), ('Asia',), ('Asia',), ('Asia',), ('Asia',), ('Asia',), ('Asia',), ('Asia',), ('Asia',), ('Asia',), ('Asia',), ('Asia',), ('Asia',), ('Asia',), ('Asia',), ('Asia',), ('Asia',), ('Asia',), ('Asia',), ('Asia',), ('Asia',), ('Asia',), ('Asia',), ('Asia',), ('Asia',), ('Asia',), ('Asia',), ('Asia',), ('Asia',), ('Asia',), ('Asia',), ('Asia',), ('Asia',), ('Asia',), ('Asia',), ('Asia',), ('Asia',), ('Asia',), ('Asia',), ('Asia',), ('Asia',), ('Asia',), ('Asia',), ('Asia',), ('Asia',), ('Asia',), ('Asia',), ('Asia',), ('Asia',), ('Asia',), ('Asia',), ('Asia',), ('Asia',), ('Asia',), ('Asia',), ('Asia',), ('Asia',), ('Asia',), ('Asia',), ('Asia',), ('Asia',), ('Asia',), ('Asia',), ('Asia',), ('Asia',), ('Asia',), ('Asia',), ('Asia',), ('Asia',), ('Asia',), ('Asia',), ('Asia',), ('Asia',), ('Asia',), ('Asia',), ('Asia',), ('Asia',), ('Asia',), ('Asia',), ('Asia',), ('Asia',), ('Asia',), ('Asia',), ('Asia',), ('Asia',), ('Asia',), ('Asia',), ('Asia',), ('Asia',), ('Asia',), ('Asia',), ('Asia',), ('Asia',), ('Asia',), ('Asia',), ('Asia',), ('Asia',), ('Asia',), ('Asia',), ('Asia',), ('Asia',), ('Asia',), ('Asia',), ('Asia',), ('Asia',), ('Asia',), ('Asia',), ('Asia',), ('Asia',), ('Asia',), ('Asia',), ('Asia',), ('Asia',), ('Asia',), ('Asia',), ('Asia',), ('Asia',), ('Asia',), ('Asia',), ('Asia',), ('Asia',), ('Asia',), ('Asia',), ('Asia',), ('Asia',), ('Asia',), ('Asia',), ('Asia',), ('Asia',), ('Asia',), ('Asia',), ('Asia',), ('Asia',), ('Asia',), ('Asia',), ('Asia',), ('Asia',), ('Asia',), ('Asia',), ('Asia',), ('Asia',), ('Asia',), ('Asia',), ('Asia',), ('Asia',), ('Asia',), ('Asia',), ('Asia',), ('Asia',), ('Asia',), ('Asia',), ('Asia',), ('Asia',), ('Asia',), ('Asia',), ('Asia',), ('Asia',), ('Asia',), ('Asia',), ('Asia',), ('Asia',), ('Asia',), ('Asia',), ('Asia',), ('Asia',), ('Asia',), ('Asia',), ('Asia',), ('Asia',), ('Asia',), ('Asia',), ('Asia',), ('Asia',), ('Asia',), ('Asia',), ('Asia',), ('Asia',), ('Asia',), ('Asia',), ('Asia',), ('Asia',), ('Asia',), ('Asia',), ('Asia',), ('Asia',), ('Asia',), ('Asia',), ('Asia',), ('Asia',), ('Asia',), ('Asia',), ('Asia',), ('Asia',), ('Asia',), ('Asia',), ('Asia',), ('Asia',), ('Asia',), ('Asia',), ('Asia',), ('Asia',), ('Asia',), ('Asia',), ('Asia',), ('Asia',), ('Asia',), ('Asia',), ('Asia',), ('Asia',), ('Asia',), ('Asia',), ('Asia',), ('Asia',), ('Asia',), ('Asia',), ('Asia',), ('Asia',), ('Asia',), ('Asia',), ('Asia',), ('Asia',), ('Asia',), ('Asia',), ('Asia',), ('Asia',), ('Asia',), ('Asia',), ('Asia',), ('Asia',), ('Asia',), ('Asia',), ('Asia',), ('Asia',), ('Asia',), ('Asia',), ('Asia',), ('Asia',), ('Asia',), ('Asia',), ('Asia',), ('Asia',), ('Asia',), ('Asia',), ('Asia',), ('Asia',), ('Asia',), ('Asia',), ('Asia',), ('Asia',), ('Asia',), ('Asia',), ('Asia',), ('Asia',), ('Asia',), ('Asia',), ('Asia',), ('Asia',), ('Asia',), ('Asia',), ('Asia',), ('Asia',), ('Asia',), ('Asia',), ('Asia',), ('Asia',), ('Asia',), ('Asia',), ('Asia',), ('Asia',), ('Asia',), ('Asia',), ('Asia',), ('Asia',), ('Asia',), ('Asia',), ('Asia',), ('Asia',), ('Asia',), ('Asia',), ('Asia',), ('Asia',), ('Asia',), ('Asia',), ('Asia',), ('Asia',), ('Asia',), ('Asia',), ('Asia',), ('Asia',), ('Asia',), ('Asia',), ('Asia',), ('Asia',), ('Asia',), ('Asia',), ('Asia',), ('Asia',), ('Asia',), ('Asia',), ('Asia',), ('Asia',), ('Asia',), ('Asia',), ('Asia',), ('Asia',), ('Asia',), ('Asia',), ('Asia',), ('Asia',), ('Asia',), ('Asia',), ('Asia',), ('Asia',), ('Asia',), ('Asia',), ('Asia',), ('Asia',), ('Asia',), ('Asia',), ('Asia',), ('Asia',), ('Asia',), ('Asia',), ('Asia',), ('Asia',), ('Asia',), ('Asia',), ('Asia',), ('Asia',), ('Asia',), ('Asia',), ('Asia',), ('Asia',), ('Asia',), ('Asia',), ('Asia',), ('Asia',), ('Asia',), ('Asia',), ('Asia',), ('Asia',), ('Asia',), ('Asia',), ('Asia',), ('Asia',), ('Asia',), ('Asia',), ('Asia',), ('Asia',), ('Asia',), ('Asia',), ('Asia',), ('Asia',), ('Asia',), ('Asia',), ('Asia',), ('Asia',), ('Asia',), ('Asia',), ('Asia',), ('Asia',), ('Asia',), ('Asia',), ('Asia',), ('Asia',), ('Asia',), ('Asia',), ('Asia',), ('Asia',), ('Asia',), ('Asia',), ('Asia',), ('Asia',), ('Asia',), ('Asia',), ('Asia',), ('Asia',), ('Asia',), ('Asia',), ('Asia',), ('Asia',), ('Asia',), ('Asia',), ('Asia',), ('Asia',), ('Asia',), ('Asia',), ('Asia',), ('Asia',), ('Asia',), ('Asia',), ('Asia',), ('Asia',), ('Asia',), ('Asia',), ('Asia',), ('Asia',), ('Asia',), ('Asia',), ('Asia',), ('Asia',), ('Asia',), ('Asia',), ('Asia',), ('Asia',), ('Asia',), ('Asia',), ('Asia',), ('Asia',), ('Asia',), ('Asia',), ('Asia',), ('Asia',), ('Asia',), ('Asia',), ('Asia',), ('Asia',), ('Asia',), ('Asia',), ('Asia',), ('Asia',), ('Asia',), ('Asia',), ('Asia',), ('Asia',), ('Asia',), ('Asia',), ('Asia',), ('Asia',), ('Asia',), ('Asia',), ('Asia',), ('Asia',), ('Asia',), ('Asia',), ('Asia',), ('Asia',), ('Asia',), ('Asia',), ('Asia',), ('Asia',), ('Asia',), ('Asia',), ('Asia',), ('Asia',), ('Asia',), ('Asia',), ('Asia',), ('Asia',), ('Asia',), ('Asia',), ('Asia',), ('Asia',), ('Asia',), ('Asia',), ('Asia',), ('Asia',), ('Asia',), ('Asia',), ('Asia',), ('Asia',), ('Asia',), ('Asia',), ('Asia',), ('Asia',), ('Asia',), ('Asia',), ('Asia',), ('Asia',), ('Asia',), ('Asia',), ('Asia',), ('Asia',), ('Asia',), ('Asia',), ('Asia',), ('Asia',), ('Asia',), ('Asia',), ('Asia',), ('Asia',), ('Asia',), ('Asia',), ('Asia',), ('Asia',), ('Asia',), ('Asia',), ('Asia',), ('Asia',), ('Asia',), ('Asia',), ('Asia',), ('Asia',), ('Asia',), ('Asia',), ('Asia',), ('Asia',), ('Asia',), ('Asia',), ('Asia',), ('Asia',), ('Asia',), ('Asia',), ('Asia',), ('Asia',), ('Asia',), ('Asia',), ('Asia',), ('Asia',), ('Asia',), ('Asia',), ('Asia',), ('Asia',), ('Asia',), ('Asia',), ('Asia',), ('Asia',), ('Asia',), ('Asia',), ('Asia',), ('Asia',), ('Asia',), ('Asia',), ('Asia',), ('Asia',), ('Asia',), ('Asia',), ('Asia',), ('Asia',), ('Asia',), ('Asia',), ('Asia',), ('Asia',), ('Asia',), ('Asia',), ('Asia',), ('Asia',), ('Asia',), ('Asia',), ('Asia',), ('Asia',), ('Asia',), ('Asia',), ('Asia',), ('Asia',), ('Asia',), ('Asia',), ('Asia',), ('Asia',), ('Asia',), ('Asia',), ('Asia',), ('Asia',), ('Asia',), ('Asia',), ('Asia',), ('Asia',), ('Asia',), ('Asia',), ('Asia',), ('Asia',), ('Asia',), ('Asia',), ('Asia',), ('Asia',), ('Asia',), ('Asia',), ('Asia',), ('Asia',), ('Asia',), ('Asia',), ('Asia',), ('Asia',), ('Asia',), ('Asia',), ('Asia',), ('Asia',), ('Asia',), ('Asia',), ('Asia',), ('Asia',), ('Asia',), ('Asia',), ('Asia',), ('Asia',), ('Asia',), ('Asia',), ('Asia',), ('Asia',), ('Asia',), ('Asia',), ('Asia',), ('Asia',), ('Asia',), ('Asia',), ('Asia',), ('Asia',), ('Asia',), ('Asia',), ('Asia',), ('Asia',), ('Asia',), ('Asia',), ('Asia',), ('Asia',), ('Asia',), ('Asia',), ('Asia',), ('Asia',), ('Asia',), ('Asia',), ('Asia',), ('Asia',), ('Asia',), ('Asia',), ('Asia',), ('Asia',), ('Asia',), ('Asia',), ('Asia',), ('Asia',), ('Asia',), ('Asia',), ('Asia',), ('Asia',), ('Asia',), ('Asia',), ('Asia',), ('Asia',), ('Asia',), ('Asia',), ('Asia',), ('Asia',), ('Asia',), ('Asia',), ('Asia',), ('Asia',), ('Asia',), ('Asia',), ('Asia',), ('Asia',), ('Asia',), ('Asia',), ('Asia',), ('Asia',), ('Asia',), ('Asia',), ('Asia',), ('Asia',), ('Asia',), ('Asia',), ('Asia',), ('Asia',), ('Asia',), ('Asia',), ('Asia',), ('Asia',), ('Asia',), ('Asia',), ('Asia',), ('Asia',), ('Asia',), ('Asia',), ('Asia',), ('Asia',), ('Asia',), ('Asia',), ('Asia',), ('Asia',), ('Asia',), ('Asia',), ('Asia',), ('Asia',), ('Asia',), ('Asia',), ('Asia',), ('Asia',), ('Asia',), ('Asia',), ('Asia',), ('Asia',), ('Asia',), ('Asia',), ('Asia',), ('Asia',), ('Asia',), ('Asia',), ('Asia',), ('Asia',), ('Asia',), ('Asia',), ('Asia',), ('Asia',), ('Asia',), ('Asia',), ('Asia',), ('Asia',), ('Asia',), ('Asia',), ('Asia',), ('Asia',), ('Asia',), ('Asia',), ('Asia',), ('Asia',), ('Asia',), ('Asia',), ('Asia',), ('Asia',), ('Asia',), ('Asia',), ('Asia',), ('Asia',), ('Asia',), ('Asia',), ('Asia',), ('Asia',), ('Asia',), ('Asia',), ('Asia',), ('Asia',), ('Asia',), ('Asia',), ('Asia',), ('Asia',), ('Asia',), ('Asia',), ('Asia',), ('Asia',), ('Asia',), ('Asia',), ('Asia',), ('Asia',), ('Asia',), ('Asia',), ('Asia',), ('Asia',), ('Asia',), ('Asia',), ('Asia',), ('Asia',), ('Asia',), ('Asia',), ('Asia',), ('Asia',), ('Asia',), ('Asia',), ('Asia',), ('Asia',), ('Asia',), ('Asia',), ('Asia',), ('Asia',), ('Asia',), ('Asia',), ('Asia',), ('Asia',), ('Asia',), ('Asia',), ('Asia',), ('Asia',), ('Asia',), ('Asia',), ('Asia',), ('Asia',), ('Asia',), ('Asia',), ('Asia',), ('Asia',), ('Asia',), ('Asia',), ('Asia',), ('Asia',), ('Asia',), ('Asia',), ('Asia',), ('Asia',), ('Asia',), ('Asia',), ('Asia',), ('Asia',), ('Asia',), ('Asia',), ('Asia',), ('Asia',), ('Asia',), ('Asia',), ('Asia',), ('Asia',), ('Asia',), ('Asia',), ('Asia',), ('Asia',), ('Asia',), ('Asia',), ('Asia',), ('Asia',), ('Asia',), ('Asia',), ('Asia',), ('Asia',), ('Asia',), ('Asia',), ('Asia',), ('Asia',), ('Asia',), ('Asia',), ('Asia',), ('Asia',), ('Asia',), ('Asia',), ('Asia',), ('Asia',), ('Asia',), ('Asia',), ('Asia',), ('Asia',), ('Asia',), ('Asia',), ('Asia',), ('Asia',), ('Asia',), ('Asia',), ('Asia',), ('Asia',), ('Asia',), ('Asia',), ('Asia',), ('Asia',), ('Asia',), ('Asia',), ('Asia',), ('Asia',), ('Asia',), ('Asia',), ('Asia',), ('Asia',), ('Asia',), ('Asia',), ('Asia',), ('Asia',), ('Asia',), ('Asia',), ('Asia',), ('Asia',), ('Asia',), ('Asia',), ('Asia',), ('Asia',), ('Asia',), ('Asia',), ('Asia',), ('Asia',), ('Asia',), ('Asia',), ('Asia',), ('Asia',), ('Asia',), ('Asia',), ('Asia',), ('Asia',), ('Asia',), ('Asia',), ('Asia',), ('Asia',), ('Asia',), ('Asia',), ('Asia',), ('Asia',), ('Asia',), ('Asia',), ('Asia',), ('Asia',), ('Asia',), ('Asia',), ('Asia',), ('Asia',), ('Asia',), ('Asia',), ('Asia',), ('Asia',), ('Asia',), ('Asia',), ('Asia',), ('Asia',), ('Asia',), ('Asia',), ('Asia',), ('Asia',), ('Asia',), ('Asia',), ('Asia',), ('Asia',), ('Asia',), ('Asia',), ('Asia',), ('Asia',), ('Asia',), ('Asia',), ('Asia',), ('Asia',), ('Asia',), ('Asia',), ('Asia',), ('Asia',), ('Asia',), ('Asia',), ('Asia',), ('Asia',), ('Asia',), ('Asia',), ('Asia',), ('Asia',), ('Asia',), ('Asia',), ('Asia',), ('Asia',), ('Asia',), ('Asia',), ('Asia',), ('Asia',), ('Asia',), ('Asia',), ('Asia',), ('Asia',), ('Asia',), ('Asia',), ('Asia',), ('Asia',), ('Asia',), ('Asia',), ('Asia',), ('Asia',), ('Asia',), ('Asia',), ('Asia',), ('Asia',), ('Asia',), ('Asia',), ('Asia',), ('Asia',), ('Asia',), ('Asia',), ('Asia',), ('Asia',), ('Asia',), ('Asia',), ('Asia',), ('Asia',), ('Asia',), ('Asia',), ('Asia',), ('Asia',), ('Asia',), ('Asia',), ('Asia',), ('Asia',), ('Asia',), ('Asia',), ('Asia',), ('Asia',), ('Asia',), ('Asia',), ('Asia',), ('Asia',), ('Asia',), ('Asia',), ('Asia',), ('Asia',), ('Asia',), ('Asia',), ('Asia',), ('Asia',), ('Asia',), ('Asia',), ('Asia',), ('Asia',), ('Asia',), ('Asia',), ('Asia',), ('Asia',), ('Asia',), ('Asia',), ('Asia',), ('Asia',), ('Asia',), ('Asia',), ('Asia',), ('Asia',), ('Asia',), ('Asia',), ('Asia',), ('Asia',), ('Asia',), ('Asia',), ('Asia',), ('Asia',), ('Asia',), ('Asia',), ('Asia',), ('Asia',), ('Asia',), ('Asia',), ('Asia',), ('Asia',), ('Asia',), ('Asia',), ('Asia',), ('Asia',), ('Asia',), ('Asia',), ('Asia',), ('Asia',), ('Asia',), ('Asia',), ('Asia',), ('Asia',), ('Asia',), ('Asia',), ('Asia',), ('Asia',), ('Asia',), ('Asia',), ('Asia',), ('Asia',), ('Asia',), ('Asia',), ('Asia',), ('Asia',), ('Asia',), ('Asia',), ('Asia',), ('Asia',), ('Asia',), ('Asia',), ('Asia',), ('Asia',), ('Asia',), ('Asia',), ('Asia',), ('Asia',), ('Asia',), ('Asia',), ('Asia',), ('Asia',), ('Asia',), ('Asia',), ('Asia',), ('Asia',), ('Asia',), ('Asia',), ('Asia',), ('Asia',), ('Asia',), ('Asia',), ('Asia',), ('Asia',), ('Asia',), ('Asia',), ('Asia',), ('Asia',), ('Asia',), ('Asia',), ('Asia',), ('Asia',), ('Asia',), ('Asia',), ('Asia',), ('Asia',), ('Asia',), ('Asia',), ('Asia',), ('Asia',), ('Asia',), ('Asia',), ('Asia',), ('Asia',), ('Asia',), ('Asia',), ('Asia',), ('Asia',), ('Asia',), ('Asia',), ('Asia',), ('Asia',), ('Asia',), ('Asia',), ('Asia',), ('Asia',), ('Asia',), ('Asia',), ('Asia',), ('Asia',), ('Asia',), ('Asia',), ('Asia',), ('Asia',), ('Asia',), ('Asia',), ('Asia',), ('Asia',), ('Asia',), ('Asia',), ('Asia',), ('Asia',), ('Asia',), ('Asia',), ('Asia',), ('Asia',), ('Asia',), ('Asia',), ('Asia',), ('Asia',), ('Asia',), ('Asia',), ('Asia',), ('Asia',), ('Asia',), ('Asia',), ('Asia',), ('Asia',), ('Asia',), ('Asia',), ('Asia',), ('Asia',), ('Asia',), ('Asia',), ('Asia',), ('Asia',), ('Asia',), ('Asia',), ('Asia',), ('Asia',), ('Asia',), ('Asia',), ('Asia',), ('Asia',), ('Asia',), ('Asia',), ('Asia',), ('Asia',), ('Asia',), ('Asia',), ('Asia',), ('Asia',), ('Asia',), ('Asia',), ('Asia',), ('Asia',), ('Asia',), ('Asia',), ('Asia',), ('Asia',), ('Asia',), ('Asia',), ('Asia',), ('Asia',), ('Asia',), ('Asia',), ('Asia',), ('Asia',), ('Asia',), ('Asia',), ('Asia',), ('Asia',), ('Asia',), ('Asia',), ('Asia',), ('Asia',), ('Asia',), ('Asia',), ('Asia',), ('Asia',), ('Asia',), ('Asia',), ('Asia',), ('Asia',), ('Asia',), ('Asia',), ('Asia',), ('Asia',), ('Asia',), ('Asia',), ('Asia',), ('Asia',), ('Asia',), ('Asia',), ('Asia',), ('Asia',), ('Asia',), ('Asia',), ('Asia',), ('Asia',), ('Asia',), ('Asia',), ('Asia',), ('Asia',), ('Asia',), ('Asia',), ('Asia',), ('Asia',), ('Asia',), ('Asia',), ('Asia',), ('Asia',), ('Asia',), ('Asia',), ('Asia',), ('Asia',), ('Asia',), ('Asia',), ('Asia',), ('Asia',), ('Asia',), ('Asia',), ('Asia',), ('Asia',), ('Asia',), ('Asia',), ('Asia',), ('Asia',), ('Asia',), ('Asia',), ('Asia',), ('Asia',), ('Asia',), ('Asia',), ('Asia',), ('Asia',), ('Asia',), ('Asia',), ('Asia',), ('Asia',), ('Asia',), ('Asia',), ('Asia',), ('Asia',), ('Asia',), ('Asia',), ('Asia',), ('Asia',), ('Asia',), ('Asia',), ('Asia',), ('Asia',), ('Asia',), ('Asia',), ('Asia',), ('Asia',), ('Asia',), ('Asia',), ('Asia',), ('Asia',), ('Asia',), ('Asia',), ('Asia',), ('Asia',), ('Asia',), ('Asia',), ('Asia',), ('Asia',), ('Asia',), ('Asia',), ('Asia',), ('Asia',), ('Asia',), ('Asia',), ('Asia',), ('Asia',), ('Asia',), ('Asia',), ('Asia',), ('Asia',), ('Asia',), ('Asia',), ('Asia',), ('Asia',), ('Asia',), ('Asia',), ('Asia',), ('Asia',), ('Asia',), ('Asia',), ('Asia',), ('Asia',), ('Asia',), ('Asia',), ('Asia',), ('Asia',), ('Asia',), ('Asia',), ('Asia',), ('Asia',), ('Asia',), ('Asia',), ('Asia',), ('Asia',), ('Asia',), ('Asia',), ('Asia',), ('Asia',), ('Asia',), ('Asia',), ('Asia',), ('Asia',), ('Asia',), ('Asia',), ('Asia',), ('Asia',), ('Asia',), ('Asia',), ('Asia',), ('Asia',), ('Asia',), ('Asia',), ('Asia',), ('Asia',), ('Asia',), ('Asia',), ('Asia',), ('Asia',), ('Asia',), ('Asia',), ('Asia',), ('Asia',), ('Asia',), ('Asia',), ('Asia',), ('Asia',), ('Asia',), ('Asia',), ('Asia',), ('Asia',), ('Asia',), ('Asia',), ('Asia',), ('Asia',), ('Asia',), ('Asia',), ('Asia',), ('Asia',), ('Asia',), ('Asia',), ('Asia',), ('Asia',), ('Asia',), ('Asia',), ('Asia',), ('Asia',), ('Asia',), ('Asia',), ('Asia',), ('Asia',), ('Asia',), ('Asia',), ('Asia',), ('Asia',), ('Asia',), ('Asia',), ('Asia',), ('Asia',), ('Asia',), ('Asia',), ('Asia',), ('Asia',), ('Asia',), ('Asia',), ('Asia',), ('Asia',), ('Asia',), ('Asia',), ('Asia',), ('Asia',), ('Asia',), ('Asia',), ('Asia',), ('Asia',), ('Asia',), ('Asia',), ('Asia',), ('Asia',), ('Asia',), ('Asia',), ('Asia',), ('Asia',), ('Asia',), ('Asia',), ('Asia',), ('Asia',), ('Asia',), ('Asia',), ('Asia',), ('Asia',), ('Asia',), ('Asia',), ('Asia',), ('Asia',), ('Asia',), ('Asia',), ('Asia',), ('Asia',), ('Asia',), ('Asia',), ('Asia',), ('Asia',), ('Asia',), ('Asia',), ('Asia',), ('Asia',), ('Asia',), ('Asia',), ('Asia',), ('Asia',), ('Asia',), ('Asia',), ('Asia',), ('Asia',), ('Asia',), ('Asia',), ('Asia',), ('Asia',), ('Asia',), ('Asia',), ('Asia',), ('Asia',), ('Asia',), ('Asia',), ('Asia',), ('Asia',), ('Asia',), ('Asia',), ('Asia',), ('Asia',), ('Asia',), ('Asia',), ('Asia',), ('Asia',), ('Asia',), ('Asia',), ('Asia',), ('Asia',), ('Asia',), ('Asia',), ('Asia',), ('Asia',), ('Asia',), ('Asia',), ('Asia',), ('Asia',), ('Asia',), ('Asia',), ('Asia',), ('Asia',), ('Asia',), ('Asia',), ('Asia',), ('Asia',), ('Asia',), ('Asia',), ('Asia',), ('Asia',), ('Asia',), ('Asia',), ('Asia',), ('Asia',), ('Asia',), ('Asia',), ('Asia',), ('Asia',), ('Asia',), ('Asia',), ('Asia',), ('Asia',), ('Asia',), ('Asia',), ('Asia',), ('Asia',), ('Asia',), ('Asia',), ('Asia',), ('Asia',), ('Asia',), ('Asia',), ('Asia',), ('Asia',), ('Asia',), ('Asia',), ('Asia',), ('Asia',), ('Asia',), ('Asia',), ('Asia',), ('Asia',), ('Asia',), ('Asia',), ('Asia',), ('Asia',), ('Asia',), ('Asia',), ('Asia',), ('Asia',), ('Asia',), ('Asia',), ('Asia',), ('Asia',), ('Asia',), ('Asia',), ('Asia',), ('Asia',), ('Asia',), ('Asia',), ('Asia',), ('Asia',), ('Asia',), ('Asia',), ('Asia',), ('Asia',), ('Asia',), ('Asia',), ('Asia',), ('Asia',), ('Asia',), ('Asia',), ('Asia',), ('Asia',), ('Asia',), ('Asia',), ('Asia',), ('Asia',), ('Asia',), ('Asia',), ('Asia',), ('Asia',), ('Asia',), ('Asia',), ('Asia',), ('Asia',), ('Asia',), ('Asia',), ('Asia',), ('Asia',), ('Asia',), ('Asia',), ('Asia',), ('Asia',), ('Asia',), ('Asia',), ('Asia',), ('Asia',), ('Asia',), ('Asia',), ('Asia',), ('Asia',), ('Asia',), ('Asia',), ('Asia',), ('Asia',), ('Asia',), ('Asia',), ('Asia',), ('Asia',), ('Asia',), ('Asia',), ('Asia',), ('Asia',), ('Asia',), ('Asia',), ('Asia',), ('Asia',), ('Asia',), ('Asia',), ('Asia',), ('Asia',), ('Asia',), ('Asia',), ('Asia',), ('Asia',), ('Asia',), ('Asia',), ('Asia',), ('Asia',), ('Asia',), ('Asia',), ('Asia',), ('Asia',), ('Asia',), ('Asia',), ('Asia',), ('Asia',), ('Asia',), ('Asia',), ('Asia',), ('Asia',), ('Asia',), ('Asia',), ('Asia',), ('Asia',), ('Asia',), ('Asia',), ('Asia',), ('Asia',), ('Asia',), ('Asia',), ('Asia',), ('Asia',), ('Asia',), ('Asia',), ('Asia',), ('Asia',), ('Asia',), ('Asia',), ('Asia',), ('Asia',), ('Asia',), ('Asia',), ('Asia',), ('Asia',), ('Asia',), ('Asia',), ('Asia',), ('Asia',), ('Asia',), ('Asia',), ('Asia',), ('Asia',), ('Asia',), ('Asia',), ('Asia',), ('Asia',), ('Asia',), ('Asia',), ('Asia',), ('Asia',), ('Asia',), ('Asia',), ('Asia',), ('Asia',), ('Asia',), ('Asia',), ('Asia',), ('Asia',), ('Asia',), ('Asia',), ('Asia',), ('Asia',), ('Asia',), ('Asia',), ('Asia',), ('Asia',), ('Asia',), ('Asia',), ('Asia',), ('Asia',), ('Asia',), ('Asia',), ('Asia',), ('Asia',), ('Asia',), ('Asia',), ('Asia',), ('Asia',), ('Asia',), ('Asia',), ('Asia',), ('Asia',), ('Asia',), ('Asia',), ('Asia',), ('Asia',), ('Asia',), ('Asia',), ('Asia',), ('Asia',), ('Asia',), ('Asia',), ('Asia',), ('Asia',), ('Asia',), ('Asia',), ('Asia',), ('Asia',), ('Asia',), ('Asia',), ('Asia',), ('Asia',), ('Asia',), ('Asia',), ('Asia',), ('Asia',), ('Asia',), ('Asia',), ('Asia',), ('Asia',), ('Asia',), ('Asia',), ('Asia',), ('Asia',), ('Asia',), ('Asia',), ('Asia',), ('Asia',), ('Asia',), ('Asia',), ('Asia',), ('Asia',), ('Asia',), ('Asia',), ('Asia',), ('Asia',), ('Asia',), ('Asia',), ('Asia',), ('Asia',), ('Asia',), ('Asia',), ('Asia',), ('Asia',), ('Asia',), ('Asia',), ('Asia',), ('Asia',), ('Asia',), ('Asia',), ('Asia',), ('Asia',), ('Asia',), ('Asia',), ('Asia',), ('Asia',), ('Asia',), ('Asia',), ('Asia',), ('Asia',), ('Asia',), ('Asia',), ('Asia',), ('Asia',), ('Asia',), ('Asia',), ('Asia',), ('Asia',), ('Asia',), ('Asia',), ('Asia',), ('Asia',), ('Asia',), ('Asia',), ('Asia',), ('Asia',), ('Asia',), ('Asia',), ('Asia',), ('Asia',), ('Asia',), ('Asia',), ('Asia',), ('Asia',), ('Asia',), ('Asia',), ('Asia',), ('Asia',), ('Asia',), ('Asia',), ('Asia',), ('Asia',), ('Asia',), ('Asia',), ('Asia',), ('Asia',), ('Asia',), ('Asia',), ('Asia',), ('Asia',), ('Asia',), ('Asia',), ('Asia',), ('Asia',), ('Asia',), ('Asia',), ('Asia',), ('Asia',), ('Asia',), ('Asia',), ('Asia',), ('Asia',), ('Asia',), ('Asia',), ('Asia',), ('Asia',), ('Asia',), ('Asia',), ('Asia',), ('Asia',), ('Asia',), ('Asia',), ('Asia',), ('Asia',), ('Asia',), ('Asia',), ('Asia',), ('Asia',), ('Asia',), ('Asia',), ('Asia',), ('Asia',), ('Asia',), ('Asia',), ('Asia',), ('Asia',), ('Asia',), ('Asia',), ('Asia',), ('Asia',), ('Asia',), ('Asia',), ('Asia',), ('Asia',), ('Asia',), ('Asia',), ('Asia',), ('Asia',), ('Asia',), ('Asia',), ('Asia',), ('Asia',), ('Asia',), ('Asia',), ('Asia',), ('Asia',), ('Asia',), ('Asia',), ('Asia',), ('Asia',), ('Asia',), ('Asia',), ('Asia',), ('Asia',), ('Asia',), ('Asia',), ('Asia',), ('Asia',), ('Asia',), ('Asia',), ('Asia',), ('Asia',), ('Asia',), ('Asia',), ('Asia',), ('Asia',), ('Asia',), ('Asia',), ('Asia',), ('Asia',), ('Asia',), ('Asia',), ('Asia',), ('Asia',), ('Asia',), ('Asia',), ('Asia',), ('Asia',), ('Asia',), ('Asia',), ('Asia',), ('Asia',), ('Asia',), ('Asia',), ('Asia',), ('Asia',), ('Asia',), ('Asia',), ('Asia',), ('Asia',), ('Asia',), ('Asia',), ('Asia',), ('Asia',), ('Asia',), ('Asia',), ('Asia',), ('Asia',), ('Asia',), ('Asia',), ('Asia',), ('Asia',), ('Asia',), ('Asia',), ('Asia',), ('Asia',), ('Asia',), ('Asia',), ('Asia',), ('Asia',), ('Asia',), ('Asia',), ('Asia',), ('Asia',), ('Asia',), ('Asia',), ('Asia',), ('Asia',), ('Asia',), ('Asia',), ('Asia',), ('Asia',), ('Asia',), ('Asia',), ('Asia',), ('Asia',), ('Asia',), ('Asia',), ('Asia',), ('Asia',), ('Asia',), ('Asia',), ('Asia',), ('Asia',), ('Asia',), ('Asia',), ('Asia',), ('Asia',), ('Asia',), ('Asia',), ('Asia',), ('Asia',), ('Asia',), ('Asia',), ('Asia',), ('Asia',), ('Asia',), ('Asia',), ('Asia',), ('Asia',), ('Asia',), ('Asia',), ('Asia',), ('Asia',), ('Asia',), ('Asia',), ('Asia',), ('Asia',), ('Asia',), ('Asia',), ('Asia',), ('Asia',), ('Asia',), ('Asia',), ('Asia',), ('Asia',), ('Asia',), ('Asia',), ('Asia',), ('Asia',), ('Asia',), ('Asia',), ('Asia',), ('Asia',), ('Asia',), ('Asia',), ('Asia',), ('Asia',), ('Asia',), ('Asia',), ('Asia',), ('Asia',), ('Asia',), ('Asia',), ('Asia',), ('Asia',), ('Asia',), ('Asia',), ('Asia',), ('Asia',), ('Asia',), ('Asia',), ('Asia',), ('Asia',), ('Asia',), ('Asia',), ('Asia',), ('Asia',), ('Asia',), ('Asia',), ('Asia',), ('Asia',), ('Asia',), ('Asia',), ('Asia',), ('Asia',), ('Asia',), ('Asia',), ('Asia',), ('Asia',), ('Asia',), ('Asia',), ('Asia',), ('Asia',), ('Asia',), ('Asia',), ('Asia',), ('Asia',), ('Asia',), ('Asia',), ('Asia',), ('Asia',), ('Asia',), ('Asia',), ('Asia',), ('Asia',), ('Asia',), ('Asia',), ('Asia',), ('Asia',), ('Asia',), ('Asia',), ('Asia',), ('Asia',), ('Asia',), ('Asia',), ('Asia',), ('Asia',), ('Asia',), ('Asia',), ('Asia',), ('Asia',), ('Asia',), ('Asia',), ('Asia',), ('Asia',), ('Asia',), ('Asia',), ('Asia',), ('Asia',), ('Asia',), ('Asia',), ('Asia',), ('Asia',), ('Asia',), ('Asia',), ('Asia',), ('Asia',), ('Asia',), ('Asia',), ('Asia',), ('Asia',), ('Asia',), ('Asia',), ('Asia',), ('Asia',), ('Asia',), ('Asia',), ('Asia',), ('Asia',), ('Asia',), ('Asia',), ('Asia',), ('Asia',), ('Asia',), ('Asia',), ('Asia',), ('Asia',), ('Asia',), ('Asia',), ('Asia',), ('Asia',), ('Asia',), ('Asia',), ('Asia',), ('Asia',), ('Asia',), ('Asia',), ('Asia',), ('Asia',), ('Asia',), ('Asia',), ('Asia',), ('Asia',), ('Asia',), ('Asia',), ('Asia',), ('Asia',), ('Asia',), ('Asia',), ('Asia',), ('Asia',), ('Asia',), ('Asia',), ('Asia',), ('Asia',), ('Asia',), ('Asia',), ('Asia',), ('Asia',), ('Asia',), ('Asia',), ('Asia',), ('Asia',), ('Asia',), ('Asia',), ('Asia',), ('Asia',), ('Asia',), ('Asia',), ('Asia',), ('Asia',), ('Asia',), ('Asia',), ('Asia',), ('Asia',), ('Asia',), ('Asia',), ('Asia',), ('Asia',), ('Asia',), ('Asia',), ('Asia',), ('Asia',), ('Asia',), ('Asia',), ('Asia',), ('Asia',), ('Asia',), ('Asia',), ('Asia',), ('Asia',), ('Asia',), ('Asia',), ('Asia',), ('Asia',), ('Asia',), ('Asia',), ('Asia',), ('Asia',), ('Asia',), ('Asia',), ('Asia',), ('Asia',), ('Asia',), ('Asia',), ('Asia',), ('Asia',), ('Asia',), ('Asia',), ('Asia',), ('Asia',), ('Asia',), ('Asia',), ('Asia',), ('Asia',), ('Asia',), ('Asia',), ('Asia',), ('Asia',), ('Asia',), ('Asia',), ('Asia',), ('Asia',), ('Asia',), ('Asia',), ('Asia',), ('Asia',), ('Asia',), ('Asia',), ('Asia',), ('Asia',), ('Asia',), ('Asia',), ('Asia',), ('Asia',), ('Asia',), ('Asia',), ('Asia',), ('Asia',), ('Asia',), ('Asia',), ('Asia',), ('Asia',), ('Asia',), ('Asia',), ('Asia',), ('Asia',), ('Asia',), ('Asia',), ('Asia',), ('Asia',), ('Asia',), ('Asia',), ('Asia',), ('Asia',), ('Asia',), ('Asia',), ('Asia',), ('Asia',), ('Asia',), ('Asia',), ('Asia',), ('Asia',), ('Asia',), ('Asia',), ('Asia',), ('Asia',), ('Asia',), ('Asia',), ('Asia',), ('Asia',), ('Asia',), ('Asia',), ('Asia',), ('Asia',), ('Asia',), ('Asia',), ('Asia',), ('Asia',), ('Asia',), ('Asia',), ('Asia',), ('Asia',), ('Asia',), ('Asia',), ('Asia',), ('Asia',), ('Asia',), ('Asia',), ('Asia',), ('Asia',), ('Asia',), ('Asia',), ('Asia',), ('Asia',), ('Asia',), ('Asia',), ('Asia',), ('Asia',), ('Asia',), ('Asia',), ('Asia',), ('Asia',), ('Asia',), ('Asia',), ('Asia',), ('Asia',), ('Asia',), ('Asia',), ('Asia',), ('Asia',), ('Asia',), ('Asia',), ('Asia',), ('Asia',), ('Asia',), ('Asia',), ('Asia',), ('Asia',), ('Asia',), ('Asia',), ('Asia',), ('Asia',), ('Asia',), ('Asia',), ('Asia',), ('Asia',), ('Asia',), ('Asia',), ('Asia',), ('Asia',), ('Asia',), ('Asia',), ('Asia',), ('Asia',), ('Asia',), ('Asia',), ('Asia',), ('Asia',), ('Asia',), ('Asia',), ('Asia',), ('Asia',), ('Asia',), ('Asia',), ('Asia',), ('Asia',), ('Asia',), ('Asia',), ('Asia',), ('Asia',), ('Asia',), ('Asia',), ('Asia',), ('Asia',), ('Asia',), ('Asia',), ('Asia',), ('Asia',), ('Asia',), ('Asia',), ('Asia',), ('Asia',), ('Asia',), ('Asia',), ('Asia',), ('Asia',), ('Asia',), ('Asia',), ('Asia',), ('Asia',), ('Asia',), ('Asia',), ('Asia',), ('Asia',), ('Asia',), ('Asia',), ('Asia',), ('Asia',), ('Asia',), ('Asia',), ('Asia',), ('Asia',), ('Asia',), ('Asia',), ('Asia',), ('Asia',), ('Asia',), ('Asia',), ('Asia',), ('Asia',), ('Asia',), ('Asia',), ('Asia',), ('Asia',), ('Asia',), ('Asia',), ('Asia',), ('Asia',), ('Asia',), ('Asia',), ('Asia',), ('Asia',), ('Asia',), ('Asia',), ('Asia',), ('Asia',), ('Asia',), ('Asia',), ('Asia',), ('Asia',), ('Asia',), ('Asia',), ('Asia',), ('Asia',), ('Asia',), ('Asia',), ('Asia',), ('Asia',), ('Asia',), ('Asia',), ('Asia',), ('Asia',), ('Asia',), ('Asia',), ('Asia',), ('Asia',), ('Asia',), ('Asia',), ('Asia',), ('Asia',), ('Asia',), ('Asia',), ('Asia',), ('Asia',), ('Asia',), ('Asia',), ('Asia',), ('Asia',), ('Asia',), ('Asia',), ('Asia',), ('Asia',), ('Asia',), ('Asia',), ('Asia',), ('Asia',), ('Asia',), ('Asia',), ('Asia',), ('Asia',), ('Asia',), ('Asia',), ('Asia',), ('Asia',), ('Asia',), ('Asia',), ('Asia',), ('Asia',), ('Asia',), ('Asia',), ('Asia',), ('Asia',), ('Asia',), ('Asia',), ('Asia',), ('Asia',), ('Asia',), ('Asia',), ('Asia',), ('Asia',), ('Asia',), ('Asia',), ('Asia',), ('Asia',), ('Asia',), ('Asia',), ('Asia',), ('Asia',), ('Asia',), ('Asia',), ('Asia',), ('Asia',), ('Asia',), ('Asia',), ('Asia',), ('Asia',), ('Asia',), ('Asia',), ('Asia',), ('Asia',), ('Asia',), ('Asia',), ('Asia',), ('Asia',), ('Asia',), ('Asia',), ('Asia',), ('Asia',), ('Asia',), ('Asia',), ('Asia',), ('Asia',), ('Asia',), ('Asia',), ('Asia',), ('Asia',), ('Asia',), ('Asia',), ('Asia',), ('Asia',), ('Asia',), ('Asia',), ('Asia',), ('Asia',), ('Asia',), ('Asia',), ('Asia',), ('Asia',), ('Asia',), ('Asia',), ('Asia',), ('Asia',), ('Asia',), ('Asia',), ('Asia',), ('Asia',), ('Asia',), ('Asia',), ('Asia',), ('Asia',), ('Asia',), ('Asia',), ('Asia',), ('Asia',), ('Asia',), ('Asia',), ('Asia',), ('Asia',), ('Asia',), ('Asia',), ('Asia',), ('Asia',), ('Asia',), ('Asia',), ('Asia',), ('Asia',), ('Asia',), ('Asia',), ('Asia',), ('Asia',), ('Asia',), ('Asia',), ('Asia',), ('Asia',), ('Asia',), ('Asia',), ('Asia',), ('Asia',), ('Asia',), ('Asia',), ('Asia',), ('Asia',), ('Asia',), ('Asia',), ('Asia',), ('Asia',), ('Asia',), ('Asia',), ('Asia',), ('Asia',), ('Asia',), ('Asia',), ('Asia',), ('Asia',), ('Asia',), ('Asia',), ('Asia',), ('Asia',), ('Asia',), ('Asia',), ('Asia',), ('Asia',), ('Asia',), ('Asia',), ('Asia',), ('Asia',), ('Asia',), ('Asia',), ('Asia',), ('Asia',), ('Asia',), ('Asia',), ('Asia',), ('Asia',), ('Asia',), ('Asia',), ('Asia',), ('Asia',), ('Asia',), ('Asia',), ('Asia',), ('Asia',), ('Asia',), ('Asia',), ('Asia',), ('Asia',), ('Asia',), ('Asia',), ('Asia',), ('Asia',), ('Asia',), ('Asia',), ('Asia',), ('Asia',), ('Asia',), ('Asia',), ('Asia',), ('Asia',), ('Asia',), ('Asia',), ('Asia',), ('Asia',), ('Asia',), ('Asia',), ('Asia',), ('Asia',), ('Asia',), ('Asia',), ('Asia',), ('Asia',), ('Asia',), ('Asia',), ('Asia',), ('Asia',), ('Asia',), ('Asia',), ('Asia',), ('Asia',), ('Asia',), ('Asia',), ('Asia',), ('Asia',), ('Asia',), ('Asia',), ('Asia',), ('Asia',), ('Asia',), ('Asia',), ('Asia',), ('Asia',), ('Asia',), ('Asia',), ('Asia',), ('Asia',), ('Asia',), ('Asia',), ('Asia',), ('Asia',), ('Asia',), ('Asia',), ('Asia',), ('Asia',), ('Asia',), ('Asia',), ('Asia',), ('Asia',), ('Asia',), ('Asia',), ('Asia',), ('Asia',), ('Asia',), ('Asia',), ('Asia',), ('Asia',), ('Asia',), ('Asia',), ('Asia',), ('Asia',), ('Asia',), ('Asia',), ('Asia',), ('Asia',), ('Asia',), ('Asia',), ('Asia',), ('Asia',), ('Asia',), ('Asia',), ('Asia',), ('Asia',), ('Asia',), ('Asia',), ('Asia',), ('Asia',), ('Asia',), ('Asia',), ('Asia',), ('Asia',), ('Asia',), ('Asia',), ('Asia',), ('Asia',), ('Asia',), ('Asia',), ('Asia',), ('Asia',), ('Asia',), ('Asia',), ('Asia',), ('Asia',), ('Asia',), ('Asia',), ('Asia',), ('Asia',), ('Asia',), ('Asia',), ('Asia',), ('Asia',), ('Asia',), ('Asia',), ('Asia',), ('Asia',), ('Asia',), ('Asia',), ('Asia',), ('Asia',), ('Asia',), ('Asia',), ('Asia',), ('Asia',), ('Asia',), ('Asia',), ('Asia',), ('Asia',), ('Asia',), ('Asia',), ('Asia',), ('Asia',), ('Asia',), ('Asia',), ('Asia',), ('Asia',), ('Asia',), ('Asia',), ('Asia',), ('Asia',), ('Asia',), ('Asia',), ('Asia',), ('Asia',), ('Asia',), ('Asia',), ('Asia',), ('Asia',), ('Asia',), ('Asia',), ('Asia',), ('Asia',), ('Asia',), ('Asia',), ('Asia',), ('Asia',), ('Asia',), ('Asia',), ('Asia',), ('Asia',), ('Asia',), ('Asia',), ('Asia',), ('Asia',), ('Asia',), ('Asia',), ('Asia',), ('Asia',), ('Asia',), ('Asia',), ('Asia',), ('Asia',), ('Asia',), ('Asia',), ('Asia',), ('Asia',), ('Asia',), ('Asia',), ('Asia',), ('Asia',), ('Asia',), ('Asia',), ('Asia',), ('Asia',), ('Asia',), ('Asia',), ('Asia',), ('Asia',), ('Asia',), ('Asia',), ('Asia',), ('Asia',), ('Asia',), ('Asia',), ('Asia',), ('Asia',), ('Asia',), ('Asia',), ('Asia',), ('Asia',), ('Asia',), ('Asia',), ('Asia',), ('Asia',), ('Asia',), ('Asia',), ('Asia',), ('Asia',), ('Asia',), ('Asia',), ('Asia',), ('Asia',), ('Asia',), ('Asia',), ('Asia',), ('Asia',), ('Asia',), ('Asia',), ('Asia',), ('Asia',), ('Asia',), ('Asia',), ('Asia',), ('Asia',), ('Asia',), ('Asia',), ('Asia',), ('Asia',), ('Asia',), ('Asia',), ('Asia',), ('Asia',), ('Asia',), ('Asia',), ('Asia',), ('Asia',), ('Asia',), ('Asia',), ('Asia',), ('Asia',), ('Asia',), ('Asia',), ('Asia',), ('Asia',), ('Asia',), ('Asia',), ('Asia',), ('Asia',), ('Asia',), ('Asia',), ('Asia',), ('Asia',), ('Asia',), ('Asia',), ('Asia',), ('Asia',), ('Asia',), ('Asia',), ('Asia',), ('Asia',), ('Asia',), ('Europe',), ('Europe',), ('Europe',), ('Europe',), ('Europe',), ('Europe',), ('Europe',), ('Europe',), ('Europe',), ('Europe',), ('Europe',), ('Europe',), ('Europe',), ('Europe',), ('Europe',), ('Europe',), ('Europe',), ('Europe',), ('Europe',), ('Europe',), ('Europe',), ('Europe',), ('Europe',), ('Europe',), ('Europe',), ('Europe',), ('Europe',), ('Europe',), ('Europe',), ('Europe',), ('Europe',), ('Europe',), ('Europe',), ('Europe',), ('Europe',), ('Europe',), ('Europe',), ('Europe',), ('Europe',), ('Europe',), ('Europe',), ('Europe',), ('Europe',), ('Europe',), ('Europe',), ('Europe',), ('Europe',), ('Europe',), ('Europe',), ('Europe',), ('Europe',), ('Europe',), ('Europe',), ('Europe',), ('Europe',), ('Europe',), ('Europe',), ('Europe',), ('Europe',), ('Europe',), ('Europe',), ('Europe',), ('Europe',), ('Europe',), ('Europe',), ('Europe',), ('Europe',), ('Europe',), ('Europe',), ('Europe',), ('Europe',), ('Europe',), ('Europe',), ('Europe',), ('Europe',), ('Europe',), ('Europe',), ('Europe',), ('Europe',), ('Europe',), ('Europe',), ('Europe',), ('Europe',), ('Europe',), ('Europe',), ('Europe',), ('Europe',), ('Europe',), ('Europe',), ('Europe',), ('Europe',), ('Europe',), ('Europe',), ('Europe',), ('Europe',), ('Europe',), ('Europe',), ('Europe',), ('Europe',), ('Europe',), ('Europe',), ('Europe',), ('Europe',), ('Europe',), ('Europe',), ('Europe',), ('Europe',), ('Europe',), ('Europe',), ('Europe',), ('Europe',), ('Europe',), ('Europe',), ('Europe',), ('Europe',), ('Europe',), ('Europe',), ('Europe',), ('Europe',), ('Europe',), ('Europe',), ('Europe',), ('Europe',), ('Europe',), ('Europe',), ('Europe',), ('Europe',), ('Europe',), ('Europe',), ('Europe',), ('Europe',), ('Europe',), ('Europe',), ('Europe',), ('Europe',), ('Europe',), ('Europe',), ('Europe',), ('Europe',), ('Europe',), ('Europe',), ('Europe',), ('Europe',), ('Europe',), ('Europe',), ('Europe',), ('Europe',), ('Europe',), ('Europe',), ('Europe',), ('Europe',), ('Europe',), ('Europe',), ('Europe',), ('Europe',), ('Europe',), ('Europe',), ('Europe',), ('Europe',), ('Europe',), ('Europe',), ('Europe',), ('Europe',), ('Europe',), ('Europe',), ('Europe',), ('Europe',), ('Europe',), ('Europe',), ('Europe',), ('Europe',), ('Europe',), ('Europe',), ('Europe',), ('Europe',), ('Europe',), ('Europe',), ('Europe',), ('Europe',), ('Europe',), ('Europe',), ('Europe',), ('Europe',), ('Europe',), ('Europe',), ('Europe',), ('Europe',), ('Europe',), ('Europe',), ('Europe',), ('Europe',), ('Europe',), ('Europe',), ('Europe',), ('Europe',), ('Europe',), ('Europe',), ('Europe',), ('Europe',), ('Europe',), ('Europe',), ('Europe',), ('Europe',), ('Europe',), ('Europe',), ('Europe',), ('Europe',), ('Europe',), ('Europe',), ('Europe',), ('Europe',), ('Europe',), ('Europe',), ('Europe',), ('Europe',), ('Europe',), ('Europe',), ('Europe',), ('Europe',), ('Europe',), ('Europe',), ('Europe',), ('Europe',), ('Europe',), ('Europe',), ('Europe',), ('Europe',), ('Europe',), ('Europe',), ('Europe',), ('Europe',), ('Europe',), ('Europe',), ('Europe',), ('Europe',), ('Europe',), ('Europe',), ('Europe',), ('Europe',), ('Europe',), ('Europe',), ('Europe',), ('Europe',), ('Europe',), ('Europe',), ('Europe',), ('Europe',), ('Europe',), ('Europe',), ('Europe',), ('Europe',), ('Europe',), ('Europe',), ('Europe',), ('Europe',), ('Europe',), ('Europe',), ('Europe',), ('Europe',), ('Europe',), ('Europe',), ('Europe',), ('Europe',), ('Europe',), ('Europe',), ('Europe',), ('Europe',), ('Europe',), ('Europe',), ('Europe',), ('Europe',), ('Europe',), ('Europe',), ('Europe',), ('Europe',), ('Europe',), ('Europe',), ('Europe',), ('Europe',), ('Europe',), ('Europe',), ('Europe',), ('Europe',), ('Europe',), ('Europe',), ('Europe',), ('Europe',), ('Europe',), ('Europe',), ('Europe',), ('Europe',), ('Europe',), ('Europe',), ('Europe',), ('Europe',), ('Europe',), ('Europe',), ('Europe',), ('Europe',), ('Europe',), ('Europe',), ('Europe',), ('Europe',), ('Europe',), ('Europe',), ('Europe',), ('Europe',), ('Europe',), ('Europe',), ('Europe',), ('Europe',), ('Europe',), ('Europe',), ('Europe',), ('Europe',), ('Europe',), ('Europe',), ('Europe',), ('Europe',), ('Europe',), ('Europe',), ('Europe',), ('Europe',), ('Europe',), ('Europe',), ('Europe',), ('Europe',), ('Europe',), ('Europe',), ('Europe',), ('Europe',), ('Europe',), ('Europe',), ('Europe',), ('Europe',), ('Europe',), ('Europe',), ('Europe',), ('Europe',), ('Europe',), ('Europe',), ('Europe',), ('Europe',), ('Europe',), ('Europe',), ('Europe',), ('Europe',), ('Europe',), ('Europe',), ('Europe',), ('Europe',), ('Europe',), ('Europe',), ('Europe',), ('Europe',), ('Europe',), ('Europe',), ('Europe',), ('Europe',), ('Europe',), ('Europe',), ('Europe',), ('Europe',), ('Europe',), ('Europe',), ('Europe',), ('Europe',), ('Europe',), ('Europe',), ('Europe',), ('Europe',), ('Europe',), ('Europe',), ('Europe',), ('Europe',), ('Europe',), ('Europe',), ('Europe',), ('Europe',), ('Europe',), ('Europe',), ('Europe',), ('Europe',), ('Europe',), ('Europe',), ('Europe',), ('Europe',), ('Europe',), ('Europe',), ('Europe',), ('Europe',), ('Europe',), ('Europe',), ('Europe',), ('Europe',), ('Europe',), ('Europe',), ('Europe',), ('Europe',), ('Europe',), ('Europe',), ('Europe',), ('Europe',), ('Europe',), ('Europe',), ('Europe',), ('Europe',), ('Europe',), ('Europe',), ('Europe',), ('Europe',), ('Europe',), ('Europe',), ('Europe',), ('Europe',), ('Europe',), ('Europe',), ('Europe',), ('Europe',), ('Europe',), ('Europe',), ('Europe',), ('Europe',), ('Europe',), ('Europe',), ('Europe',), ('Europe',), ('Europe',), ('Europe',), ('Europe',), ('Europe',), ('Europe',), ('Europe',), ('Europe',), ('Europe',), ('Europe',), ('Europe',), ('Europe',), ('Europe',), ('Europe',), ('Europe',), ('Europe',), ('Europe',), ('Europe',), ('Europe',), ('Europe',), ('Europe',), ('Europe',), ('Europe',), ('Europe',), ('Europe',), ('Europe',), ('Europe',), ('Europe',), ('Europe',), ('Europe',), ('Europe',), ('Europe',), ('Europe',), ('Europe',), ('Europe',), ('Europe',), ('Europe',), ('Europe',), ('Europe',), ('Europe',), ('Europe',), ('Europe',), ('Europe',), ('Europe',), ('Europe',), ('Europe',), ('Europe',), ('Europe',), ('Europe',), ('Europe',), ('Europe',), ('Europe',), ('Europe',), ('Europe',), ('Europe',), ('Europe',), ('Europe',), ('Europe',), ('Europe',), ('Europe',), ('Europe',), ('Europe',), ('Europe',), ('Europe',), ('Europe',), ('Europe',), ('Europe',), ('Europe',), ('Europe',), ('Europe',), ('Europe',), ('Europe',), ('Europe',), ('Europe',), ('Europe',), ('Europe',), ('Europe',), ('Europe',), ('Europe',), ('Europe',), ('Europe',), ('Europe',), ('Europe',), ('Europe',), ('Europe',), ('Europe',), ('Europe',), ('Europe',), ('Europe',), ('Europe',), ('Europe',), ('Europe',), ('Europe',), ('Europe',), ('Europe',), ('Europe',), ('Europe',), ('Europe',), ('Europe',), ('Europe',), ('Europe',), ('Europe',), ('Europe',), ('Europe',), ('Europe',), ('Europe',), ('Europe',), ('Europe',), ('Europe',), ('Europe',), ('Europe',), ('Europe',), ('Europe',), ('Europe',), ('Europe',), ('Europe',), ('Europe',), ('Europe',), ('Europe',), ('Europe',), ('Europe',), ('Europe',), ('Europe',), ('Europe',), ('Europe',), ('Europe',), ('Europe',), ('Europe',), ('Europe',), ('Europe',), ('Europe',), ('Europe',), ('Europe',), ('Europe',), ('Europe',), ('Europe',), ('Europe',), ('Europe',), ('Europe',), ('Europe',), ('Europe',), ('Europe',), ('Europe',), ('Europe',), ('Europe',), ('Europe',), ('Europe',), ('Europe',), ('Europe',), ('Europe',), ('Europe',), ('Europe',), ('Europe',), ('Europe',), ('Europe',), ('Europe',), ('Europe',), ('Europe',), ('Europe',), ('Europe',), ('Europe',), ('Europe',), ('Europe',), ('Europe',), ('Europe',), ('Europe',), ('Europe',), ('Europe',), ('Europe',), ('Europe',), ('Europe',), ('Europe',), ('Europe',), ('Europe',), ('Europe',), ('Europe',), ('Europe',), ('Europe',), ('Europe',), ('Europe',), ('Europe',), ('Europe',), ('Europe',), ('Europe',), ('Europe',), ('Europe',), ('Europe',), ('Europe',), ('Europe',), ('Europe',), ('Europe',), ('Europe',), ('Europe',), ('Europe',), ('Europe',), ('Europe',), ('Europe',), ('Europe',), ('Europe',), ('Europe',), ('Europe',), ('Europe',), ('Europe',), ('Europe',), ('Europe',), ('Europe',), ('Europe',), ('Europe',), ('Europe',), ('Europe',), ('Europe',), ('Europe',), ('Europe',), ('Europe',), ('Europe',), ('Europe',), ('Europe',), ('Europe',), ('Europe',), ('Europe',), ('Europe',), ('Europe',), ('Europe',), ('Europe',), ('Europe',), ('Europe',), ('Europe',), ('Europe',), ('Europe',), ('Europe',), ('Europe',), ('Europe',), ('Europe',), ('Europe',), ('Europe',), ('Europe',), ('Europe',), ('Europe',), ('Europe',), ('Europe',), ('Europe',), ('Europe',), ('Europe',), ('Europe',), ('Europe',), ('Europe',), ('Europe',), ('Europe',), ('Europe',), ('Europe',), ('Europe',), ('Europe',), ('Europe',), ('Europe',), ('Europe',), ('Europe',), ('Europe',), ('Europe',), ('Europe',), ('Europe',), ('Europe',), ('Europe',), ('Europe',), ('Europe',), ('Europe',), ('Europe',), ('Europe',), ('Europe',), ('Europe',), ('Europe',), ('Europe',), ('Europe',), ('Europe',), ('Europe',), ('Europe',), ('Europe',), ('Europe',), ('Europe',), ('Europe',), ('Europe',), ('Europe',), ('Europe',), ('Europe',), ('Europe',), ('Europe',), ('Europe',), ('Europe',), ('Europe',), ('Europe',), ('Europe',), ('Europe',), ('Europe',), ('Europe',), ('Europe',), ('Europe',), ('Europe',), ('Europe',), ('Europe',), ('Europe',), ('Europe',), ('Europe',), ('Europe',), ('Europe',), ('Europe',), ('Europe',), ('Europe',), ('Europe',), ('Europe',), ('Europe',), ('Europe',), ('Europe',), ('Europe',), ('Europe',), ('Europe',), ('Europe',), ('Europe',), ('Europe',), ('Europe',), ('Europe',), ('Europe',), ('Europe',), ('Europe',), ('Europe',), ('Europe',), ('Europe',), ('Europe',), ('Europe',), ('Europe',), ('Europe',), ('Europe',), ('Europe',), ('Europe',), ('Europe',), ('Europe',), ('Europe',), ('Europe',), ('Europe',), ('Europe',), ('Europe',), ('Europe',), ('Europe',), ('Europe',), ('Europe',), ('Europe',), ('Europe',), ('Europe',), ('Europe',), ('Europe',), ('Europe',), ('Europe',), ('Europe',), ('Europe',), ('Europe',), ('Europe',), ('Europe',), ('Europe',), ('Europe',), ('Europe',), ('Europe',), ('Europe',), ('Europe',), ('Europe',), ('Europe',), ('Europe',), ('Europe',), ('Europe',), ('Europe',), ('Europe',), ('Europe',), ('Europe',), ('Europe',), ('Europe',), ('Europe',), ('Europe',), ('Europe',), ('Europe',), ('Europe',), ('Europe',), ('Europe',), ('Europe',), ('Europe',), ('Europe',), ('Europe',), ('Europe',), ('Europe',), ('Europe',), ('Europe',), ('Europe',), ('Europe',), ('Europe',), ('Europe',), ('Europe',), ('Europe',), ('Europe',), ('Europe',), ('Europe',), ('Europe',), ('Europe',), ('Europe',), ('Europe',), ('Europe',), ('Europe',), ('Europe',), ('Europe',), ('Europe',), ('Europe',), ('Europe',), ('Europe',), ('Europe',), ('Europe',), ('Europe',), ('Europe',), ('Europe',), ('Europe',), ('Europe',), ('Europe',), ('Europe',), ('Europe',), ('Europe',), ('Europe',), ('Europe',), ('Europe',), ('Europe',), ('Europe',), ('Europe',), ('Europe',), ('Europe',), ('Europe',), ('Europe',), ('Europe',), ('Europe',), ('Europe',), ('Europe',), ('Europe',), ('Europe',), ('Europe',), ('Europe',), ('Europe',), ('Europe',), ('Europe',), ('Europe',), ('Europe',), ('Europe',), ('Europe',), ('Europe',), ('Europe',), ('Europe',), ('Europe',), ('Europe',), ('Europe',), ('Europe',), ('Europe',), ('Europe',), ('Europe',), ('Europe',), ('Europe',), ('Europe',), ('Europe',), ('Europe',), ('Europe',), ('Europe',), ('Europe',), ('Europe',), ('Europe',), ('Europe',), ('Europe',), ('Europe',), ('Europe',), ('Europe',), ('Europe',), ('Europe',), ('Europe',), ('Europe',), ('Europe',), ('Europe',), ('Europe',), ('Europe',), ('Europe',), ('Europe',), ('Europe',), ('Europe',), ('Europe',), ('Europe',), ('Europe',), ('Europe',), ('Europe',), ('Europe',), ('Europe',), ('Europe',), ('Europe',), ('Europe',), ('Europe',), ('Europe',), ('Europe',), ('Europe',), ('Europe',), ('Europe',), ('Europe',), ('Europe',), ('Europe',), ('Europe',), ('Europe',), ('Europe',), ('Europe',), ('Europe',), ('Europe',), ('Europe',), ('Europe',), ('Europe',), ('Europe',), ('Europe',), ('Europe',), ('Europe',), ('Europe',), ('Europe',), ('Europe',), ('Europe',), ('Europe',), ('Europe',), ('Europe',), ('Europe',), ('Europe',), ('Europe',), ('Europe',), ('Europe',), ('Europe',), ('Europe',), ('Europe',), ('Europe',), ('Europe',), ('Europe',), ('Europe',), ('Europe',), ('Europe',), ('Europe',), ('Europe',), ('Europe',), ('Europe',), ('Europe',), ('Europe',), ('Europe',), ('Europe',), ('Europe',), ('Europe',), ('Europe',), ('Europe',), ('Europe',), ('Europe',), ('Europe',), ('Europe',), ('Europe',), ('Europe',), ('Europe',), ('Europe',), ('Europe',), ('Europe',), ('Europe',), ('Europe',), ('Europe',), ('Europe',), ('Europe',), ('Europe',), ('Europe',), ('Europe',), ('Europe',), ('Europe',), ('Europe',), ('Europe',), ('Europe',), ('Europe',), ('Europe',), ('Europe',), ('Europe',), ('Europe',), ('Europe',), ('Europe',), ('Europe',), ('Europe',), ('Europe',), ('Europe',), ('Europe',), ('Europe',), ('Europe',), ('Europe',), ('Europe',), ('Europe',), ('Europe',), ('Europe',), ('Europe',), ('Europe',), ('Europe',), ('Europe',), ('Europe',), ('Europe',), ('Europe',), ('Europe',), ('Europe',), ('Europe',), ('Europe',), ('Europe',), ('Europe',), ('Europe',), ('Europe',), ('Europe',), ('Europe',), ('Europe',), ('Europe',), ('Europe',), ('Europe',), ('Europe',), ('Europe',), ('Europe',), ('Europe',), ('Europe',), ('Europe',), ('Europe',), ('Europe',), ('Europe',), ('Europe',), ('Europe',), ('Europe',), ('Europe',), ('Europe',), ('Europe',), ('Europe',), ('Europe',), ('Europe',), ('Europe',), ('Europe',), ('Europe',), ('Europe',), ('Europe',), ('Europe',), ('Europe',), ('Europe',), ('Europe',), ('Europe',), ('Europe',), ('Europe',), ('Europe',), ('Europe',), ('Europe',), ('Europe',), ('Europe',), ('Europe',), ('Europe',), ('Europe',), ('Europe',), ('Europe',), ('Europe',), ('Europe',), ('Europe',), ('Europe',), ('Europe',), ('Europe',), ('Europe',), ('Europe',), ('Europe',), ('Europe',), ('Europe',), ('Europe',), ('Europe',), ('Europe',), ('Europe',), ('Europe',), ('Europe',), ('Europe',), ('Europe',), ('Europe',), ('Europe',), ('Europe',), ('Europe',), ('Europe',), ('Europe',), ('Europe',), ('Europe',), ('Europe',), ('Europe',), ('Europe',), ('Europe',), ('Europe',), ('Europe',), ('Europe',), ('Europe',), ('Europe',), ('Europe',), ('Europe',), ('Europe',), ('Europe',), ('Europe',), ('Europe',), ('Europe',), ('Europe',), ('Europe',), ('Europe',), ('Europe',), ('Europe',), ('Europe',), ('Europe',), ('Europe',), ('Europe',), ('Europe',), ('Europe',), ('Europe',), ('Europe',), ('Europe',), ('Europe',), ('Europe',), ('Europe',), ('Europe',), ('Europe',), ('Europe',), ('Europe',), ('Europe',), ('Europe',), ('Europe',), ('Europe',), ('Europe',), ('Europe',), ('Europe',), ('Europe',), ('Europe',), ('Europe',), ('Europe',), ('Europe',), ('Europe',), ('Europe',), ('Europe',), ('Europe',), ('Europe',), ('Europe',), ('Europe',), ('Europe',), ('Europe',), ('Europe',), ('Europe',), ('Europe',), ('Europe',), ('Europe',), ('Europe',), ('Europe',), ('Europe',), ('Europe',), ('Europe',), ('Europe',), ('Europe',), ('Europe',), ('Europe',), ('Europe',), ('Europe',), ('Europe',), ('Europe',), ('Europe',), ('Europe',), ('Europe',), ('Europe',), ('Europe',), ('Europe',), ('Europe',), ('Europe',), ('Europe',), ('Europe',), ('Europe',), ('Europe',), ('Europe',), ('Europe',), ('Europe',), ('Europe',), ('Europe',), ('Europe',), ('Europe',), ('Europe',), ('Europe',), ('Europe',), ('Europe',), ('Europe',), ('Europe',), ('Europe',), ('Europe',), ('Europe',), ('Europe',), ('Europe',), ('Europe',), ('Europe',), ('Europe',), ('Europe',), ('Europe',), ('Europe',), ('Europe',), ('Europe',), ('Europe',), ('Europe',), ('Europe',), ('Europe',), ('Europe',), ('Europe',), ('Europe',), ('Europe',), ('Europe',), ('Europe',), ('Europe',), ('Europe',), ('Europe',), ('Europe',), ('Europe',), ('Europe',), ('Europe',), ('Europe',), ('Europe',), ('Europe',), ('Europe',), ('Europe',), ('Europe',), ('Europe',), ('Europe',), ('Europe',), ('Europe',), ('Europe',), ('Europe',), ('Europe',), ('Europe',), ('Europe',), ('Europe',), ('Europe',), ('Europe',), ('Europe',), ('Europe',), ('Europe',), ('Europe',), ('Europe',), ('Europe',), ('Europe',), ('Europe',), ('Europe',), ('Europe',), ('Europe',), ('Europe',), ('Europe',), ('Europe',), ('Europe',), ('Europe',), ('Europe',), ('Europe',), ('Europe',), ('Europe',), ('Europe',), ('Europe',), ('Europe',), ('Europe',), ('Europe',), ('Europe',), ('Europe',), ('Europe',), ('Europe',), ('Europe',), ('Europe',), ('Europe',), ('Europe',), ('Europe',), ('Europe',), ('Europe',), ('Europe',), ('Europe',), ('Europe',), ('Europe',), ('Europe',), ('Europe',), ('Europe',), ('Europe',), ('Europe',), ('Europe',), ('Europe',), ('Europe',), ('Europe',), ('Europe',), ('Europe',), ('Europe',), ('Europe',), ('Europe',), ('Europe',), ('Europe',), ('Europe',), ('Europe',), ('Europe',), ('Europe',), ('Europe',), ('Europe',), ('Europe',), ('Europe',), ('Europe',), ('Europe',), ('Europe',), ('Europe',), ('Europe',), ('Europe',), ('Europe',), ('Europe',), ('Europe',), ('Europe',), ('Europe',), ('Europe',), ('Europe',), ('Europe',), ('Europe',), ('Europe',), ('Europe',), ('Europe',), ('Europe',), ('Europe',), ('Europe',), ('Europe',), ('Europe',), ('Europe',), ('Europe',), ('Europe',), ('Europe',), ('Europe',), ('Europe',), ('Europe',), ('Europe',), ('Europe',), ('Europe',), ('Europe',), ('Europe',), ('Europe',), ('Europe',), ('Europe',), ('Europe',), ('Europe',), ('Europe',), ('Europe',), ('Europe',), ('Europe',), ('Europe',), ('Europe',), ('Europe',), ('Europe',), ('Europe',), ('Europe',), ('Europe',), ('Europe',), ('Europe',), ('Europe',), ('Europe',), ('Europe',), ('Europe',), ('Europe',), ('Europe',), ('Europe',), ('Europe',), ('Europe',), ('Europe',), ('Europe',), ('Europe',), ('Europe',), ('Europe',), ('Europe',), ('Europe',), ('Europe',), ('Europe',), ('Europe',), ('Europe',), ('Europe',), ('Europe',), ('Europe',), ('Europe',), ('Europe',), ('Europe',), ('Europe',), ('Europe',), ('Europe',), ('Europe',), ('Europe',), ('Europe',), ('Europe',), ('Europe',), ('Europe',), ('Europe',), ('Europe',), ('Europe',), ('Europe',), ('Europe',), ('Europe',), ('Europe',), ('Europe',), ('Europe',), ('Europe',), ('Europe',), ('Europe',), ('Europe',), ('Europe',), ('Europe',), ('Europe',), ('Europe',), ('Europe',), ('Europe',), ('Europe',), ('Europe',), ('Europe',), ('Europe',), ('Europe',), ('Europe',), ('Europe',), ('Europe',), ('Europe',), ('Europe',), ('Europe',), ('Europe',), ('Europe',), ('Europe',), ('Europe',), ('Europe',), ('Europe',), ('Europe',), ('Europe',), ('Europe',), ('Europe',), ('Europe',), ('Europe',), ('Europe',), ('Europe',), ('Europe',), ('Europe',), ('Europe',), ('Europe',), ('Europe',), ('Europe',), ('Europe',), ('Europe',), ('Europe',), ('Europe',), ('Europe',), ('Europe',), ('Europe',), ('Europe',), ('Europe',), ('Europe',), ('Europe',), ('Europe',), ('Europe',), ('Europe',), ('Europe',), ('Europe',), ('Europe',), ('Europe',), ('Europe',), ('Europe',), ('Europe',), ('Europe',), ('Europe',), ('Europe',), ('Europe',), ('Europe',), ('Europe',), ('Europe',), ('Europe',), ('Europe',), ('Europe',), ('Europe',), ('Europe',), ('Europe',), ('Europe',), ('Europe',), ('Europe',), ('Europe',), ('Europe',), ('Europe',), ('Europe',), ('Europe',), ('Europe',), ('Europe',), ('Europe',), ('Europe',)]\u001b[0m\n",
      "Thought:"
     ]
    },
    {
     "ename": "InvalidRequestError",
     "evalue": "This model's maximum context length is 4097 tokens, however you requested 31513 tokens (31257 in your prompt; 256 for the completion). Please reduce your prompt; or completion length.",
     "output_type": "error",
     "traceback": [
      "\u001b[1;31m---------------------------------------------------------------------------\u001b[0m",
      "\u001b[1;31mInvalidRequestError\u001b[0m                       Traceback (most recent call last)",
      "Cell \u001b[1;32mIn[21], line 6\u001b[0m\n\u001b[0;32m      1\u001b[0m \u001b[39m# Describe your query here\u001b[39;00m\n\u001b[0;32m      2\u001b[0m query \u001b[39m=\u001b[39m \u001b[39m\"\"\"\u001b[39m\u001b[39m\\\u001b[39;00m\n\u001b[0;32m      3\u001b[0m \u001b[39mGive me the list of regions where Naphtha is present?(No Limit)\u001b[39m\n\u001b[0;32m      4\u001b[0m \u001b[39m\"\"\"\u001b[39m\n\u001b[1;32m----> 6\u001b[0m agent_executor\u001b[39m.\u001b[39;49mrun(query)\n",
      "File \u001b[1;32md:\\Anaconda\\envs\\deeplakelangchain\\lib\\site-packages\\langchain\\chains\\base.py:290\u001b[0m, in \u001b[0;36mChain.run\u001b[1;34m(self, callbacks, tags, *args, **kwargs)\u001b[0m\n\u001b[0;32m    288\u001b[0m     \u001b[39mif\u001b[39;00m \u001b[39mlen\u001b[39m(args) \u001b[39m!=\u001b[39m \u001b[39m1\u001b[39m:\n\u001b[0;32m    289\u001b[0m         \u001b[39mraise\u001b[39;00m \u001b[39mValueError\u001b[39;00m(\u001b[39m\"\u001b[39m\u001b[39m`run` supports only one positional argument.\u001b[39m\u001b[39m\"\u001b[39m)\n\u001b[1;32m--> 290\u001b[0m     \u001b[39mreturn\u001b[39;00m \u001b[39mself\u001b[39;49m(args[\u001b[39m0\u001b[39;49m], callbacks\u001b[39m=\u001b[39;49mcallbacks, tags\u001b[39m=\u001b[39;49mtags)[_output_key]\n\u001b[0;32m    292\u001b[0m \u001b[39mif\u001b[39;00m kwargs \u001b[39mand\u001b[39;00m \u001b[39mnot\u001b[39;00m args:\n\u001b[0;32m    293\u001b[0m     \u001b[39mreturn\u001b[39;00m \u001b[39mself\u001b[39m(kwargs, callbacks\u001b[39m=\u001b[39mcallbacks, tags\u001b[39m=\u001b[39mtags)[_output_key]\n",
      "File \u001b[1;32md:\\Anaconda\\envs\\deeplakelangchain\\lib\\site-packages\\langchain\\chains\\base.py:166\u001b[0m, in \u001b[0;36mChain.__call__\u001b[1;34m(self, inputs, return_only_outputs, callbacks, tags, include_run_info)\u001b[0m\n\u001b[0;32m    164\u001b[0m \u001b[39mexcept\u001b[39;00m (\u001b[39mKeyboardInterrupt\u001b[39;00m, \u001b[39mException\u001b[39;00m) \u001b[39mas\u001b[39;00m e:\n\u001b[0;32m    165\u001b[0m     run_manager\u001b[39m.\u001b[39mon_chain_error(e)\n\u001b[1;32m--> 166\u001b[0m     \u001b[39mraise\u001b[39;00m e\n\u001b[0;32m    167\u001b[0m run_manager\u001b[39m.\u001b[39mon_chain_end(outputs)\n\u001b[0;32m    168\u001b[0m final_outputs: Dict[\u001b[39mstr\u001b[39m, Any] \u001b[39m=\u001b[39m \u001b[39mself\u001b[39m\u001b[39m.\u001b[39mprep_outputs(\n\u001b[0;32m    169\u001b[0m     inputs, outputs, return_only_outputs\n\u001b[0;32m    170\u001b[0m )\n",
      "File \u001b[1;32md:\\Anaconda\\envs\\deeplakelangchain\\lib\\site-packages\\langchain\\chains\\base.py:160\u001b[0m, in \u001b[0;36mChain.__call__\u001b[1;34m(self, inputs, return_only_outputs, callbacks, tags, include_run_info)\u001b[0m\n\u001b[0;32m    154\u001b[0m run_manager \u001b[39m=\u001b[39m callback_manager\u001b[39m.\u001b[39mon_chain_start(\n\u001b[0;32m    155\u001b[0m     dumpd(\u001b[39mself\u001b[39m),\n\u001b[0;32m    156\u001b[0m     inputs,\n\u001b[0;32m    157\u001b[0m )\n\u001b[0;32m    158\u001b[0m \u001b[39mtry\u001b[39;00m:\n\u001b[0;32m    159\u001b[0m     outputs \u001b[39m=\u001b[39m (\n\u001b[1;32m--> 160\u001b[0m         \u001b[39mself\u001b[39;49m\u001b[39m.\u001b[39;49m_call(inputs, run_manager\u001b[39m=\u001b[39;49mrun_manager)\n\u001b[0;32m    161\u001b[0m         \u001b[39mif\u001b[39;00m new_arg_supported\n\u001b[0;32m    162\u001b[0m         \u001b[39melse\u001b[39;00m \u001b[39mself\u001b[39m\u001b[39m.\u001b[39m_call(inputs)\n\u001b[0;32m    163\u001b[0m     )\n\u001b[0;32m    164\u001b[0m \u001b[39mexcept\u001b[39;00m (\u001b[39mKeyboardInterrupt\u001b[39;00m, \u001b[39mException\u001b[39;00m) \u001b[39mas\u001b[39;00m e:\n\u001b[0;32m    165\u001b[0m     run_manager\u001b[39m.\u001b[39mon_chain_error(e)\n",
      "File \u001b[1;32md:\\Anaconda\\envs\\deeplakelangchain\\lib\\site-packages\\langchain\\agents\\agent.py:957\u001b[0m, in \u001b[0;36mAgentExecutor._call\u001b[1;34m(self, inputs, run_manager)\u001b[0m\n\u001b[0;32m    955\u001b[0m \u001b[39m# We now enter the agent loop (until it returns something).\u001b[39;00m\n\u001b[0;32m    956\u001b[0m \u001b[39mwhile\u001b[39;00m \u001b[39mself\u001b[39m\u001b[39m.\u001b[39m_should_continue(iterations, time_elapsed):\n\u001b[1;32m--> 957\u001b[0m     next_step_output \u001b[39m=\u001b[39m \u001b[39mself\u001b[39;49m\u001b[39m.\u001b[39;49m_take_next_step(\n\u001b[0;32m    958\u001b[0m         name_to_tool_map,\n\u001b[0;32m    959\u001b[0m         color_mapping,\n\u001b[0;32m    960\u001b[0m         inputs,\n\u001b[0;32m    961\u001b[0m         intermediate_steps,\n\u001b[0;32m    962\u001b[0m         run_manager\u001b[39m=\u001b[39;49mrun_manager,\n\u001b[0;32m    963\u001b[0m     )\n\u001b[0;32m    964\u001b[0m     \u001b[39mif\u001b[39;00m \u001b[39misinstance\u001b[39m(next_step_output, AgentFinish):\n\u001b[0;32m    965\u001b[0m         \u001b[39mreturn\u001b[39;00m \u001b[39mself\u001b[39m\u001b[39m.\u001b[39m_return(\n\u001b[0;32m    966\u001b[0m             next_step_output, intermediate_steps, run_manager\u001b[39m=\u001b[39mrun_manager\n\u001b[0;32m    967\u001b[0m         )\n",
      "File \u001b[1;32md:\\Anaconda\\envs\\deeplakelangchain\\lib\\site-packages\\langchain\\agents\\agent.py:762\u001b[0m, in \u001b[0;36mAgentExecutor._take_next_step\u001b[1;34m(self, name_to_tool_map, color_mapping, inputs, intermediate_steps, run_manager)\u001b[0m\n\u001b[0;32m    756\u001b[0m \u001b[39m\u001b[39m\u001b[39m\"\"\"Take a single step in the thought-action-observation loop.\u001b[39;00m\n\u001b[0;32m    757\u001b[0m \n\u001b[0;32m    758\u001b[0m \u001b[39mOverride this to take control of how the agent makes and acts on choices.\u001b[39;00m\n\u001b[0;32m    759\u001b[0m \u001b[39m\"\"\"\u001b[39;00m\n\u001b[0;32m    760\u001b[0m \u001b[39mtry\u001b[39;00m:\n\u001b[0;32m    761\u001b[0m     \u001b[39m# Call the LLM to see what to do.\u001b[39;00m\n\u001b[1;32m--> 762\u001b[0m     output \u001b[39m=\u001b[39m \u001b[39mself\u001b[39m\u001b[39m.\u001b[39magent\u001b[39m.\u001b[39mplan(\n\u001b[0;32m    763\u001b[0m         intermediate_steps,\n\u001b[0;32m    764\u001b[0m         callbacks\u001b[39m=\u001b[39mrun_manager\u001b[39m.\u001b[39mget_child() \u001b[39mif\u001b[39;00m run_manager \u001b[39melse\u001b[39;00m \u001b[39mNone\u001b[39;00m,\n\u001b[0;32m    765\u001b[0m         \u001b[39m*\u001b[39m\u001b[39m*\u001b[39minputs,\n\u001b[0;32m    766\u001b[0m     )\n\u001b[0;32m    767\u001b[0m \u001b[39mexcept\u001b[39;00m OutputParserException \u001b[39mas\u001b[39;00m e:\n\u001b[0;32m    768\u001b[0m     \u001b[39mif\u001b[39;00m \u001b[39misinstance\u001b[39m(\u001b[39mself\u001b[39m\u001b[39m.\u001b[39mhandle_parsing_errors, \u001b[39mbool\u001b[39m):\n",
      "File \u001b[1;32md:\\Anaconda\\envs\\deeplakelangchain\\lib\\site-packages\\langchain\\agents\\agent.py:443\u001b[0m, in \u001b[0;36mAgent.plan\u001b[1;34m(self, intermediate_steps, callbacks, **kwargs)\u001b[0m\n\u001b[0;32m    431\u001b[0m \u001b[39m\u001b[39m\u001b[39m\"\"\"Given input, decided what to do.\u001b[39;00m\n\u001b[0;32m    432\u001b[0m \n\u001b[0;32m    433\u001b[0m \u001b[39mArgs:\u001b[39;00m\n\u001b[1;32m   (...)\u001b[0m\n\u001b[0;32m    440\u001b[0m \u001b[39m    Action specifying what tool to use.\u001b[39;00m\n\u001b[0;32m    441\u001b[0m \u001b[39m\"\"\"\u001b[39;00m\n\u001b[0;32m    442\u001b[0m full_inputs \u001b[39m=\u001b[39m \u001b[39mself\u001b[39m\u001b[39m.\u001b[39mget_full_inputs(intermediate_steps, \u001b[39m*\u001b[39m\u001b[39m*\u001b[39mkwargs)\n\u001b[1;32m--> 443\u001b[0m full_output \u001b[39m=\u001b[39m \u001b[39mself\u001b[39m\u001b[39m.\u001b[39mllm_chain\u001b[39m.\u001b[39mpredict(callbacks\u001b[39m=\u001b[39mcallbacks, \u001b[39m*\u001b[39m\u001b[39m*\u001b[39mfull_inputs)\n\u001b[0;32m    444\u001b[0m \u001b[39mreturn\u001b[39;00m \u001b[39mself\u001b[39m\u001b[39m.\u001b[39moutput_parser\u001b[39m.\u001b[39mparse(full_output)\n",
      "File \u001b[1;32md:\\Anaconda\\envs\\deeplakelangchain\\lib\\site-packages\\langchain\\chains\\llm.py:252\u001b[0m, in \u001b[0;36mLLMChain.predict\u001b[1;34m(self, callbacks, **kwargs)\u001b[0m\n\u001b[0;32m    237\u001b[0m \u001b[39mdef\u001b[39;00m \u001b[39mpredict\u001b[39m(\u001b[39mself\u001b[39m, callbacks: Callbacks \u001b[39m=\u001b[39m \u001b[39mNone\u001b[39;00m, \u001b[39m*\u001b[39m\u001b[39m*\u001b[39mkwargs: Any) \u001b[39m-\u001b[39m\u001b[39m>\u001b[39m \u001b[39mstr\u001b[39m:\n\u001b[0;32m    238\u001b[0m \u001b[39m    \u001b[39m\u001b[39m\"\"\"Format prompt with kwargs and pass to LLM.\u001b[39;00m\n\u001b[0;32m    239\u001b[0m \n\u001b[0;32m    240\u001b[0m \u001b[39m    Args:\u001b[39;00m\n\u001b[1;32m   (...)\u001b[0m\n\u001b[0;32m    250\u001b[0m \u001b[39m            completion = llm.predict(adjective=\"funny\")\u001b[39;00m\n\u001b[0;32m    251\u001b[0m \u001b[39m    \"\"\"\u001b[39;00m\n\u001b[1;32m--> 252\u001b[0m     \u001b[39mreturn\u001b[39;00m \u001b[39mself\u001b[39;49m(kwargs, callbacks\u001b[39m=\u001b[39;49mcallbacks)[\u001b[39mself\u001b[39m\u001b[39m.\u001b[39moutput_key]\n",
      "File \u001b[1;32md:\\Anaconda\\envs\\deeplakelangchain\\lib\\site-packages\\langchain\\chains\\base.py:166\u001b[0m, in \u001b[0;36mChain.__call__\u001b[1;34m(self, inputs, return_only_outputs, callbacks, tags, include_run_info)\u001b[0m\n\u001b[0;32m    164\u001b[0m \u001b[39mexcept\u001b[39;00m (\u001b[39mKeyboardInterrupt\u001b[39;00m, \u001b[39mException\u001b[39;00m) \u001b[39mas\u001b[39;00m e:\n\u001b[0;32m    165\u001b[0m     run_manager\u001b[39m.\u001b[39mon_chain_error(e)\n\u001b[1;32m--> 166\u001b[0m     \u001b[39mraise\u001b[39;00m e\n\u001b[0;32m    167\u001b[0m run_manager\u001b[39m.\u001b[39mon_chain_end(outputs)\n\u001b[0;32m    168\u001b[0m final_outputs: Dict[\u001b[39mstr\u001b[39m, Any] \u001b[39m=\u001b[39m \u001b[39mself\u001b[39m\u001b[39m.\u001b[39mprep_outputs(\n\u001b[0;32m    169\u001b[0m     inputs, outputs, return_only_outputs\n\u001b[0;32m    170\u001b[0m )\n",
      "File \u001b[1;32md:\\Anaconda\\envs\\deeplakelangchain\\lib\\site-packages\\langchain\\chains\\base.py:160\u001b[0m, in \u001b[0;36mChain.__call__\u001b[1;34m(self, inputs, return_only_outputs, callbacks, tags, include_run_info)\u001b[0m\n\u001b[0;32m    154\u001b[0m run_manager \u001b[39m=\u001b[39m callback_manager\u001b[39m.\u001b[39mon_chain_start(\n\u001b[0;32m    155\u001b[0m     dumpd(\u001b[39mself\u001b[39m),\n\u001b[0;32m    156\u001b[0m     inputs,\n\u001b[0;32m    157\u001b[0m )\n\u001b[0;32m    158\u001b[0m \u001b[39mtry\u001b[39;00m:\n\u001b[0;32m    159\u001b[0m     outputs \u001b[39m=\u001b[39m (\n\u001b[1;32m--> 160\u001b[0m         \u001b[39mself\u001b[39;49m\u001b[39m.\u001b[39;49m_call(inputs, run_manager\u001b[39m=\u001b[39;49mrun_manager)\n\u001b[0;32m    161\u001b[0m         \u001b[39mif\u001b[39;00m new_arg_supported\n\u001b[0;32m    162\u001b[0m         \u001b[39melse\u001b[39;00m \u001b[39mself\u001b[39m\u001b[39m.\u001b[39m_call(inputs)\n\u001b[0;32m    163\u001b[0m     )\n\u001b[0;32m    164\u001b[0m \u001b[39mexcept\u001b[39;00m (\u001b[39mKeyboardInterrupt\u001b[39;00m, \u001b[39mException\u001b[39;00m) \u001b[39mas\u001b[39;00m e:\n\u001b[0;32m    165\u001b[0m     run_manager\u001b[39m.\u001b[39mon_chain_error(e)\n",
      "File \u001b[1;32md:\\Anaconda\\envs\\deeplakelangchain\\lib\\site-packages\\langchain\\chains\\llm.py:92\u001b[0m, in \u001b[0;36mLLMChain._call\u001b[1;34m(self, inputs, run_manager)\u001b[0m\n\u001b[0;32m     87\u001b[0m \u001b[39mdef\u001b[39;00m \u001b[39m_call\u001b[39m(\n\u001b[0;32m     88\u001b[0m     \u001b[39mself\u001b[39m,\n\u001b[0;32m     89\u001b[0m     inputs: Dict[\u001b[39mstr\u001b[39m, Any],\n\u001b[0;32m     90\u001b[0m     run_manager: Optional[CallbackManagerForChainRun] \u001b[39m=\u001b[39m \u001b[39mNone\u001b[39;00m,\n\u001b[0;32m     91\u001b[0m ) \u001b[39m-\u001b[39m\u001b[39m>\u001b[39m Dict[\u001b[39mstr\u001b[39m, \u001b[39mstr\u001b[39m]:\n\u001b[1;32m---> 92\u001b[0m     response \u001b[39m=\u001b[39m \u001b[39mself\u001b[39;49m\u001b[39m.\u001b[39;49mgenerate([inputs], run_manager\u001b[39m=\u001b[39;49mrun_manager)\n\u001b[0;32m     93\u001b[0m     \u001b[39mreturn\u001b[39;00m \u001b[39mself\u001b[39m\u001b[39m.\u001b[39mcreate_outputs(response)[\u001b[39m0\u001b[39m]\n",
      "File \u001b[1;32md:\\Anaconda\\envs\\deeplakelangchain\\lib\\site-packages\\langchain\\chains\\llm.py:102\u001b[0m, in \u001b[0;36mLLMChain.generate\u001b[1;34m(self, input_list, run_manager)\u001b[0m\n\u001b[0;32m    100\u001b[0m \u001b[39m\u001b[39m\u001b[39m\"\"\"Generate LLM result from inputs.\"\"\"\u001b[39;00m\n\u001b[0;32m    101\u001b[0m prompts, stop \u001b[39m=\u001b[39m \u001b[39mself\u001b[39m\u001b[39m.\u001b[39mprep_prompts(input_list, run_manager\u001b[39m=\u001b[39mrun_manager)\n\u001b[1;32m--> 102\u001b[0m \u001b[39mreturn\u001b[39;00m \u001b[39mself\u001b[39m\u001b[39m.\u001b[39mllm\u001b[39m.\u001b[39mgenerate_prompt(\n\u001b[0;32m    103\u001b[0m     prompts,\n\u001b[0;32m    104\u001b[0m     stop,\n\u001b[0;32m    105\u001b[0m     callbacks\u001b[39m=\u001b[39mrun_manager\u001b[39m.\u001b[39mget_child() \u001b[39mif\u001b[39;00m run_manager \u001b[39melse\u001b[39;00m \u001b[39mNone\u001b[39;00m,\n\u001b[0;32m    106\u001b[0m     \u001b[39m*\u001b[39m\u001b[39m*\u001b[39m\u001b[39mself\u001b[39m\u001b[39m.\u001b[39mllm_kwargs,\n\u001b[0;32m    107\u001b[0m )\n",
      "File \u001b[1;32md:\\Anaconda\\envs\\deeplakelangchain\\lib\\site-packages\\langchain\\llms\\base.py:140\u001b[0m, in \u001b[0;36mBaseLLM.generate_prompt\u001b[1;34m(self, prompts, stop, callbacks, **kwargs)\u001b[0m\n\u001b[0;32m    132\u001b[0m \u001b[39mdef\u001b[39;00m \u001b[39mgenerate_prompt\u001b[39m(\n\u001b[0;32m    133\u001b[0m     \u001b[39mself\u001b[39m,\n\u001b[0;32m    134\u001b[0m     prompts: List[PromptValue],\n\u001b[1;32m   (...)\u001b[0m\n\u001b[0;32m    137\u001b[0m     \u001b[39m*\u001b[39m\u001b[39m*\u001b[39mkwargs: Any,\n\u001b[0;32m    138\u001b[0m ) \u001b[39m-\u001b[39m\u001b[39m>\u001b[39m LLMResult:\n\u001b[0;32m    139\u001b[0m     prompt_strings \u001b[39m=\u001b[39m [p\u001b[39m.\u001b[39mto_string() \u001b[39mfor\u001b[39;00m p \u001b[39min\u001b[39;00m prompts]\n\u001b[1;32m--> 140\u001b[0m     \u001b[39mreturn\u001b[39;00m \u001b[39mself\u001b[39m\u001b[39m.\u001b[39mgenerate(prompt_strings, stop\u001b[39m=\u001b[39mstop, callbacks\u001b[39m=\u001b[39mcallbacks, \u001b[39m*\u001b[39m\u001b[39m*\u001b[39mkwargs)\n",
      "File \u001b[1;32md:\\Anaconda\\envs\\deeplakelangchain\\lib\\site-packages\\langchain\\llms\\base.py:206\u001b[0m, in \u001b[0;36mBaseLLM.generate\u001b[1;34m(self, prompts, stop, callbacks, tags, **kwargs)\u001b[0m\n\u001b[0;32m    204\u001b[0m \u001b[39mexcept\u001b[39;00m (\u001b[39mKeyboardInterrupt\u001b[39;00m, \u001b[39mException\u001b[39;00m) \u001b[39mas\u001b[39;00m e:\n\u001b[0;32m    205\u001b[0m     run_manager\u001b[39m.\u001b[39mon_llm_error(e)\n\u001b[1;32m--> 206\u001b[0m     \u001b[39mraise\u001b[39;00m e\n\u001b[0;32m    207\u001b[0m run_manager\u001b[39m.\u001b[39mon_llm_end(output)\n\u001b[0;32m    208\u001b[0m \u001b[39mif\u001b[39;00m run_manager:\n",
      "File \u001b[1;32md:\\Anaconda\\envs\\deeplakelangchain\\lib\\site-packages\\langchain\\llms\\base.py:198\u001b[0m, in \u001b[0;36mBaseLLM.generate\u001b[1;34m(self, prompts, stop, callbacks, tags, **kwargs)\u001b[0m\n\u001b[0;32m    193\u001b[0m run_manager \u001b[39m=\u001b[39m callback_manager\u001b[39m.\u001b[39mon_llm_start(\n\u001b[0;32m    194\u001b[0m     dumpd(\u001b[39mself\u001b[39m), prompts, invocation_params\u001b[39m=\u001b[39mparams, options\u001b[39m=\u001b[39moptions\n\u001b[0;32m    195\u001b[0m )\n\u001b[0;32m    196\u001b[0m \u001b[39mtry\u001b[39;00m:\n\u001b[0;32m    197\u001b[0m     output \u001b[39m=\u001b[39m (\n\u001b[1;32m--> 198\u001b[0m         \u001b[39mself\u001b[39m\u001b[39m.\u001b[39m_generate(\n\u001b[0;32m    199\u001b[0m             prompts, stop\u001b[39m=\u001b[39mstop, run_manager\u001b[39m=\u001b[39mrun_manager, \u001b[39m*\u001b[39m\u001b[39m*\u001b[39mkwargs\n\u001b[0;32m    200\u001b[0m         )\n\u001b[0;32m    201\u001b[0m         \u001b[39mif\u001b[39;00m new_arg_supported\n\u001b[0;32m    202\u001b[0m         \u001b[39melse\u001b[39;00m \u001b[39mself\u001b[39m\u001b[39m.\u001b[39m_generate(prompts, stop\u001b[39m=\u001b[39mstop, \u001b[39m*\u001b[39m\u001b[39m*\u001b[39mkwargs)\n\u001b[0;32m    203\u001b[0m     )\n\u001b[0;32m    204\u001b[0m \u001b[39mexcept\u001b[39;00m (\u001b[39mKeyboardInterrupt\u001b[39;00m, \u001b[39mException\u001b[39;00m) \u001b[39mas\u001b[39;00m e:\n\u001b[0;32m    205\u001b[0m     run_manager\u001b[39m.\u001b[39mon_llm_error(e)\n",
      "File \u001b[1;32md:\\Anaconda\\envs\\deeplakelangchain\\lib\\site-packages\\langchain\\llms\\openai.py:326\u001b[0m, in \u001b[0;36mBaseOpenAI._generate\u001b[1;34m(self, prompts, stop, run_manager, **kwargs)\u001b[0m\n\u001b[0;32m    324\u001b[0m     choices\u001b[39m.\u001b[39mextend(response[\u001b[39m\"\u001b[39m\u001b[39mchoices\u001b[39m\u001b[39m\"\u001b[39m])\n\u001b[0;32m    325\u001b[0m \u001b[39melse\u001b[39;00m:\n\u001b[1;32m--> 326\u001b[0m     response \u001b[39m=\u001b[39m completion_with_retry(\u001b[39mself\u001b[39m, prompt\u001b[39m=\u001b[39m_prompts, \u001b[39m*\u001b[39m\u001b[39m*\u001b[39mparams)\n\u001b[0;32m    327\u001b[0m     choices\u001b[39m.\u001b[39mextend(response[\u001b[39m\"\u001b[39m\u001b[39mchoices\u001b[39m\u001b[39m\"\u001b[39m])\n\u001b[0;32m    328\u001b[0m \u001b[39mif\u001b[39;00m \u001b[39mnot\u001b[39;00m \u001b[39mself\u001b[39m\u001b[39m.\u001b[39mstreaming:\n\u001b[0;32m    329\u001b[0m     \u001b[39m# Can't update token usage if streaming\u001b[39;00m\n",
      "File \u001b[1;32md:\\Anaconda\\envs\\deeplakelangchain\\lib\\site-packages\\langchain\\llms\\openai.py:106\u001b[0m, in \u001b[0;36mcompletion_with_retry\u001b[1;34m(llm, **kwargs)\u001b[0m\n\u001b[0;32m    102\u001b[0m \u001b[39m@retry_decorator\u001b[39m\n\u001b[0;32m    103\u001b[0m \u001b[39mdef\u001b[39;00m \u001b[39m_completion_with_retry\u001b[39m(\u001b[39m*\u001b[39m\u001b[39m*\u001b[39mkwargs: Any) \u001b[39m-\u001b[39m\u001b[39m>\u001b[39m Any:\n\u001b[0;32m    104\u001b[0m     \u001b[39mreturn\u001b[39;00m llm\u001b[39m.\u001b[39mclient\u001b[39m.\u001b[39mcreate(\u001b[39m*\u001b[39m\u001b[39m*\u001b[39mkwargs)\n\u001b[1;32m--> 106\u001b[0m \u001b[39mreturn\u001b[39;00m _completion_with_retry(\u001b[39m*\u001b[39m\u001b[39m*\u001b[39mkwargs)\n",
      "File \u001b[1;32md:\\Anaconda\\envs\\deeplakelangchain\\lib\\site-packages\\tenacity\\__init__.py:289\u001b[0m, in \u001b[0;36mBaseRetrying.wraps.<locals>.wrapped_f\u001b[1;34m(*args, **kw)\u001b[0m\n\u001b[0;32m    287\u001b[0m \u001b[39m@functools\u001b[39m\u001b[39m.\u001b[39mwraps(f)\n\u001b[0;32m    288\u001b[0m \u001b[39mdef\u001b[39;00m \u001b[39mwrapped_f\u001b[39m(\u001b[39m*\u001b[39margs: t\u001b[39m.\u001b[39mAny, \u001b[39m*\u001b[39m\u001b[39m*\u001b[39mkw: t\u001b[39m.\u001b[39mAny) \u001b[39m-\u001b[39m\u001b[39m>\u001b[39m t\u001b[39m.\u001b[39mAny:\n\u001b[1;32m--> 289\u001b[0m     \u001b[39mreturn\u001b[39;00m \u001b[39mself\u001b[39m(f, \u001b[39m*\u001b[39margs, \u001b[39m*\u001b[39m\u001b[39m*\u001b[39mkw)\n",
      "File \u001b[1;32md:\\Anaconda\\envs\\deeplakelangchain\\lib\\site-packages\\tenacity\\__init__.py:379\u001b[0m, in \u001b[0;36mRetrying.__call__\u001b[1;34m(self, fn, *args, **kwargs)\u001b[0m\n\u001b[0;32m    377\u001b[0m retry_state \u001b[39m=\u001b[39m RetryCallState(retry_object\u001b[39m=\u001b[39m\u001b[39mself\u001b[39m, fn\u001b[39m=\u001b[39mfn, args\u001b[39m=\u001b[39margs, kwargs\u001b[39m=\u001b[39mkwargs)\n\u001b[0;32m    378\u001b[0m \u001b[39mwhile\u001b[39;00m \u001b[39mTrue\u001b[39;00m:\n\u001b[1;32m--> 379\u001b[0m     do \u001b[39m=\u001b[39m \u001b[39mself\u001b[39;49m\u001b[39m.\u001b[39;49miter(retry_state\u001b[39m=\u001b[39;49mretry_state)\n\u001b[0;32m    380\u001b[0m     \u001b[39mif\u001b[39;00m \u001b[39misinstance\u001b[39m(do, DoAttempt):\n\u001b[0;32m    381\u001b[0m         \u001b[39mtry\u001b[39;00m:\n",
      "File \u001b[1;32md:\\Anaconda\\envs\\deeplakelangchain\\lib\\site-packages\\tenacity\\__init__.py:314\u001b[0m, in \u001b[0;36mBaseRetrying.iter\u001b[1;34m(self, retry_state)\u001b[0m\n\u001b[0;32m    312\u001b[0m is_explicit_retry \u001b[39m=\u001b[39m fut\u001b[39m.\u001b[39mfailed \u001b[39mand\u001b[39;00m \u001b[39misinstance\u001b[39m(fut\u001b[39m.\u001b[39mexception(), TryAgain)\n\u001b[0;32m    313\u001b[0m \u001b[39mif\u001b[39;00m \u001b[39mnot\u001b[39;00m (is_explicit_retry \u001b[39mor\u001b[39;00m \u001b[39mself\u001b[39m\u001b[39m.\u001b[39mretry(retry_state)):\n\u001b[1;32m--> 314\u001b[0m     \u001b[39mreturn\u001b[39;00m fut\u001b[39m.\u001b[39;49mresult()\n\u001b[0;32m    316\u001b[0m \u001b[39mif\u001b[39;00m \u001b[39mself\u001b[39m\u001b[39m.\u001b[39mafter \u001b[39mis\u001b[39;00m \u001b[39mnot\u001b[39;00m \u001b[39mNone\u001b[39;00m:\n\u001b[0;32m    317\u001b[0m     \u001b[39mself\u001b[39m\u001b[39m.\u001b[39mafter(retry_state)\n",
      "File \u001b[1;32md:\\Anaconda\\envs\\deeplakelangchain\\lib\\concurrent\\futures\\_base.py:451\u001b[0m, in \u001b[0;36mFuture.result\u001b[1;34m(self, timeout)\u001b[0m\n\u001b[0;32m    449\u001b[0m     \u001b[39mraise\u001b[39;00m CancelledError()\n\u001b[0;32m    450\u001b[0m \u001b[39melif\u001b[39;00m \u001b[39mself\u001b[39m\u001b[39m.\u001b[39m_state \u001b[39m==\u001b[39m FINISHED:\n\u001b[1;32m--> 451\u001b[0m     \u001b[39mreturn\u001b[39;00m \u001b[39mself\u001b[39;49m\u001b[39m.\u001b[39;49m__get_result()\n\u001b[0;32m    453\u001b[0m \u001b[39mself\u001b[39m\u001b[39m.\u001b[39m_condition\u001b[39m.\u001b[39mwait(timeout)\n\u001b[0;32m    455\u001b[0m \u001b[39mif\u001b[39;00m \u001b[39mself\u001b[39m\u001b[39m.\u001b[39m_state \u001b[39min\u001b[39;00m [CANCELLED, CANCELLED_AND_NOTIFIED]:\n",
      "File \u001b[1;32md:\\Anaconda\\envs\\deeplakelangchain\\lib\\concurrent\\futures\\_base.py:403\u001b[0m, in \u001b[0;36mFuture.__get_result\u001b[1;34m(self)\u001b[0m\n\u001b[0;32m    401\u001b[0m \u001b[39mif\u001b[39;00m \u001b[39mself\u001b[39m\u001b[39m.\u001b[39m_exception:\n\u001b[0;32m    402\u001b[0m     \u001b[39mtry\u001b[39;00m:\n\u001b[1;32m--> 403\u001b[0m         \u001b[39mraise\u001b[39;00m \u001b[39mself\u001b[39m\u001b[39m.\u001b[39m_exception\n\u001b[0;32m    404\u001b[0m     \u001b[39mfinally\u001b[39;00m:\n\u001b[0;32m    405\u001b[0m         \u001b[39m# Break a reference cycle with the exception in self._exception\u001b[39;00m\n\u001b[0;32m    406\u001b[0m         \u001b[39mself\u001b[39m \u001b[39m=\u001b[39m \u001b[39mNone\u001b[39;00m\n",
      "File \u001b[1;32md:\\Anaconda\\envs\\deeplakelangchain\\lib\\site-packages\\tenacity\\__init__.py:382\u001b[0m, in \u001b[0;36mRetrying.__call__\u001b[1;34m(self, fn, *args, **kwargs)\u001b[0m\n\u001b[0;32m    380\u001b[0m \u001b[39mif\u001b[39;00m \u001b[39misinstance\u001b[39m(do, DoAttempt):\n\u001b[0;32m    381\u001b[0m     \u001b[39mtry\u001b[39;00m:\n\u001b[1;32m--> 382\u001b[0m         result \u001b[39m=\u001b[39m fn(\u001b[39m*\u001b[39margs, \u001b[39m*\u001b[39m\u001b[39m*\u001b[39mkwargs)\n\u001b[0;32m    383\u001b[0m     \u001b[39mexcept\u001b[39;00m \u001b[39mBaseException\u001b[39;00m:  \u001b[39m# noqa: B902\u001b[39;00m\n\u001b[0;32m    384\u001b[0m         retry_state\u001b[39m.\u001b[39mset_exception(sys\u001b[39m.\u001b[39mexc_info())  \u001b[39m# type: ignore[arg-type]\u001b[39;00m\n",
      "File \u001b[1;32md:\\Anaconda\\envs\\deeplakelangchain\\lib\\site-packages\\langchain\\llms\\openai.py:104\u001b[0m, in \u001b[0;36mcompletion_with_retry.<locals>._completion_with_retry\u001b[1;34m(**kwargs)\u001b[0m\n\u001b[0;32m    102\u001b[0m \u001b[39m@retry_decorator\u001b[39m\n\u001b[0;32m    103\u001b[0m \u001b[39mdef\u001b[39;00m \u001b[39m_completion_with_retry\u001b[39m(\u001b[39m*\u001b[39m\u001b[39m*\u001b[39mkwargs: Any) \u001b[39m-\u001b[39m\u001b[39m>\u001b[39m Any:\n\u001b[1;32m--> 104\u001b[0m     \u001b[39mreturn\u001b[39;00m llm\u001b[39m.\u001b[39mclient\u001b[39m.\u001b[39mcreate(\u001b[39m*\u001b[39m\u001b[39m*\u001b[39mkwargs)\n",
      "File \u001b[1;32md:\\Anaconda\\envs\\deeplakelangchain\\lib\\site-packages\\openai\\api_resources\\completion.py:25\u001b[0m, in \u001b[0;36mCompletion.create\u001b[1;34m(cls, *args, **kwargs)\u001b[0m\n\u001b[0;32m     23\u001b[0m \u001b[39mwhile\u001b[39;00m \u001b[39mTrue\u001b[39;00m:\n\u001b[0;32m     24\u001b[0m     \u001b[39mtry\u001b[39;00m:\n\u001b[1;32m---> 25\u001b[0m         \u001b[39mreturn\u001b[39;00m \u001b[39msuper\u001b[39m()\u001b[39m.\u001b[39mcreate(\u001b[39m*\u001b[39margs, \u001b[39m*\u001b[39m\u001b[39m*\u001b[39mkwargs)\n\u001b[0;32m     26\u001b[0m     \u001b[39mexcept\u001b[39;00m TryAgain \u001b[39mas\u001b[39;00m e:\n\u001b[0;32m     27\u001b[0m         \u001b[39mif\u001b[39;00m timeout \u001b[39mis\u001b[39;00m \u001b[39mnot\u001b[39;00m \u001b[39mNone\u001b[39;00m \u001b[39mand\u001b[39;00m time\u001b[39m.\u001b[39mtime() \u001b[39m>\u001b[39m start \u001b[39m+\u001b[39m timeout:\n",
      "File \u001b[1;32md:\\Anaconda\\envs\\deeplakelangchain\\lib\\site-packages\\openai\\api_resources\\abstract\\engine_api_resource.py:153\u001b[0m, in \u001b[0;36mEngineAPIResource.create\u001b[1;34m(cls, api_key, api_base, api_type, request_id, api_version, organization, **params)\u001b[0m\n\u001b[0;32m    127\u001b[0m \u001b[39m@classmethod\u001b[39m\n\u001b[0;32m    128\u001b[0m \u001b[39mdef\u001b[39;00m \u001b[39mcreate\u001b[39m(\n\u001b[0;32m    129\u001b[0m     \u001b[39mcls\u001b[39m,\n\u001b[1;32m   (...)\u001b[0m\n\u001b[0;32m    136\u001b[0m     \u001b[39m*\u001b[39m\u001b[39m*\u001b[39mparams,\n\u001b[0;32m    137\u001b[0m ):\n\u001b[0;32m    138\u001b[0m     (\n\u001b[0;32m    139\u001b[0m         deployment_id,\n\u001b[0;32m    140\u001b[0m         engine,\n\u001b[1;32m   (...)\u001b[0m\n\u001b[0;32m    150\u001b[0m         api_key, api_base, api_type, api_version, organization, \u001b[39m*\u001b[39m\u001b[39m*\u001b[39mparams\n\u001b[0;32m    151\u001b[0m     )\n\u001b[1;32m--> 153\u001b[0m     response, _, api_key \u001b[39m=\u001b[39m requestor\u001b[39m.\u001b[39;49mrequest(\n\u001b[0;32m    154\u001b[0m         \u001b[39m\"\u001b[39;49m\u001b[39mpost\u001b[39;49m\u001b[39m\"\u001b[39;49m,\n\u001b[0;32m    155\u001b[0m         url,\n\u001b[0;32m    156\u001b[0m         params\u001b[39m=\u001b[39;49mparams,\n\u001b[0;32m    157\u001b[0m         headers\u001b[39m=\u001b[39;49mheaders,\n\u001b[0;32m    158\u001b[0m         stream\u001b[39m=\u001b[39;49mstream,\n\u001b[0;32m    159\u001b[0m         request_id\u001b[39m=\u001b[39;49mrequest_id,\n\u001b[0;32m    160\u001b[0m         request_timeout\u001b[39m=\u001b[39;49mrequest_timeout,\n\u001b[0;32m    161\u001b[0m     )\n\u001b[0;32m    163\u001b[0m     \u001b[39mif\u001b[39;00m stream:\n\u001b[0;32m    164\u001b[0m         \u001b[39m# must be an iterator\u001b[39;00m\n\u001b[0;32m    165\u001b[0m         \u001b[39massert\u001b[39;00m \u001b[39mnot\u001b[39;00m \u001b[39misinstance\u001b[39m(response, OpenAIResponse)\n",
      "File \u001b[1;32md:\\Anaconda\\envs\\deeplakelangchain\\lib\\site-packages\\openai\\api_requestor.py:298\u001b[0m, in \u001b[0;36mAPIRequestor.request\u001b[1;34m(self, method, url, params, headers, files, stream, request_id, request_timeout)\u001b[0m\n\u001b[0;32m    277\u001b[0m \u001b[39mdef\u001b[39;00m \u001b[39mrequest\u001b[39m(\n\u001b[0;32m    278\u001b[0m     \u001b[39mself\u001b[39m,\n\u001b[0;32m    279\u001b[0m     method,\n\u001b[1;32m   (...)\u001b[0m\n\u001b[0;32m    286\u001b[0m     request_timeout: Optional[Union[\u001b[39mfloat\u001b[39m, Tuple[\u001b[39mfloat\u001b[39m, \u001b[39mfloat\u001b[39m]]] \u001b[39m=\u001b[39m \u001b[39mNone\u001b[39;00m,\n\u001b[0;32m    287\u001b[0m ) \u001b[39m-\u001b[39m\u001b[39m>\u001b[39m Tuple[Union[OpenAIResponse, Iterator[OpenAIResponse]], \u001b[39mbool\u001b[39m, \u001b[39mstr\u001b[39m]:\n\u001b[0;32m    288\u001b[0m     result \u001b[39m=\u001b[39m \u001b[39mself\u001b[39m\u001b[39m.\u001b[39mrequest_raw(\n\u001b[0;32m    289\u001b[0m         method\u001b[39m.\u001b[39mlower(),\n\u001b[0;32m    290\u001b[0m         url,\n\u001b[1;32m   (...)\u001b[0m\n\u001b[0;32m    296\u001b[0m         request_timeout\u001b[39m=\u001b[39mrequest_timeout,\n\u001b[0;32m    297\u001b[0m     )\n\u001b[1;32m--> 298\u001b[0m     resp, got_stream \u001b[39m=\u001b[39m \u001b[39mself\u001b[39;49m\u001b[39m.\u001b[39;49m_interpret_response(result, stream)\n\u001b[0;32m    299\u001b[0m     \u001b[39mreturn\u001b[39;00m resp, got_stream, \u001b[39mself\u001b[39m\u001b[39m.\u001b[39mapi_key\n",
      "File \u001b[1;32md:\\Anaconda\\envs\\deeplakelangchain\\lib\\site-packages\\openai\\api_requestor.py:700\u001b[0m, in \u001b[0;36mAPIRequestor._interpret_response\u001b[1;34m(self, result, stream)\u001b[0m\n\u001b[0;32m    692\u001b[0m     \u001b[39mreturn\u001b[39;00m (\n\u001b[0;32m    693\u001b[0m         \u001b[39mself\u001b[39m\u001b[39m.\u001b[39m_interpret_response_line(\n\u001b[0;32m    694\u001b[0m             line, result\u001b[39m.\u001b[39mstatus_code, result\u001b[39m.\u001b[39mheaders, stream\u001b[39m=\u001b[39m\u001b[39mTrue\u001b[39;00m\n\u001b[0;32m    695\u001b[0m         )\n\u001b[0;32m    696\u001b[0m         \u001b[39mfor\u001b[39;00m line \u001b[39min\u001b[39;00m parse_stream(result\u001b[39m.\u001b[39miter_lines())\n\u001b[0;32m    697\u001b[0m     ), \u001b[39mTrue\u001b[39;00m\n\u001b[0;32m    698\u001b[0m \u001b[39melse\u001b[39;00m:\n\u001b[0;32m    699\u001b[0m     \u001b[39mreturn\u001b[39;00m (\n\u001b[1;32m--> 700\u001b[0m         \u001b[39mself\u001b[39;49m\u001b[39m.\u001b[39;49m_interpret_response_line(\n\u001b[0;32m    701\u001b[0m             result\u001b[39m.\u001b[39;49mcontent\u001b[39m.\u001b[39;49mdecode(\u001b[39m\"\u001b[39;49m\u001b[39mutf-8\u001b[39;49m\u001b[39m\"\u001b[39;49m),\n\u001b[0;32m    702\u001b[0m             result\u001b[39m.\u001b[39;49mstatus_code,\n\u001b[0;32m    703\u001b[0m             result\u001b[39m.\u001b[39;49mheaders,\n\u001b[0;32m    704\u001b[0m             stream\u001b[39m=\u001b[39;49m\u001b[39mFalse\u001b[39;49;00m,\n\u001b[0;32m    705\u001b[0m         ),\n\u001b[0;32m    706\u001b[0m         \u001b[39mFalse\u001b[39;00m,\n\u001b[0;32m    707\u001b[0m     )\n",
      "File \u001b[1;32md:\\Anaconda\\envs\\deeplakelangchain\\lib\\site-packages\\openai\\api_requestor.py:763\u001b[0m, in \u001b[0;36mAPIRequestor._interpret_response_line\u001b[1;34m(self, rbody, rcode, rheaders, stream)\u001b[0m\n\u001b[0;32m    761\u001b[0m stream_error \u001b[39m=\u001b[39m stream \u001b[39mand\u001b[39;00m \u001b[39m\"\u001b[39m\u001b[39merror\u001b[39m\u001b[39m\"\u001b[39m \u001b[39min\u001b[39;00m resp\u001b[39m.\u001b[39mdata\n\u001b[0;32m    762\u001b[0m \u001b[39mif\u001b[39;00m stream_error \u001b[39mor\u001b[39;00m \u001b[39mnot\u001b[39;00m \u001b[39m200\u001b[39m \u001b[39m<\u001b[39m\u001b[39m=\u001b[39m rcode \u001b[39m<\u001b[39m \u001b[39m300\u001b[39m:\n\u001b[1;32m--> 763\u001b[0m     \u001b[39mraise\u001b[39;00m \u001b[39mself\u001b[39m\u001b[39m.\u001b[39mhandle_error_response(\n\u001b[0;32m    764\u001b[0m         rbody, rcode, resp\u001b[39m.\u001b[39mdata, rheaders, stream_error\u001b[39m=\u001b[39mstream_error\n\u001b[0;32m    765\u001b[0m     )\n\u001b[0;32m    766\u001b[0m \u001b[39mreturn\u001b[39;00m resp\n",
      "\u001b[1;31mInvalidRequestError\u001b[0m: This model's maximum context length is 4097 tokens, however you requested 31513 tokens (31257 in your prompt; 256 for the completion). Please reduce your prompt; or completion length."
     ]
    }
   ],
   "source": [
    "# Describe your query here\n",
    "query = \"\"\"\\\n",
    "Give me the list of regions where Naphtha is present?(No Limit)\n",
    "\"\"\"\n",
    "\n",
    "agent_executor.run(query)"
   ]
  },
  {
   "cell_type": "code",
   "execution_count": 22,
   "metadata": {},
   "outputs": [
    {
     "name": "stdout",
     "output_type": "stream",
     "text": [
      "\n",
      "\n",
      "\u001b[1m> Entering new  chain...\u001b[0m\n",
      "Give me the list of regions where Naphtha is present?(No Limit)\n",
      "\n",
      "SQLQuery:\u001b[32;1m\u001b[1;3mSELECT DISTINCT \"RegionName\" FROM tabular_data WHERE \"Product Name\" = 'Naphtha';\u001b[0m\n",
      "SQLResult: \u001b[33;1m\u001b[1;3m[('Asia',), ('Europe',)]\u001b[0m\n",
      "Answer:\u001b[32;1m\u001b[1;3mThe list of regions where Naphtha is present is Asia and Europe.\u001b[0m\n",
      "\u001b[1m> Finished chain.\u001b[0m\n"
     ]
    },
    {
     "data": {
      "text/plain": [
       "'The list of regions where Naphtha is present is Asia and Europe.'"
      ]
     },
     "execution_count": 22,
     "metadata": {},
     "output_type": "execute_result"
    }
   ],
   "source": [
    "# query = \"\"\"\\\n",
    "# What is the monthly price trend for the product Woven yarn for the calender year 2021?(No limits)\n",
    "# \"\"\"\n",
    "db_chain.run(query)"
   ]
  },
  {
   "attachments": {},
   "cell_type": "markdown",
   "metadata": {},
   "source": [
    "### Query 10"
   ]
  },
  {
   "cell_type": "code",
   "execution_count": 28,
   "metadata": {},
   "outputs": [
    {
     "name": "stdout",
     "output_type": "stream",
     "text": [
      "\n",
      "\n",
      "\u001b[1m> Entering new  chain...\u001b[0m\n",
      "What is the average price of 100% Polyester Yarn for the year 2022?\n",
      "SQLQuery:\u001b[32;1m\u001b[1;3mSELECT AVG(\"Value\") FROM tabular_data WHERE \"Product Name\" = '100% Polyester Yarn' AND \"Report Time\" LIKE '2022%';\u001b[0m\n",
      "SQLResult: \u001b[33;1m\u001b[1;3m[(1594.7749610894914,)]\u001b[0m\n",
      "Answer:\u001b[32;1m\u001b[1;3mThe average price of 100% Polyester Yarn for the year 2022 is 1594.7749610894914.\u001b[0m\n",
      "\u001b[1m> Finished chain.\u001b[0m\n",
      "\n",
      "\n",
      "\u001b[1m> Entering new  chain...\u001b[0m\n",
      "What is the average price of 100% Polyester Yarn for the year 2021?\n",
      "SQLQuery:\u001b[32;1m\u001b[1;3mSELECT AVG(\"Value\") FROM tabular_data WHERE \"Product Name\" = '100% Polyester Yarn' AND \"Report Time\" LIKE '2021%';\u001b[0m\n",
      "SQLResult: \u001b[33;1m\u001b[1;3m[(1416.8850398633228,)]\u001b[0m\n",
      "Answer:\u001b[32;1m\u001b[1;3mThe average price of 100% Polyester Yarn for the year 2021 is 1416.8850398633228.\u001b[0m\n",
      "\u001b[1m> Finished chain.\u001b[0m\n",
      "\n",
      "\n",
      "\u001b[1m> Entering new  chain...\u001b[0m\n",
      "What is the average price of 100% Polyester Yarn for the year 2020?\n",
      "SQLQuery:\u001b[32;1m\u001b[1;3mSELECT AVG(\"Value\") FROM tabular_data WHERE \"Product Name\" = '100% Polyester Yarn' AND \"Report Time\" LIKE '2020%';\u001b[0m\n",
      "SQLResult: \u001b[33;1m\u001b[1;3m[(1.634268199233724,)]\u001b[0m\n",
      "Answer:\u001b[32;1m\u001b[1;3mThe average price of 100% Polyester Yarn for the year 2020 is 1.63.\u001b[0m\n",
      "\u001b[1m> Finished chain.\u001b[0m\n"
     ]
    }
   ],
   "source": [
    "query =\"What is the average price of 100% Polyester Yarn for the year 2022?\"\n",
    "result1 = db_chain.run(query)\n",
    "query =\"What is the average price of 100% Polyester Yarn for the year 2021?\"\n",
    "result2 = db_chain.run(query)\n",
    "query =\"What is the average price of 100% Polyester Yarn for the year 2020?\"\n",
    "result3 = db_chain.run(query)\n"
   ]
  },
  {
   "cell_type": "code",
   "execution_count": 36,
   "metadata": {},
   "outputs": [
    {
     "data": {
      "text/plain": [
       "'The average price of 100% Polyester Yarn for the year 2022 is 1594.7749610894914.The average price of 100% Polyester Yarn for the year 2021 is 1416.8850398633228.The average price of 100% Polyester Yarn for the year 2020 is 1.63. What is the change of 100% Polyester Yarn price on year on year basis?'"
      ]
     },
     "execution_count": 36,
     "metadata": {},
     "output_type": "execute_result"
    }
   ],
   "source": [
    "query = result1+result2+result3+\" What is the change of 100% Polyester Yarn price on year on year basis?\"\n",
    "query"
   ]
  },
  {
   "cell_type": "code",
   "execution_count": 37,
   "metadata": {},
   "outputs": [
    {
     "data": {
      "text/plain": [
       "'\\n\\nThe change in price of 100% Polyester Yarn on a year-on-year basis is 177.8899212261686.'"
      ]
     },
     "execution_count": 37,
     "metadata": {},
     "output_type": "execute_result"
    }
   ],
   "source": [
    "llm(query)"
   ]
  },
  {
   "cell_type": "code",
   "execution_count": 38,
   "metadata": {},
   "outputs": [
    {
     "data": {
      "text/plain": [
       "177.88992122616855"
      ]
     },
     "execution_count": 38,
     "metadata": {},
     "output_type": "execute_result"
    }
   ],
   "source": [
    "(1594.7749610894914-1416.8850398633228)\n",
    "# /1416.8850398633228"
   ]
  },
  {
   "cell_type": "code",
   "execution_count": 34,
   "metadata": {},
   "outputs": [
    {
     "data": {
      "text/plain": [
       "865.9844034948928"
      ]
     },
     "execution_count": 34,
     "metadata": {},
     "output_type": "execute_result"
    }
   ],
   "source": [
    "(1416.8850398633228-1.634268199233724)/1.634268199233724"
   ]
  },
  {
   "attachments": {},
   "cell_type": "markdown",
   "metadata": {},
   "source": [
    "## Query10"
   ]
  },
  {
   "cell_type": "code",
   "execution_count": 41,
   "metadata": {},
   "outputs": [
    {
     "data": {
      "text/plain": [
       "'\\n\\nUnfortunately, it is not possible to provide an exact answer to this question without more specific information about the prices of Acrylic knitted yarn with 24/2 over the last 10 years.'"
      ]
     },
     "execution_count": 41,
     "metadata": {},
     "output_type": "execute_result"
    }
   ],
   "source": [
    "query = \"What is the CAGR of prices for Acrylic knitted yarn with 24/2 of the last 10 years?(No Limits)\"\n",
    "llm(query)"
   ]
  },
  {
   "cell_type": "code",
   "execution_count": 42,
   "metadata": {},
   "outputs": [
    {
     "name": "stdout",
     "output_type": "stream",
     "text": [
      "\n",
      "\n",
      "\u001b[1m> Entering new  chain...\u001b[0m\n",
      "What is the CAGR of prices for Acrylic knitted yarn with 24/2 of the last 10 years?(No Limits)\n",
      "SQLQuery:\u001b[32;1m\u001b[1;3mSELECT \"Product Name\", \"Sub Product\", \"TermName\", \"Value\", \"Report Time\", ((\"Value\" / (SELECT \"Value\" FROM tabular_data WHERE \"Product Name\" = 'Acrylic knitted yarn' AND \"Sub Product\" = '24/2' AND \"Report Time\" < date('now', '-10 years'))) ^ (1.0/10.0) - 1.0) AS \"CAGR\" FROM tabular_data WHERE \"Product Name\" = 'Acrylic knitted yarn' AND \"Sub Product\" = '24/2' AND \"Report Time\" >= date('now', '-10 years') ORDER BY \"Report Time\" DESC;\u001b[0m"
     ]
    },
    {
     "ename": "OperationalError",
     "evalue": "(sqlite3.OperationalError) unrecognized token: \"^\"\n[SQL: SELECT \"Product Name\", \"Sub Product\", \"TermName\", \"Value\", \"Report Time\", ((\"Value\" / (SELECT \"Value\" FROM tabular_data WHERE \"Product Name\" = 'Acrylic knitted yarn' AND \"Sub Product\" = '24/2' AND \"Report Time\" < date('now', '-10 years'))) ^ (1.0/10.0) - 1.0) AS \"CAGR\" FROM tabular_data WHERE \"Product Name\" = 'Acrylic knitted yarn' AND \"Sub Product\" = '24/2' AND \"Report Time\" >= date('now', '-10 years') ORDER BY \"Report Time\" DESC;]\n(Background on this error at: https://sqlalche.me/e/20/e3q8)",
     "output_type": "error",
     "traceback": [
      "\u001b[1;31m---------------------------------------------------------------------------\u001b[0m",
      "\u001b[1;31mOperationalError\u001b[0m                          Traceback (most recent call last)",
      "File \u001b[1;32md:\\Anaconda\\envs\\deeplakelangchain\\lib\\site-packages\\sqlalchemy\\engine\\base.py:1965\u001b[0m, in \u001b[0;36mConnection._exec_single_context\u001b[1;34m(self, dialect, context, statement, parameters)\u001b[0m\n\u001b[0;32m   1964\u001b[0m     \u001b[39mif\u001b[39;00m \u001b[39mnot\u001b[39;00m evt_handled:\n\u001b[1;32m-> 1965\u001b[0m         \u001b[39mself\u001b[39;49m\u001b[39m.\u001b[39;49mdialect\u001b[39m.\u001b[39;49mdo_execute(\n\u001b[0;32m   1966\u001b[0m             cursor, str_statement, effective_parameters, context\n\u001b[0;32m   1967\u001b[0m         )\n\u001b[0;32m   1969\u001b[0m \u001b[39mif\u001b[39;00m \u001b[39mself\u001b[39m\u001b[39m.\u001b[39m_has_events \u001b[39mor\u001b[39;00m \u001b[39mself\u001b[39m\u001b[39m.\u001b[39mengine\u001b[39m.\u001b[39m_has_events:\n",
      "File \u001b[1;32md:\\Anaconda\\envs\\deeplakelangchain\\lib\\site-packages\\sqlalchemy\\engine\\default.py:921\u001b[0m, in \u001b[0;36mDefaultDialect.do_execute\u001b[1;34m(self, cursor, statement, parameters, context)\u001b[0m\n\u001b[0;32m    920\u001b[0m \u001b[39mdef\u001b[39;00m \u001b[39mdo_execute\u001b[39m(\u001b[39mself\u001b[39m, cursor, statement, parameters, context\u001b[39m=\u001b[39m\u001b[39mNone\u001b[39;00m):\n\u001b[1;32m--> 921\u001b[0m     cursor\u001b[39m.\u001b[39;49mexecute(statement, parameters)\n",
      "\u001b[1;31mOperationalError\u001b[0m: unrecognized token: \"^\"",
      "\nThe above exception was the direct cause of the following exception:\n",
      "\u001b[1;31mOperationalError\u001b[0m                          Traceback (most recent call last)",
      "Cell \u001b[1;32mIn[42], line 1\u001b[0m\n\u001b[1;32m----> 1\u001b[0m db_chain\u001b[39m.\u001b[39;49mrun(query)\n",
      "File \u001b[1;32md:\\Anaconda\\envs\\deeplakelangchain\\lib\\site-packages\\langchain\\chains\\base.py:290\u001b[0m, in \u001b[0;36mChain.run\u001b[1;34m(self, callbacks, tags, *args, **kwargs)\u001b[0m\n\u001b[0;32m    288\u001b[0m     \u001b[39mif\u001b[39;00m \u001b[39mlen\u001b[39m(args) \u001b[39m!=\u001b[39m \u001b[39m1\u001b[39m:\n\u001b[0;32m    289\u001b[0m         \u001b[39mraise\u001b[39;00m \u001b[39mValueError\u001b[39;00m(\u001b[39m\"\u001b[39m\u001b[39m`run` supports only one positional argument.\u001b[39m\u001b[39m\"\u001b[39m)\n\u001b[1;32m--> 290\u001b[0m     \u001b[39mreturn\u001b[39;00m \u001b[39mself\u001b[39;49m(args[\u001b[39m0\u001b[39;49m], callbacks\u001b[39m=\u001b[39;49mcallbacks, tags\u001b[39m=\u001b[39;49mtags)[_output_key]\n\u001b[0;32m    292\u001b[0m \u001b[39mif\u001b[39;00m kwargs \u001b[39mand\u001b[39;00m \u001b[39mnot\u001b[39;00m args:\n\u001b[0;32m    293\u001b[0m     \u001b[39mreturn\u001b[39;00m \u001b[39mself\u001b[39m(kwargs, callbacks\u001b[39m=\u001b[39mcallbacks, tags\u001b[39m=\u001b[39mtags)[_output_key]\n",
      "File \u001b[1;32md:\\Anaconda\\envs\\deeplakelangchain\\lib\\site-packages\\langchain\\chains\\base.py:166\u001b[0m, in \u001b[0;36mChain.__call__\u001b[1;34m(self, inputs, return_only_outputs, callbacks, tags, include_run_info)\u001b[0m\n\u001b[0;32m    164\u001b[0m \u001b[39mexcept\u001b[39;00m (\u001b[39mKeyboardInterrupt\u001b[39;00m, \u001b[39mException\u001b[39;00m) \u001b[39mas\u001b[39;00m e:\n\u001b[0;32m    165\u001b[0m     run_manager\u001b[39m.\u001b[39mon_chain_error(e)\n\u001b[1;32m--> 166\u001b[0m     \u001b[39mraise\u001b[39;00m e\n\u001b[0;32m    167\u001b[0m run_manager\u001b[39m.\u001b[39mon_chain_end(outputs)\n\u001b[0;32m    168\u001b[0m final_outputs: Dict[\u001b[39mstr\u001b[39m, Any] \u001b[39m=\u001b[39m \u001b[39mself\u001b[39m\u001b[39m.\u001b[39mprep_outputs(\n\u001b[0;32m    169\u001b[0m     inputs, outputs, return_only_outputs\n\u001b[0;32m    170\u001b[0m )\n",
      "File \u001b[1;32md:\\Anaconda\\envs\\deeplakelangchain\\lib\\site-packages\\langchain\\chains\\base.py:160\u001b[0m, in \u001b[0;36mChain.__call__\u001b[1;34m(self, inputs, return_only_outputs, callbacks, tags, include_run_info)\u001b[0m\n\u001b[0;32m    154\u001b[0m run_manager \u001b[39m=\u001b[39m callback_manager\u001b[39m.\u001b[39mon_chain_start(\n\u001b[0;32m    155\u001b[0m     dumpd(\u001b[39mself\u001b[39m),\n\u001b[0;32m    156\u001b[0m     inputs,\n\u001b[0;32m    157\u001b[0m )\n\u001b[0;32m    158\u001b[0m \u001b[39mtry\u001b[39;00m:\n\u001b[0;32m    159\u001b[0m     outputs \u001b[39m=\u001b[39m (\n\u001b[1;32m--> 160\u001b[0m         \u001b[39mself\u001b[39;49m\u001b[39m.\u001b[39;49m_call(inputs, run_manager\u001b[39m=\u001b[39;49mrun_manager)\n\u001b[0;32m    161\u001b[0m         \u001b[39mif\u001b[39;00m new_arg_supported\n\u001b[0;32m    162\u001b[0m         \u001b[39melse\u001b[39;00m \u001b[39mself\u001b[39m\u001b[39m.\u001b[39m_call(inputs)\n\u001b[0;32m    163\u001b[0m     )\n\u001b[0;32m    164\u001b[0m \u001b[39mexcept\u001b[39;00m (\u001b[39mKeyboardInterrupt\u001b[39;00m, \u001b[39mException\u001b[39;00m) \u001b[39mas\u001b[39;00m e:\n\u001b[0;32m    165\u001b[0m     run_manager\u001b[39m.\u001b[39mon_chain_error(e)\n",
      "File \u001b[1;32md:\\Anaconda\\envs\\deeplakelangchain\\lib\\site-packages\\langchain\\chains\\sql_database\\base.py:181\u001b[0m, in \u001b[0;36mSQLDatabaseChain._call\u001b[1;34m(self, inputs, run_manager)\u001b[0m\n\u001b[0;32m    177\u001b[0m \u001b[39mexcept\u001b[39;00m \u001b[39mException\u001b[39;00m \u001b[39mas\u001b[39;00m exc:\n\u001b[0;32m    178\u001b[0m     \u001b[39m# Append intermediate steps to exception, to aid in logging and later\u001b[39;00m\n\u001b[0;32m    179\u001b[0m     \u001b[39m# improvement of few shot prompt seeds\u001b[39;00m\n\u001b[0;32m    180\u001b[0m     exc\u001b[39m.\u001b[39mintermediate_steps \u001b[39m=\u001b[39m intermediate_steps  \u001b[39m# type: ignore\u001b[39;00m\n\u001b[1;32m--> 181\u001b[0m     \u001b[39mraise\u001b[39;00m exc\n",
      "File \u001b[1;32md:\\Anaconda\\envs\\deeplakelangchain\\lib\\site-packages\\langchain\\chains\\sql_database\\base.py:126\u001b[0m, in \u001b[0;36mSQLDatabaseChain._call\u001b[1;34m(self, inputs, run_manager)\u001b[0m\n\u001b[0;32m    122\u001b[0m     intermediate_steps\u001b[39m.\u001b[39mappend(\n\u001b[0;32m    123\u001b[0m         sql_cmd\n\u001b[0;32m    124\u001b[0m     )  \u001b[39m# output: sql generation (no checker)\u001b[39;00m\n\u001b[0;32m    125\u001b[0m     intermediate_steps\u001b[39m.\u001b[39mappend({\u001b[39m\"\u001b[39m\u001b[39msql_cmd\u001b[39m\u001b[39m\"\u001b[39m: sql_cmd})  \u001b[39m# input: sql exec\u001b[39;00m\n\u001b[1;32m--> 126\u001b[0m     result \u001b[39m=\u001b[39m \u001b[39mself\u001b[39;49m\u001b[39m.\u001b[39;49mdatabase\u001b[39m.\u001b[39;49mrun(sql_cmd)\n\u001b[0;32m    127\u001b[0m     intermediate_steps\u001b[39m.\u001b[39mappend(\u001b[39mstr\u001b[39m(result))  \u001b[39m# output: sql exec\u001b[39;00m\n\u001b[0;32m    128\u001b[0m \u001b[39melse\u001b[39;00m:\n",
      "File \u001b[1;32md:\\Anaconda\\envs\\deeplakelangchain\\lib\\site-packages\\langchain\\sql_database.py:348\u001b[0m, in \u001b[0;36mSQLDatabase.run\u001b[1;34m(self, command, fetch)\u001b[0m\n\u001b[0;32m    346\u001b[0m     \u001b[39melse\u001b[39;00m:\n\u001b[0;32m    347\u001b[0m         connection\u001b[39m.\u001b[39mexec_driver_sql(\u001b[39mf\u001b[39m\u001b[39m\"\u001b[39m\u001b[39mSET search_path TO \u001b[39m\u001b[39m{\u001b[39;00m\u001b[39mself\u001b[39m\u001b[39m.\u001b[39m_schema\u001b[39m}\u001b[39;00m\u001b[39m\"\u001b[39m)\n\u001b[1;32m--> 348\u001b[0m cursor \u001b[39m=\u001b[39m connection\u001b[39m.\u001b[39;49mexecute(text(command))\n\u001b[0;32m    349\u001b[0m \u001b[39mif\u001b[39;00m cursor\u001b[39m.\u001b[39mreturns_rows:\n\u001b[0;32m    350\u001b[0m     \u001b[39mif\u001b[39;00m fetch \u001b[39m==\u001b[39m \u001b[39m\"\u001b[39m\u001b[39mall\u001b[39m\u001b[39m\"\u001b[39m:\n",
      "File \u001b[1;32md:\\Anaconda\\envs\\deeplakelangchain\\lib\\site-packages\\sqlalchemy\\engine\\base.py:1412\u001b[0m, in \u001b[0;36mConnection.execute\u001b[1;34m(self, statement, parameters, execution_options)\u001b[0m\n\u001b[0;32m   1410\u001b[0m     \u001b[39mraise\u001b[39;00m exc\u001b[39m.\u001b[39mObjectNotExecutableError(statement) \u001b[39mfrom\u001b[39;00m \u001b[39merr\u001b[39;00m\n\u001b[0;32m   1411\u001b[0m \u001b[39melse\u001b[39;00m:\n\u001b[1;32m-> 1412\u001b[0m     \u001b[39mreturn\u001b[39;00m meth(\n\u001b[0;32m   1413\u001b[0m         \u001b[39mself\u001b[39;49m,\n\u001b[0;32m   1414\u001b[0m         distilled_parameters,\n\u001b[0;32m   1415\u001b[0m         execution_options \u001b[39mor\u001b[39;49;00m NO_OPTIONS,\n\u001b[0;32m   1416\u001b[0m     )\n",
      "File \u001b[1;32md:\\Anaconda\\envs\\deeplakelangchain\\lib\\site-packages\\sqlalchemy\\sql\\elements.py:483\u001b[0m, in \u001b[0;36mClauseElement._execute_on_connection\u001b[1;34m(self, connection, distilled_params, execution_options)\u001b[0m\n\u001b[0;32m    481\u001b[0m     \u001b[39mif\u001b[39;00m TYPE_CHECKING:\n\u001b[0;32m    482\u001b[0m         \u001b[39massert\u001b[39;00m \u001b[39misinstance\u001b[39m(\u001b[39mself\u001b[39m, Executable)\n\u001b[1;32m--> 483\u001b[0m     \u001b[39mreturn\u001b[39;00m connection\u001b[39m.\u001b[39;49m_execute_clauseelement(\n\u001b[0;32m    484\u001b[0m         \u001b[39mself\u001b[39;49m, distilled_params, execution_options\n\u001b[0;32m    485\u001b[0m     )\n\u001b[0;32m    486\u001b[0m \u001b[39melse\u001b[39;00m:\n\u001b[0;32m    487\u001b[0m     \u001b[39mraise\u001b[39;00m exc\u001b[39m.\u001b[39mObjectNotExecutableError(\u001b[39mself\u001b[39m)\n",
      "File \u001b[1;32md:\\Anaconda\\envs\\deeplakelangchain\\lib\\site-packages\\sqlalchemy\\engine\\base.py:1635\u001b[0m, in \u001b[0;36mConnection._execute_clauseelement\u001b[1;34m(self, elem, distilled_parameters, execution_options)\u001b[0m\n\u001b[0;32m   1623\u001b[0m compiled_cache: Optional[CompiledCacheType] \u001b[39m=\u001b[39m execution_options\u001b[39m.\u001b[39mget(\n\u001b[0;32m   1624\u001b[0m     \u001b[39m\"\u001b[39m\u001b[39mcompiled_cache\u001b[39m\u001b[39m\"\u001b[39m, \u001b[39mself\u001b[39m\u001b[39m.\u001b[39mengine\u001b[39m.\u001b[39m_compiled_cache\n\u001b[0;32m   1625\u001b[0m )\n\u001b[0;32m   1627\u001b[0m compiled_sql, extracted_params, cache_hit \u001b[39m=\u001b[39m elem\u001b[39m.\u001b[39m_compile_w_cache(\n\u001b[0;32m   1628\u001b[0m     dialect\u001b[39m=\u001b[39mdialect,\n\u001b[0;32m   1629\u001b[0m     compiled_cache\u001b[39m=\u001b[39mcompiled_cache,\n\u001b[1;32m   (...)\u001b[0m\n\u001b[0;32m   1633\u001b[0m     linting\u001b[39m=\u001b[39m\u001b[39mself\u001b[39m\u001b[39m.\u001b[39mdialect\u001b[39m.\u001b[39mcompiler_linting \u001b[39m|\u001b[39m compiler\u001b[39m.\u001b[39mWARN_LINTING,\n\u001b[0;32m   1634\u001b[0m )\n\u001b[1;32m-> 1635\u001b[0m ret \u001b[39m=\u001b[39m \u001b[39mself\u001b[39;49m\u001b[39m.\u001b[39;49m_execute_context(\n\u001b[0;32m   1636\u001b[0m     dialect,\n\u001b[0;32m   1637\u001b[0m     dialect\u001b[39m.\u001b[39;49mexecution_ctx_cls\u001b[39m.\u001b[39;49m_init_compiled,\n\u001b[0;32m   1638\u001b[0m     compiled_sql,\n\u001b[0;32m   1639\u001b[0m     distilled_parameters,\n\u001b[0;32m   1640\u001b[0m     execution_options,\n\u001b[0;32m   1641\u001b[0m     compiled_sql,\n\u001b[0;32m   1642\u001b[0m     distilled_parameters,\n\u001b[0;32m   1643\u001b[0m     elem,\n\u001b[0;32m   1644\u001b[0m     extracted_params,\n\u001b[0;32m   1645\u001b[0m     cache_hit\u001b[39m=\u001b[39;49mcache_hit,\n\u001b[0;32m   1646\u001b[0m )\n\u001b[0;32m   1647\u001b[0m \u001b[39mif\u001b[39;00m has_events:\n\u001b[0;32m   1648\u001b[0m     \u001b[39mself\u001b[39m\u001b[39m.\u001b[39mdispatch\u001b[39m.\u001b[39mafter_execute(\n\u001b[0;32m   1649\u001b[0m         \u001b[39mself\u001b[39m,\n\u001b[0;32m   1650\u001b[0m         elem,\n\u001b[1;32m   (...)\u001b[0m\n\u001b[0;32m   1654\u001b[0m         ret,\n\u001b[0;32m   1655\u001b[0m     )\n",
      "File \u001b[1;32md:\\Anaconda\\envs\\deeplakelangchain\\lib\\site-packages\\sqlalchemy\\engine\\base.py:1844\u001b[0m, in \u001b[0;36mConnection._execute_context\u001b[1;34m(self, dialect, constructor, statement, parameters, execution_options, *args, **kw)\u001b[0m\n\u001b[0;32m   1839\u001b[0m     \u001b[39mreturn\u001b[39;00m \u001b[39mself\u001b[39m\u001b[39m.\u001b[39m_exec_insertmany_context(\n\u001b[0;32m   1840\u001b[0m         dialect,\n\u001b[0;32m   1841\u001b[0m         context,\n\u001b[0;32m   1842\u001b[0m     )\n\u001b[0;32m   1843\u001b[0m \u001b[39melse\u001b[39;00m:\n\u001b[1;32m-> 1844\u001b[0m     \u001b[39mreturn\u001b[39;00m \u001b[39mself\u001b[39;49m\u001b[39m.\u001b[39;49m_exec_single_context(\n\u001b[0;32m   1845\u001b[0m         dialect, context, statement, parameters\n\u001b[0;32m   1846\u001b[0m     )\n",
      "File \u001b[1;32md:\\Anaconda\\envs\\deeplakelangchain\\lib\\site-packages\\sqlalchemy\\engine\\base.py:1984\u001b[0m, in \u001b[0;36mConnection._exec_single_context\u001b[1;34m(self, dialect, context, statement, parameters)\u001b[0m\n\u001b[0;32m   1981\u001b[0m     result \u001b[39m=\u001b[39m context\u001b[39m.\u001b[39m_setup_result_proxy()\n\u001b[0;32m   1983\u001b[0m \u001b[39mexcept\u001b[39;00m \u001b[39mBaseException\u001b[39;00m \u001b[39mas\u001b[39;00m e:\n\u001b[1;32m-> 1984\u001b[0m     \u001b[39mself\u001b[39;49m\u001b[39m.\u001b[39;49m_handle_dbapi_exception(\n\u001b[0;32m   1985\u001b[0m         e, str_statement, effective_parameters, cursor, context\n\u001b[0;32m   1986\u001b[0m     )\n\u001b[0;32m   1988\u001b[0m \u001b[39mreturn\u001b[39;00m result\n",
      "File \u001b[1;32md:\\Anaconda\\envs\\deeplakelangchain\\lib\\site-packages\\sqlalchemy\\engine\\base.py:2339\u001b[0m, in \u001b[0;36mConnection._handle_dbapi_exception\u001b[1;34m(self, e, statement, parameters, cursor, context, is_sub_exec)\u001b[0m\n\u001b[0;32m   2337\u001b[0m \u001b[39melif\u001b[39;00m should_wrap:\n\u001b[0;32m   2338\u001b[0m     \u001b[39massert\u001b[39;00m sqlalchemy_exception \u001b[39mis\u001b[39;00m \u001b[39mnot\u001b[39;00m \u001b[39mNone\u001b[39;00m\n\u001b[1;32m-> 2339\u001b[0m     \u001b[39mraise\u001b[39;00m sqlalchemy_exception\u001b[39m.\u001b[39mwith_traceback(exc_info[\u001b[39m2\u001b[39m]) \u001b[39mfrom\u001b[39;00m \u001b[39me\u001b[39;00m\n\u001b[0;32m   2340\u001b[0m \u001b[39melse\u001b[39;00m:\n\u001b[0;32m   2341\u001b[0m     \u001b[39massert\u001b[39;00m exc_info[\u001b[39m1\u001b[39m] \u001b[39mis\u001b[39;00m \u001b[39mnot\u001b[39;00m \u001b[39mNone\u001b[39;00m\n",
      "File \u001b[1;32md:\\Anaconda\\envs\\deeplakelangchain\\lib\\site-packages\\sqlalchemy\\engine\\base.py:1965\u001b[0m, in \u001b[0;36mConnection._exec_single_context\u001b[1;34m(self, dialect, context, statement, parameters)\u001b[0m\n\u001b[0;32m   1963\u001b[0m                 \u001b[39mbreak\u001b[39;00m\n\u001b[0;32m   1964\u001b[0m     \u001b[39mif\u001b[39;00m \u001b[39mnot\u001b[39;00m evt_handled:\n\u001b[1;32m-> 1965\u001b[0m         \u001b[39mself\u001b[39;49m\u001b[39m.\u001b[39;49mdialect\u001b[39m.\u001b[39;49mdo_execute(\n\u001b[0;32m   1966\u001b[0m             cursor, str_statement, effective_parameters, context\n\u001b[0;32m   1967\u001b[0m         )\n\u001b[0;32m   1969\u001b[0m \u001b[39mif\u001b[39;00m \u001b[39mself\u001b[39m\u001b[39m.\u001b[39m_has_events \u001b[39mor\u001b[39;00m \u001b[39mself\u001b[39m\u001b[39m.\u001b[39mengine\u001b[39m.\u001b[39m_has_events:\n\u001b[0;32m   1970\u001b[0m     \u001b[39mself\u001b[39m\u001b[39m.\u001b[39mdispatch\u001b[39m.\u001b[39mafter_cursor_execute(\n\u001b[0;32m   1971\u001b[0m         \u001b[39mself\u001b[39m,\n\u001b[0;32m   1972\u001b[0m         cursor,\n\u001b[1;32m   (...)\u001b[0m\n\u001b[0;32m   1976\u001b[0m         context\u001b[39m.\u001b[39mexecutemany,\n\u001b[0;32m   1977\u001b[0m     )\n",
      "File \u001b[1;32md:\\Anaconda\\envs\\deeplakelangchain\\lib\\site-packages\\sqlalchemy\\engine\\default.py:921\u001b[0m, in \u001b[0;36mDefaultDialect.do_execute\u001b[1;34m(self, cursor, statement, parameters, context)\u001b[0m\n\u001b[0;32m    920\u001b[0m \u001b[39mdef\u001b[39;00m \u001b[39mdo_execute\u001b[39m(\u001b[39mself\u001b[39m, cursor, statement, parameters, context\u001b[39m=\u001b[39m\u001b[39mNone\u001b[39;00m):\n\u001b[1;32m--> 921\u001b[0m     cursor\u001b[39m.\u001b[39;49mexecute(statement, parameters)\n",
      "\u001b[1;31mOperationalError\u001b[0m: (sqlite3.OperationalError) unrecognized token: \"^\"\n[SQL: SELECT \"Product Name\", \"Sub Product\", \"TermName\", \"Value\", \"Report Time\", ((\"Value\" / (SELECT \"Value\" FROM tabular_data WHERE \"Product Name\" = 'Acrylic knitted yarn' AND \"Sub Product\" = '24/2' AND \"Report Time\" < date('now', '-10 years'))) ^ (1.0/10.0) - 1.0) AS \"CAGR\" FROM tabular_data WHERE \"Product Name\" = 'Acrylic knitted yarn' AND \"Sub Product\" = '24/2' AND \"Report Time\" >= date('now', '-10 years') ORDER BY \"Report Time\" DESC;]\n(Background on this error at: https://sqlalche.me/e/20/e3q8)"
     ]
    }
   ],
   "source": [
    "db_chain.run(query)"
   ]
  },
  {
   "cell_type": "code",
   "execution_count": null,
   "metadata": {},
   "outputs": [],
   "source": []
  }
 ],
 "metadata": {
  "kernelspec": {
   "display_name": "llm",
   "language": "python",
   "name": "python3"
  },
  "language_info": {
   "codemirror_mode": {
    "name": "ipython",
    "version": 3
   },
   "file_extension": ".py",
   "mimetype": "text/x-python",
   "name": "python",
   "nbconvert_exporter": "python",
   "pygments_lexer": "ipython3",
   "version": "3.10.11"
  },
  "orig_nbformat": 4
 },
 "nbformat": 4,
 "nbformat_minor": 2
}
